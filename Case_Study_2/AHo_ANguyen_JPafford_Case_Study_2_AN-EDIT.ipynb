{
 "cells": [
  {
   "cell_type": "markdown",
   "metadata": {},
   "source": [
    "# <div style=\"text-align:center\"> DS7333 - Case Study 2 | Real-Time Location System</div>\n",
    "### <div style=\"text-align:center\">Andy Ho, An Nguyen, Jodi Pafford</div>\n",
    "<div style=\"text-align:center\">May 18, 2019</div>"
   ]
  },
  {
   "cell_type": "markdown",
   "metadata": {},
   "source": [
    "## 1 Introduction\n",
    "In this case study, we will be analyzing the RTLS data set using the k-nearest neighbors to determine locations and to determine potential issues with decisions made regarding the use, and non-use, of the data. We will conduct a more thorough data analysis into these two MAC addresses (00:0f:a3:39:e1:c0 and 00:0f:a3:39:dd:cd) determining locations by using data corresponding to both MAC addresses.  The following questions will be answered:\n",
    "    - Which of these two MAC addresses should be used and which should not be used for RTLS?\n",
    "    - Which MAC address yields the best prediction of location?\n",
    "    - Does using data for both MAC addresses simultaneously yield more, or less, accurate prediction of location?\n",
    "    \n",
    "Furthermore, while k-nearest neighbors has proven to be a good approach to determining location, alternate approaches have been proposed.  One simple alternative approach is to use weights on the received signal strength, where the weight is inversely proportional to the “distance” from the test observation.  This allows for the “nearest” points to have a greater contribution to the k-nearest neighbor location calculation than the points that are “further” away.  We will implement  this alternative prediction method to answer:\n",
    "    - For what range of values of weights are you able to obtain better prediction values than for the unweighted k-nearest neighbor approach?"
   ]
  },
  {
   "cell_type": "markdown",
   "metadata": {},
   "source": [
    "## 2 Background"
   ]
  },
  {
   "cell_type": "markdown",
   "metadata": {},
   "source": [
    "## 3 Methods"
   ]
  },
  {
   "cell_type": "markdown",
   "metadata": {},
   "source": [
    "## 4 Results"
   ]
  },
  {
   "cell_type": "markdown",
   "metadata": {},
   "source": [
    "## 5 Conclusion"
   ]
  },
  {
   "cell_type": "markdown",
   "metadata": {},
   "source": [
    "## 6 Appendix - Code\n",
    "In this section, we'll use the offline.final.trace.txt and online.final.trace.txt data sets from http://rdatasciencecases.org to process, clean and build, explore, and analyze for the purposes of this assignment.  The code itself is directly from the textbook/website."
   ]
  },
  {
   "cell_type": "markdown",
   "metadata": {},
   "source": [
    "### 6.1 Process RAW Data"
   ]
  },
  {
   "cell_type": "code",
   "execution_count": 1,
   "metadata": {},
   "outputs": [
    {
     "name": "stderr",
     "output_type": "stream",
     "text": [
      "Warning message:\n",
      "\"package 'IRdisplay' was built under R version 3.4.4\""
     ]
    },
    {
     "data": {
      "text/html": [
       "<script>  \n",
       "code_show=true; \n",
       "function code_toggle() {\n",
       "  if (code_show){\n",
       "    $('div.input').hide();\n",
       "  } else {\n",
       "    $('div.input').show();\n",
       "  }\n",
       "  code_show = !code_show\n",
       "}  \n",
       "$( document ).ready(code_toggle);\n",
       "</script>\n",
       "  <form action=\"javascript:code_toggle()\">\n",
       "    <input type=\"submit\" value=\"Click here to toggle on/off the raw code.\">\n",
       " </form>"
      ]
     },
     "metadata": {},
     "output_type": "display_data"
    }
   ],
   "source": [
    "library(IRdisplay)\n",
    "\n",
    "display_html(\n",
    "'<script>  \n",
    "code_show=true; \n",
    "function code_toggle() {\n",
    "  if (code_show){\n",
    "    $(\\'div.input\\').hide();\n",
    "  } else {\n",
    "    $(\\'div.input\\').show();\n",
    "  }\n",
    "  code_show = !code_show\n",
    "}  \n",
    "$( document ).ready(code_toggle);\n",
    "</script>\n",
    "  <form action=\"javascript:code_toggle()\">\n",
    "    <input type=\"submit\" value=\"Click here to toggle on/off the raw code.\">\n",
    " </form>'\n",
    ")"
   ]
  },
  {
   "cell_type": "code",
   "execution_count": 2,
   "metadata": {},
   "outputs": [
    {
     "name": "stdout",
     "output_type": "stream",
     "text": [
      "[1] \"Number of lines that are comments: 5312 out of 151392 lines.\"\n"
     ]
    }
   ],
   "source": [
    "options (digits = 2)\n",
    "\n",
    "#Read in Offline Trace File\n",
    "txt = readLines(\"offline.final.trace.txt\")\n",
    "\n",
    "#Locate lines that start with '#' \n",
    "print(paste(\"Number of lines that are comments:\", sum(substr(txt, 1, 1) == \"#\"), \"out of\", length(txt), \"lines.\"))"
   ]
  },
  {
   "cell_type": "code",
   "execution_count": 3,
   "metadata": {
    "scrolled": true
   },
   "outputs": [
    {
     "name": "stdout",
     "output_type": "stream",
     "text": [
      "[1] \"Offline\" data frame has 1181628 observations and 10 variables.\n"
     ]
    }
   ],
   "source": [
    "#Update processLine function to discard obseravations causing warnings.  line 82 had an warning...replaced with 'ncol ='\n",
    "processLine = function(x)\n",
    "{\n",
    "  tokens = strsplit(x, \"[;=,]\")[[1]]\n",
    "  \n",
    "  if (length(tokens) == 10) \n",
    "    return(NULL)\n",
    " \n",
    "  tmp = matrix(tokens[ - (1:10) ], ncol = 4, byrow = TRUE)\n",
    "  cbind(matrix(tokens[c(2, 4, 6:8, 10)], nrow(tmp), 6, \n",
    "               byrow = TRUE), tmp)\n",
    "}\n",
    "\n",
    "#running with updated processLines and store output to offline\n",
    "options(error = recover, warn = 1)\n",
    "lines = txt[ substr(txt, 1, 1) != \"#\" ]\n",
    "tmp = lapply(lines, processLine)\n",
    "offline = as.data.frame(do.call(\"rbind\", tmp), \n",
    "                        stringsAsFactors = FALSE)\n",
    "\n",
    "print(paste(\"\\\"Offline\\\" data frame has\", dim(offline)[1], \"observations and\", dim(offline)[2], \"variables.\"), quote=FALSE)"
   ]
  },
  {
   "cell_type": "markdown",
   "metadata": {},
   "source": [
    "### 6.2 Clean and Build the RAW Data"
   ]
  },
  {
   "cell_type": "code",
   "execution_count": 4,
   "metadata": {},
   "outputs": [
    {
     "name": "stdout",
     "output_type": "stream",
     "text": [
      "[1] \"Offline\" data frame has 978443 observations and 9 variables.\n",
      "[1] \"Variable names and their types:\"\n"
     ]
    },
    {
     "data": {
      "text/html": [
       "<dl class=dl-horizontal>\n",
       "\t<dt>time1</dt>\n",
       "\t\t<dd>'POSIXt'</dd>\n",
       "\t<dt>time2</dt>\n",
       "\t\t<dd>'POSIXct'</dd>\n",
       "\t<dt>scanMac</dt>\n",
       "\t\t<dd>'character'</dd>\n",
       "\t<dt>posX</dt>\n",
       "\t\t<dd>'numeric'</dd>\n",
       "\t<dt>posY</dt>\n",
       "\t\t<dd>'numeric'</dd>\n",
       "\t<dt>posZ</dt>\n",
       "\t\t<dd>'numeric'</dd>\n",
       "\t<dt>orientation</dt>\n",
       "\t\t<dd>'numeric'</dd>\n",
       "\t<dt>mac</dt>\n",
       "\t\t<dd>'character'</dd>\n",
       "\t<dt>signal</dt>\n",
       "\t\t<dd>'numeric'</dd>\n",
       "\t<dt>channel</dt>\n",
       "\t\t<dd>'character'</dd>\n",
       "\t<dt>rawTime</dt>\n",
       "\t\t<dd>'numeric'</dd>\n",
       "</dl>\n"
      ],
      "text/latex": [
       "\\begin{description*}\n",
       "\\item[time1] 'POSIXt'\n",
       "\\item[time2] 'POSIXct'\n",
       "\\item[scanMac] 'character'\n",
       "\\item[posX] 'numeric'\n",
       "\\item[posY] 'numeric'\n",
       "\\item[posZ] 'numeric'\n",
       "\\item[orientation] 'numeric'\n",
       "\\item[mac] 'character'\n",
       "\\item[signal] 'numeric'\n",
       "\\item[channel] 'character'\n",
       "\\item[rawTime] 'numeric'\n",
       "\\end{description*}\n"
      ],
      "text/markdown": [
       "time1\n",
       ":   'POSIXt'time2\n",
       ":   'POSIXct'scanMac\n",
       ":   'character'posX\n",
       ":   'numeric'posY\n",
       ":   'numeric'posZ\n",
       ":   'numeric'orientation\n",
       ":   'numeric'mac\n",
       ":   'character'signal\n",
       ":   'numeric'channel\n",
       ":   'character'rawTime\n",
       ":   'numeric'\n",
       "\n"
      ],
      "text/plain": [
       "      time1       time2     scanMac        posX        posY        posZ \n",
       "   \"POSIXt\"   \"POSIXct\" \"character\"   \"numeric\"   \"numeric\"   \"numeric\" \n",
       "orientation         mac      signal     channel     rawTime \n",
       "  \"numeric\" \"character\"   \"numeric\" \"character\"   \"numeric\" "
      ]
     },
     "metadata": {},
     "output_type": "display_data"
    },
    {
     "name": "stdout",
     "output_type": "stream",
     "text": [
      "[1] \"Summary of each variables:\"\n"
     ]
    },
    {
     "data": {
      "text/plain": [
       "      time                          posX         posY           posZ  \n",
       " Min.   :2006-02-11 01:31:58   Min.   : 0   Min.   : 0.0   Min.   :0  \n",
       " 1st Qu.:2006-02-11 07:21:27   1st Qu.: 2   1st Qu.: 3.0   1st Qu.:0  \n",
       " Median :2006-02-11 13:57:58   Median :12   Median : 6.0   Median :0  \n",
       " Mean   :2006-02-16 08:57:37   Mean   :14   Mean   : 5.9   Mean   :0  \n",
       " 3rd Qu.:2006-02-19 08:52:40   3rd Qu.:23   3rd Qu.: 8.0   3rd Qu.:0  \n",
       " Max.   :2006-03-09 14:41:10   Max.   :33   Max.   :13.0   Max.   :0  \n",
       "  orientation      signal   \n",
       " Min.   :  0   Min.   :-99  \n",
       " 1st Qu.: 90   1st Qu.:-69  \n",
       " Median :180   Median :-60  \n",
       " Mean   :167   Mean   :-62  \n",
       " 3rd Qu.:270   3rd Qu.:-53  \n",
       " Max.   :360   Max.   :-25  "
      ]
     },
     "metadata": {},
     "output_type": "display_data"
    },
    {
     "data": {
      "text/plain": [
       "                mac               channel                    scanMac      \n",
       " 00:0f:a3:39:e1:c0:145862   2462000000:189774   00:02:2D:21:0F:33:978443  \n",
       " 00:0f:a3:39:dd:cd:145619   2437000000:152124                             \n",
       " 00:14:bf:b1:97:8a:132962   2412000000:145619                             \n",
       " 00:14:bf:3b:c7:c6:126529   2432000000:126529                             \n",
       " 00:14:bf:b1:97:90:122315   2427000000:122315                             \n",
       " 00:14:bf:b1:97:8d:121325   2442000000:121325                             \n",
       " (Other)          :183831   (Other)   :120757                             "
      ]
     },
     "metadata": {},
     "output_type": "display_data"
    }
   ],
   "source": [
    "#Adding headers to each column to 'offline' dataframe\n",
    "names(offline) = c(\"time\", \"scanMac\", \"posX\", \"posY\", \"posZ\", \n",
    "                   \"orientation\", \"mac\", \"signal\", \n",
    "                   \"channel\", \"type\")\n",
    "\n",
    "#Convert position, signal, and time variable sto numeric\n",
    "numVars = c(\"time\", \"posX\", \"posY\", \"posZ\", \n",
    "            \"orientation\", \"signal\")\n",
    "offline[ numVars ] =  lapply(offline[ numVars ], as.numeric)\n",
    "\n",
    "#Drop all records for adhoc measurements and remove the 'type' variable from dataframe\n",
    "offline = offline[ offline$type == \"3\", ]\n",
    "offline = offline[ , \"type\" != names(offline) ]\n",
    "print(paste(\"\\\"Offline\\\" data frame has\", dim(offline)[1], \"observations and\", dim(offline)[2], \"variables.\"), quote=FALSE)\n",
    "\n",
    "#Convert the time to seconds from milliseconds\n",
    "offline$rawTime = offline$time\n",
    "offline$time = offline$time/1000\n",
    "class(offline$time) = c(\"POSIXt\", \"POSIXct\")\n",
    "\n",
    "#Checking the types of variables in the data frame\n",
    "print(\"Variable names and their types:\")\n",
    "unlist(lapply(offline, class))\n",
    "\n",
    "#Summary of each numerica value\n",
    "print(\"Summary of each variables:\")\n",
    "summary(offline[, numVars])\n",
    "\n",
    "#Convert the character variable to factors\n",
    "summary(sapply(offline[ , c(\"mac\", \"channel\", \"scanMac\")],\n",
    "                as.factor))\n",
    "\n",
    "#modify dataframe by removing scanMac and PosZ\n",
    "offline = offline[ , !(names(offline) %in% c(\"scanMac\", \"posZ\"))]"
   ]
  },
  {
   "cell_type": "code",
   "execution_count": 5,
   "metadata": {},
   "outputs": [
    {
     "name": "stdout",
     "output_type": "stream",
     "text": [
      "[1] \"First 6 observations in dataframe.\"\n"
     ]
    },
    {
     "data": {
      "text/html": [
       "<table>\n",
       "<caption>A data.frame: 6 × 8</caption>\n",
       "<thead>\n",
       "\t<tr><th scope=col>time</th><th scope=col>posX</th><th scope=col>posY</th><th scope=col>orientation</th><th scope=col>mac</th><th scope=col>signal</th><th scope=col>channel</th><th scope=col>rawTime</th></tr>\n",
       "\t<tr><th scope=col>&lt;dttm&gt;</th><th scope=col>&lt;dbl&gt;</th><th scope=col>&lt;dbl&gt;</th><th scope=col>&lt;dbl&gt;</th><th scope=col>&lt;chr&gt;</th><th scope=col>&lt;dbl&gt;</th><th scope=col>&lt;chr&gt;</th><th scope=col>&lt;dbl&gt;</th></tr>\n",
       "</thead>\n",
       "<tbody>\n",
       "\t<tr><td>2006-02-11 01:31:58</td><td>0</td><td>0</td><td>0</td><td>00:14:bf:b1:97:8a</td><td>-38</td><td>2437000000</td><td>1.1e+12</td></tr>\n",
       "\t<tr><td>2006-02-11 01:31:58</td><td>0</td><td>0</td><td>0</td><td>00:14:bf:b1:97:90</td><td>-56</td><td>2427000000</td><td>1.1e+12</td></tr>\n",
       "\t<tr><td>2006-02-11 01:31:58</td><td>0</td><td>0</td><td>0</td><td>00:0f:a3:39:e1:c0</td><td>-53</td><td>2462000000</td><td>1.1e+12</td></tr>\n",
       "\t<tr><td>2006-02-11 01:31:58</td><td>0</td><td>0</td><td>0</td><td>00:14:bf:b1:97:8d</td><td>-65</td><td>2442000000</td><td>1.1e+12</td></tr>\n",
       "\t<tr><td>2006-02-11 01:31:58</td><td>0</td><td>0</td><td>0</td><td>00:14:bf:b1:97:81</td><td>-65</td><td>2422000000</td><td>1.1e+12</td></tr>\n",
       "\t<tr><td>2006-02-11 01:31:58</td><td>0</td><td>0</td><td>0</td><td>00:14:bf:3b:c7:c6</td><td>-66</td><td>2432000000</td><td>1.1e+12</td></tr>\n",
       "</tbody>\n",
       "</table>\n"
      ],
      "text/latex": [
       "A data.frame: 6 × 8\n",
       "\\begin{tabular}{r|llllllll}\n",
       " time & posX & posY & orientation & mac & signal & channel & rawTime\\\\\n",
       " <dttm> & <dbl> & <dbl> & <dbl> & <chr> & <dbl> & <chr> & <dbl>\\\\\n",
       "\\hline\n",
       "\t 2006-02-11 01:31:58 & 0 & 0 & 0 & 00:14:bf:b1:97:8a & -38 & 2437000000 & 1.1e+12\\\\\n",
       "\t 2006-02-11 01:31:58 & 0 & 0 & 0 & 00:14:bf:b1:97:90 & -56 & 2427000000 & 1.1e+12\\\\\n",
       "\t 2006-02-11 01:31:58 & 0 & 0 & 0 & 00:0f:a3:39:e1:c0 & -53 & 2462000000 & 1.1e+12\\\\\n",
       "\t 2006-02-11 01:31:58 & 0 & 0 & 0 & 00:14:bf:b1:97:8d & -65 & 2442000000 & 1.1e+12\\\\\n",
       "\t 2006-02-11 01:31:58 & 0 & 0 & 0 & 00:14:bf:b1:97:81 & -65 & 2422000000 & 1.1e+12\\\\\n",
       "\t 2006-02-11 01:31:58 & 0 & 0 & 0 & 00:14:bf:3b:c7:c6 & -66 & 2432000000 & 1.1e+12\\\\\n",
       "\\end{tabular}\n"
      ],
      "text/markdown": [
       "\n",
       "A data.frame: 6 × 8\n",
       "\n",
       "| time &lt;dttm&gt; | posX &lt;dbl&gt; | posY &lt;dbl&gt; | orientation &lt;dbl&gt; | mac &lt;chr&gt; | signal &lt;dbl&gt; | channel &lt;chr&gt; | rawTime &lt;dbl&gt; |\n",
       "|---|---|---|---|---|---|---|---|\n",
       "| 2006-02-11 01:31:58 | 0 | 0 | 0 | 00:14:bf:b1:97:8a | -38 | 2437000000 | 1.1e+12 |\n",
       "| 2006-02-11 01:31:58 | 0 | 0 | 0 | 00:14:bf:b1:97:90 | -56 | 2427000000 | 1.1e+12 |\n",
       "| 2006-02-11 01:31:58 | 0 | 0 | 0 | 00:0f:a3:39:e1:c0 | -53 | 2462000000 | 1.1e+12 |\n",
       "| 2006-02-11 01:31:58 | 0 | 0 | 0 | 00:14:bf:b1:97:8d | -65 | 2442000000 | 1.1e+12 |\n",
       "| 2006-02-11 01:31:58 | 0 | 0 | 0 | 00:14:bf:b1:97:81 | -65 | 2422000000 | 1.1e+12 |\n",
       "| 2006-02-11 01:31:58 | 0 | 0 | 0 | 00:14:bf:3b:c7:c6 | -66 | 2432000000 | 1.1e+12 |\n",
       "\n"
      ],
      "text/plain": [
       "  time                posX posY orientation mac               signal channel   \n",
       "1 2006-02-11 01:31:58 0    0    0           00:14:bf:b1:97:8a -38    2437000000\n",
       "2 2006-02-11 01:31:58 0    0    0           00:14:bf:b1:97:90 -56    2427000000\n",
       "3 2006-02-11 01:31:58 0    0    0           00:0f:a3:39:e1:c0 -53    2462000000\n",
       "4 2006-02-11 01:31:58 0    0    0           00:14:bf:b1:97:8d -65    2442000000\n",
       "5 2006-02-11 01:31:58 0    0    0           00:14:bf:b1:97:81 -65    2422000000\n",
       "6 2006-02-11 01:31:58 0    0    0           00:14:bf:3b:c7:c6 -66    2432000000\n",
       "  rawTime\n",
       "1 1.1e+12\n",
       "2 1.1e+12\n",
       "3 1.1e+12\n",
       "4 1.1e+12\n",
       "5 1.1e+12\n",
       "6 1.1e+12"
      ]
     },
     "metadata": {},
     "output_type": "display_data"
    }
   ],
   "source": [
    "print(\"First 6 observations in dataframe.\")\n",
    "head(offline)"
   ]
  },
  {
   "cell_type": "markdown",
   "metadata": {},
   "source": [
    "### 6.3 Explore the Data"
   ]
  },
  {
   "cell_type": "code",
   "execution_count": 6,
   "metadata": {},
   "outputs": [
    {
     "name": "stdout",
     "output_type": "stream",
     "text": [
      "[1] \"There are 12 unique MAC addresses and 8 channels.\"\n",
      "[1] \"Amount of times each MAC address was pinged:\"\n"
     ]
    },
    {
     "data": {
      "text/plain": [
       "\n",
       "00:04:0e:5c:23:fc 00:0f:a3:39:dd:cd 00:0f:a3:39:e0:4b 00:0f:a3:39:e1:c0 \n",
       "              418            145619             43508            145862 \n",
       "00:0f:a3:39:e2:10 00:14:bf:3b:c7:c6 00:14:bf:b1:97:81 00:14:bf:b1:97:8a \n",
       "            19162            126529            120339            132962 \n",
       "00:14:bf:b1:97:8d 00:14:bf:b1:97:90 00:30:bd:f8:7f:c5 00:e0:63:82:8b:a9 \n",
       "           121325            122315               301               103 "
      ]
     },
     "metadata": {},
     "output_type": "display_data"
    },
    {
     "data": {
      "text/html": [
       "<dl class=dl-horizontal>\n",
       "\t<dt>00:0f:a3:39:dd:cd</dt>\n",
       "\t\t<dd>1</dd>\n",
       "\t<dt>00:0f:a3:39:e1:c0</dt>\n",
       "\t\t<dd>1</dd>\n",
       "\t<dt>00:14:bf:3b:c7:c6</dt>\n",
       "\t\t<dd>1</dd>\n",
       "\t<dt>00:14:bf:b1:97:81</dt>\n",
       "\t\t<dd>1</dd>\n",
       "\t<dt>00:14:bf:b1:97:8a</dt>\n",
       "\t\t<dd>1</dd>\n",
       "\t<dt>00:14:bf:b1:97:8d</dt>\n",
       "\t\t<dd>1</dd>\n",
       "\t<dt>00:14:bf:b1:97:90</dt>\n",
       "\t\t<dd>1</dd>\n",
       "</dl>\n"
      ],
      "text/latex": [
       "\\begin{description*}\n",
       "\\item[00:0f:a3:39:dd:cd] 1\n",
       "\\item[00:0f:a3:39:e1:c0] 1\n",
       "\\item[00:14:bf:3b:c7:c6] 1\n",
       "\\item[00:14:bf:b1:97:81] 1\n",
       "\\item[00:14:bf:b1:97:8a] 1\n",
       "\\item[00:14:bf:b1:97:8d] 1\n",
       "\\item[00:14:bf:b1:97:90] 1\n",
       "\\end{description*}\n"
      ],
      "text/markdown": [
       "00:0f:a3:39:dd:cd\n",
       ":   100:0f:a3:39:e1:c0\n",
       ":   100:14:bf:3b:c7:c6\n",
       ":   100:14:bf:b1:97:81\n",
       ":   100:14:bf:b1:97:8a\n",
       ":   100:14:bf:b1:97:8d\n",
       ":   100:14:bf:b1:97:90\n",
       ":   1\n",
       "\n"
      ],
      "text/plain": [
       "00:0f:a3:39:dd:cd 00:0f:a3:39:e1:c0 00:14:bf:3b:c7:c6 00:14:bf:b1:97:81 \n",
       "                1                 1                 1                 1 \n",
       "00:14:bf:b1:97:8a 00:14:bf:b1:97:8d 00:14:bf:b1:97:90 \n",
       "                1                 1                 1 "
      ]
     },
     "metadata": {},
     "output_type": "display_data"
    },
    {
     "name": "stdout",
     "output_type": "stream",
     "text": [
      "[1] \"There are 476 receiverss.\"\n",
      "[1] \"There are 166 receivers that detected a signal.\"\n",
      "[1] \"First 8 receivers with total number of observations:\"\n"
     ]
    },
    {
     "data": {
      "text/html": [
       "<table>\n",
       "<caption>A matrix: 3 × 8</caption>\n",
       "<tbody>\n",
       "\t<tr><th scope=row>posX</th><td>0</td><td>1</td><td>2</td><td>0</td><td>1</td><td>2</td><td>0</td><td>1</td></tr>\n",
       "\t<tr><th scope=row>posY</th><td>0</td><td>0</td><td>0</td><td>1</td><td>1</td><td>1</td><td>2</td><td>2</td></tr>\n",
       "\t<tr><th scope=row>count</th><td>5505</td><td>5505</td><td>5506</td><td>5524</td><td>5543</td><td>5558</td><td>5503</td><td>5564</td></tr>\n",
       "</tbody>\n",
       "</table>\n"
      ],
      "text/latex": [
       "A matrix: 3 × 8\n",
       "\\begin{tabular}{r|llllllll}\n",
       "\tposX & 0 & 1 & 2 & 0 & 1 & 2 & 0 & 1\\\\\n",
       "\tposY & 0 & 0 & 0 & 1 & 1 & 1 & 2 & 2\\\\\n",
       "\tcount & 5505 & 5505 & 5506 & 5524 & 5543 & 5558 & 5503 & 5564\\\\\n",
       "\\end{tabular}\n"
      ],
      "text/markdown": [
       "\n",
       "A matrix: 3 × 8\n",
       "\n",
       "| posX | 0 | 1 | 2 | 0 | 1 | 2 | 0 | 1 |\n",
       "| posY | 0 | 0 | 0 | 1 | 1 | 1 | 2 | 2 |\n",
       "| count | 5505 | 5505 | 5506 | 5524 | 5543 | 5558 | 5503 | 5564 |\n",
       "\n"
      ],
      "text/plain": [
       "      [,1] [,2] [,3] [,4] [,5] [,6] [,7] [,8]\n",
       "posX  0    1    2    0    1    2    0    1   \n",
       "posY  0    0    0    1    1    1    2    2   \n",
       "count 5505 5505 5506 5524 5543 5558 5503 5564"
      ]
     },
     "metadata": {},
     "output_type": "display_data"
    },
    {
     "data": {
      "image/png": "[encoded data removed]",
      "text/plain": [
       "plot without title"
      ]
     },
     "metadata": {},
     "output_type": "display_data"
    },
    {
     "data": {
      "image/png": "[encoded data removed]",
      "text/plain": [
       "plot without title"
      ]
     },
     "metadata": {},
     "output_type": "display_data"
    }
   ],
   "source": [
    "#RoundOrientation Function\n",
    "roundOrientation = function(angles) {\n",
    "  refs = seq(0, by = 45, length  = 9)\n",
    "  q = sapply(angles, function(o) which.min(abs(o - refs)))\n",
    "  c(refs[1:8], 0)[q]\n",
    "}\n",
    "\n",
    "#create rounded angles\n",
    "offline$angle = roundOrientation(offline$orientation)\n",
    "with(offline, boxplot(orientation ~ angle,\n",
    "                      xlab = \"nearest 45 degree angle\",\n",
    "                      ylab=\"orientation\"))\n",
    "\n",
    "#number of unique addresses and channels.  There should only be 6 access points\n",
    "print(paste(\"There are\", length(unique(offline$mac)), \"unique MAC addresses and\", \n",
    "            length(unique(offline$channel)), \"channels.\"))\n",
    "             \n",
    "print(\"Amount of times each MAC address was pinged:\")             \n",
    "table(offline$mac)\n",
    "\n",
    "#keeping the records form top 7 devices\n",
    "subMacs = names(sort(table(offline$mac), decreasing = TRUE))[1:7]\n",
    "offline = offline[ offline$mac %in% subMacs, ]\n",
    "             \n",
    "#reate a table of counts for the remaining MAC×channel combinations and confirm there is one non-zero entry in each row\n",
    "macChannel = with(offline, table(mac, channel))\n",
    "apply(macChannel, 1, function(x) sum(x > 0))\n",
    "\n",
    "#remove channel from offline\n",
    "offline = offline[ , \"channel\" != names(offline)]\n",
    "      \n",
    "#a list containing a data frame for each location \n",
    "locDF = with(offline,\n",
    "             by(offline, list(posX, posY), function(x) x))\n",
    "print(paste(\"There are\", length(locDF), \"receiverss.\"))\n",
    "\n",
    "#drop unneeded elements\n",
    "locDF = locDF[ !sapply(locDF, is.null) ]\n",
    "print(paste(\"There are\", length(locDF), \"receivers that detected a signal.\"))\n",
    "                \n",
    "#number of observation at each location\n",
    "locCounts = sapply(locDF, nrow)\n",
    "locCounts = sapply(locDF,\n",
    "                   function(df)\n",
    "                     c(df[1, c(\"posX\", \"posY\")], count = nrow(df)))\n",
    "                   \n",
    "print(\"First 8 receivers with total number of observations:\")\n",
    "locCounts[ , 1:8]\n",
    "                   \n",
    "#plot the 166 counts\n",
    "locCounts = t(locCounts)\n",
    "plot(locCounts, type = \"p\", xlab = \"\", ylab = \"\", pch=\".\")\n",
    "text(locCounts, labels = locCounts[,3], cex = 0.8, srt = 45)"
   ]
  },
  {
   "cell_type": "code",
   "execution_count": 7,
   "metadata": {},
   "outputs": [
    {
     "name": "stdout",
     "output_type": "stream",
     "text": [
      "[1] \"readData\" function creates the same dataframe as manual operation.\n"
     ]
    },
    {
     "data": {
      "text/html": [
       "TRUE"
      ],
      "text/latex": [
       "TRUE"
      ],
      "text/markdown": [
       "TRUE"
      ],
      "text/plain": [
       "[1] TRUE"
      ]
     },
     "metadata": {},
     "output_type": "display_data"
    }
   ],
   "source": [
    "#create a function to summarize all that was done above\n",
    "readData = \n",
    "  function(filename = 'offline.final.trace.txt', \n",
    "           subMacs = c(\"00:0f:a3:39:e1:c0\", \"00:0f:a3:39:dd:cd\", \"00:14:bf:b1:97:8a\",\n",
    "                       \"00:14:bf:3b:c7:c6\", \"00:14:bf:b1:97:90\", \"00:14:bf:b1:97:8d\",\n",
    "                       \"00:14:bf:b1:97:81\"))\n",
    "  {\n",
    "    txt = readLines(filename)\n",
    "    lines = txt[ substr(txt, 1, 1) != \"#\" ]\n",
    "    tmp = lapply(lines, processLine)\n",
    "    offline = as.data.frame(do.call(\"rbind\", tmp), \n",
    "                            stringsAsFactors= FALSE) \n",
    "    \n",
    "    names(offline) = c(\"time\", \"scanMac\", \n",
    "                       \"posX\", \"posY\", \"posZ\", \"orientation\", \n",
    "                       \"mac\", \"signal\", \"channel\", \"type\")\n",
    "    \n",
    "     # keep only signals from access points\n",
    "    offline = offline[ offline$type == \"3\", ]\n",
    "    \n",
    "    # drop scanMac, posZ, channel, and type - no info in them\n",
    "    dropVars = c(\"scanMac\", \"posZ\", \"channel\", \"type\")\n",
    "    offline = offline[ , !( names(offline) %in% dropVars ) ]\n",
    "    \n",
    "    # drop more unwanted access points\n",
    "    offline = offline[ offline$mac %in% subMacs, ]\n",
    "    \n",
    "    # convert numeric values\n",
    "    numVars = c(\"time\", \"posX\", \"posY\", \"orientation\", \"signal\")\n",
    "    offline[ numVars ] = lapply(offline[ numVars ], as.numeric)\n",
    "\n",
    "    # convert time to POSIX\n",
    "    offline$rawTime = offline$time\n",
    "    offline$time = offline$time/1000\n",
    "    class(offline$time) = c(\"POSIXt\", \"POSIXct\")\n",
    "    \n",
    "    # round orientations to nearest 45\n",
    "    offline$angle = roundOrientation(offline$orientation)\n",
    "      \n",
    "    return(offline)\n",
    "  }\n",
    "offlineRedo = readData()\n",
    "\n",
    "print(\"\\\"readData\\\" function creates the same dataframe as manual operation.\", quote=FALSE)\n",
    "identical(offline, offlineRedo) "
   ]
  },
  {
   "cell_type": "markdown",
   "metadata": {},
   "source": [
    "### 6.4 Signal Strength Analysis"
   ]
  },
  {
   "cell_type": "code",
   "execution_count": 8,
   "metadata": {},
   "outputs": [
    {
     "name": "stdout",
     "output_type": "stream",
     "text": [
      "[1] \"Summary of signal strength from all receivers:\"\n"
     ]
    },
    {
     "data": {
      "text/plain": [
       "   Min. 1st Qu.  Median    Mean 3rd Qu.    Max. \n",
       "    -98     -67     -59     -60     -53     -25 "
      ]
     },
     "metadata": {},
     "output_type": "display_data"
    },
    {
     "data": {
      "image/png": "[encoded data removed]",
      "text/plain": [
       "plot without title"
      ]
     },
     "metadata": {},
     "output_type": "display_data"
    },
    {
     "data": {
      "image/png": "[encoded data removed]",
      "text/plain": [
       "plot without title"
      ]
     },
     "metadata": {},
     "output_type": "display_data"
    }
   ],
   "source": [
    "library(codetools)\n",
    "##findGlobals(readData, merge = FALSE)$variables\n",
    "\n",
    "library(lattice)\n",
    "bwplot(signal ~ factor(angle) | mac, data = offline,\n",
    "       subset = posX == 2 & posY == 12\n",
    "                & mac != \"00:0f:a3:39:dd:cd\",\n",
    "       layout = c(2,3))\n",
    "\n",
    "print(\"Summary of signal strength from all receivers:\")\n",
    "summary(offline$signal)\n",
    "\n",
    "densityplot( ~ signal | mac + factor(angle), data = offline,\n",
    "             subset = posX == 24 & posY == 4 &\n",
    "                         mac != \"00:0f:a3:39:dd:cd\",\n",
    "             bw = 0.5, plot.points = FALSE)"
   ]
  },
  {
   "cell_type": "code",
   "execution_count": 9,
   "metadata": {},
   "outputs": [],
   "source": [
    "offline$posXY = paste(offline$posX, offline$posY, sep = \"-\")\n",
    "\n",
    "byLocAngleAP = with(offline,\n",
    "                    by(offline, list(posXY, angle, mac),\n",
    "                       function(x) x))\n",
    "\n",
    "signalSummary =\n",
    "  lapply(byLocAngleAP,\n",
    "         function(oneLoc) {\n",
    "           ans = oneLoc[1, ]\n",
    "           ans$medSignal = median(oneLoc$signal)\n",
    "           ans$avgSignal = mean(oneLoc$signal)\n",
    "           ans$num = length(oneLoc$signal)\n",
    "           ans$sdSignal = sd(oneLoc$signal)\n",
    "           ans$iqrSignal = IQR(oneLoc$signal)\n",
    "           ans\n",
    "           })\n",
    "             \n",
    "offlineSummary = do.call(\"rbind\", signalSummary)"
   ]
  },
  {
   "cell_type": "markdown",
   "metadata": {},
   "source": [
    "### 6.5 Prediction Analysis"
   ]
  },
  {
   "cell_type": "code",
   "execution_count": 10,
   "metadata": {},
   "outputs": [
    {
     "name": "stdout",
     "output_type": "stream",
     "text": [
      "[1] \"There are  60 test locations.\"\n"
     ]
    },
    {
     "data": {
      "text/plain": [
       "            \n",
       "               0  45  90 135 180 225 270 315\n",
       "  0-0.05       0   0   0 704   0   0   0   0\n",
       "  0.15-9.42    0   0 717   0   0   0   0   0\n",
       "  0.31-11.09   0   0   0   0   0 684   0   0\n",
       "  0.47-8.2   701   0   0   0   0   0   0   0\n",
       "  0.78-10.94 695   0   0   0   0   0   0   0\n",
       "  0.93-11.69   0   0   0   0 691   0   0   0"
      ]
     },
     "metadata": {},
     "output_type": "display_data"
    }
   ],
   "source": [
    "# Read in data from online.final.trace.txt file\n",
    "macs = unique(offlineSummary$mac)\n",
    "online = readData(\"online.final.trace.txt\", subMacs = macs)\n",
    "\n",
    "#Create unique location identifier\n",
    "online$posXY = paste(online$posX, online$posY, sep = \"-\")\n",
    "\n",
    "#Confirm there is 60 unique test locations\n",
    "print(paste(\"There are \", length(unique(online$posXY)), \"test locations.\"))\n",
    "\n",
    "tabonlineXYA = table(online$posXY, online$angle)\n",
    "tabonlineXYA[1:6, ]\n",
    "\n",
    "#summarize readings from 'online' receivers, test data set.\n",
    "keepVars = c(\"posXY\", \"posX\",\"posY\", \"orientation\", \"angle\") \n",
    "byLoc = with(online, by(online, \n",
    "                        list(posXY), function(x) {\n",
    "                            ans = x[1, keepVars] \n",
    "                            avgSS = tapply(x$signal, x$mac, mean) \n",
    "                            y = matrix(avgSS, nrow = 1, ncol = 7, \n",
    "                                       dimnames = list(ans$posXY, names(avgSS)))\n",
    "                            cbind(ans, y) }))\n",
    "onlineSummary = do.call(\"rbind\", byLoc)"
   ]
  },
  {
   "cell_type": "code",
   "execution_count": 11,
   "metadata": {
    "scrolled": false
   },
   "outputs": [],
   "source": [
    "#reshapes offlineSummary to match onlineSummary\n",
    "reshapeSS = function(data, varSignal = \"signal\", \n",
    "                     keepVars = c(\"posXY\", \"posX\",\"posY\", \"orientation\", \"angle\")) { \n",
    "    byLocation = \n",
    "      with(data, by(data, list(posXY), \n",
    "                    function(x) { ans = x[1, keepVars] \n",
    "                                  avgSS = tapply(x[ , varSignal ], x$mac, mean) \n",
    "                                  y = matrix(avgSS, nrow = 1, ncol = length(unique(data$mac)), \n",
    "                                             dimnames = list(ans$posXY, names(avgSS))) \n",
    "                                 cbind(ans, y)}))\n",
    "      newDataSS = do.call(\"rbind\", byLocation) \n",
    "      return(newDataSS)}\n",
    "\n",
    "#find nearest neighbors\n",
    "findNN = function(newSignal, trainSubset) { \n",
    "    diffs = apply(trainSubset[ , 6:length(trainSubset)], 1, \n",
    "                  function(x) x - newSignal) \n",
    "    dists = apply(diffs, 2, function(x) sqrt(sum(x^2)) )              \n",
    "    closest = order(dists)\n",
    "    wgts = closest/length(closest)\n",
    "    return(cbind(trainSubset[closest, 1:3 ], wgts)) }              \n",
    "                  \n",
    "#select all offline receivers with angles similar to test receiver and reshape training data set\n",
    "#into a shape simiolar to test set.\n",
    "selectTrain = function(angleNewObs, signals, m) {\n",
    "    refs = seq(0, by = 45, length = 8) \n",
    "    nearestAngle = roundOrientation(angleNewObs)\n",
    "    if (m %% 2 == 1) { \n",
    "        angles = seq(-45 * (m - 1) /2, 45 * (m - 1) /2, length = m) } \n",
    "    else { m = m + 1 \n",
    "           angles = seq(-45 * (m - 1) /2, 45 * (m - 1) /2, length = m) \n",
    "           if (sign(angleNewObs - nearestAngle) > -1) \n",
    "               angles = angles[ -1 ] \n",
    "           else \n",
    "               angles = angles[ -m ] }\n",
    "    subset = signals[ signals$angle %in% angles, ]\n",
    "    trainSS = reshapeSS(subset, varSignal = \"avgSignal\")\n",
    "    return(trainSS)\n",
    "}\n",
    "                  \n",
    "#prediction function\n",
    "predXY = function(newSignals, newAngles, trainData, numAngles = 3, k = 5){\n",
    "    closeXY = list(length = nrow(newSignals))\n",
    "    for (i in 1:nrow(newSignals)) {\n",
    "        trainSS = selectTrain(newAngles[i], trainData, m = numAngles) \n",
    "        closeXY[[i]] = \n",
    "            findNN(newSignal = as.numeric(newSignals[i, ]), trainSS) } \n",
    "    estXY = lapply(closeXY, function(x) sapply(x[ , 2:3], \n",
    "                                      function(x) mean(x[1:k])))\n",
    "    estXY_wgts = lapply(closeXY, function(x) sapply(x[ , 2:3], \n",
    "                                      function(x,y=closeXY[[]][,4]) weighted.mean(x[1:k], y[1:k]))) \n",
    "    estXY = do.call(\"rbind\", estXY)\n",
    "    estXY_wgts = do.call(\"rbind\", estXY_wgts)\n",
    "    estXY = cbind(estXY, estXY_wgts)\n",
    "    return(estXY)}\n",
    "                                        \n",
    "#error function to compare the three predictions.\n",
    "calcError = function(estXY, actualXY) \n",
    "    sum( rowSums( (estXY - actualXY)^2) )"
   ]
  },
  {
   "cell_type": "code",
   "execution_count": 12,
   "metadata": {},
   "outputs": [
    {
     "name": "stderr",
     "output_type": "stream",
     "text": [
      "Warning message:\n",
      "\"package 'reshape2' was built under R version 3.4.4\"Warning message in data.row.names(row.names, rowsi, i):\n",
      "\"some row.names duplicated: 2,3,4,5,6,7,8,9,10,11,12,13,14,15 --> row.names NOT used\""
     ]
    }
   ],
   "source": [
    "library(reshape2)\n",
    "\n",
    "MAC_2_remove = c(\"00:0f:a3:39:e1:c0\", \"00:0f:a3:39:dd:cd\")\n",
    "max_k = 15\n",
    "errors = c()\n",
    "\n",
    "for (k in 1:max_k){\n",
    "    error_ = c()\n",
    "    #cycle through list of MAC addresses to remove\n",
    "    for (m in 1:(length(MAC_2_remove)+1)) {\n",
    "        if (m <= length(MAC_2_remove)) {\n",
    "            testSet = onlineSummary[ , -which(names(onlineSummary) %in% MAC_2_remove[m])]\n",
    "            trainSet = subset(offlineSummary, mac != MAC_2_remove[m])\n",
    "        }\n",
    "        else {\n",
    "            testSet = onlineSummary\n",
    "            trainSet = offlineSummary\n",
    "        }\n",
    "        \n",
    "        #prediction algorithm\n",
    "        estXY = predXY(newSignals = testSet[ , 6:length(testSet)], \n",
    "                 newAngles = testSet[ , 4], \n",
    "                 trainSet, numAngles = 3, k = k) \n",
    "        \n",
    "        #error calculation\n",
    "        actualXY = onlineSummary[ , c(\"posX\", \"posY\")]\n",
    "        error = sapply(list(estXY[,1:2], estXY[,3:4]), calcError, actualXY)\n",
    "        error_ = c(error_, error)\n",
    "    }\n",
    "    errors = rbind(errors, error_)\n",
    "}\n",
    "\n",
    "#reshape error output into a dataframe for ggplot\n",
    "errors = data.frame(errors)\n",
    "colnames(errors) = c(\"-:e1:c0\", \"-:e1:c0, weighted\", \"-:dd:cd\", \"-:dd:cd, weighted\", \"both MAC\", \"both MAC, weighted\")\n",
    "errors$k = as.numeric(row.names(errors))\n",
    "errors = melt(errors, value.name=\"error\", id.vars=\"k\")"
   ]
  },
  {
   "cell_type": "code",
   "execution_count": 13,
   "metadata": {},
   "outputs": [
    {
     "name": "stderr",
     "output_type": "stream",
     "text": [
      "Warning message:\n",
      "\"package 'ggplot2' was built under R version 3.4.4\""
     ]
    },
    {
     "data": {
      "image/png": "[encoded data removed]",
      "text/plain": [
       "plot without title"
      ]
     },
     "metadata": {},
     "output_type": "display_data"
    }
   ],
   "source": [
    "library(ggplot2)\n",
    "\n",
    "#plot errors, kNN using both MAC address with an k of 8 is the best\n",
    "ggplot(errors, aes(x=k, y=error, colour=variable)) + geom_line()"
   ]
  }
 ],
 "metadata": {
  "kernelspec": {
   "display_name": "R",
   "language": "R",
   "name": "ir"
  },
  "language_info": {
   "codemirror_mode": "r",
   "file_extension": ".r",
   "mimetype": "text/x-r-source",
   "name": "R",
   "pygments_lexer": "r",
   "version": "3.4.3"
  }
 },
 "nbformat": 4,
 "nbformat_minor": 2
}
