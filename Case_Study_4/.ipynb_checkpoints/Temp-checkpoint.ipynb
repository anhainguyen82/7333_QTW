{
 "cells": [
  {
   "cell_type": "markdown",
   "metadata": {},
   "source": [
    "# <div style=\"text-align:center\"> DS7333 - Case Study 4 | Cherry Blossom Run</div>\n",
    "### <div style=\"text-align:center\">Andy Ho, An Nguyen, Jodi Pafford</div>\n",
    "<div style=\"text-align:center\">June 3, 2019</div>"
   ]
  },
  {
   "cell_type": "markdown",
   "metadata": {},
   "source": [
    "## 1 Introduction\n",
    "\n"
   ]
  },
  {
   "cell_type": "markdown",
   "metadata": {},
   "source": [
    "This case study will answer Question 7 in Chapter 2 of \"Data Science in R: A Case Studies Approach to Computational REasoning and Problem Solving\" (Nolan and Lang). \n",
    "\n",
    "Question 7 is: \"Follow the approach developed in Section 2.2 to read the files for the female runners and then process them using the functions in Section 2.3 to create a data frame for analysis. You may need to generalize the createDF() and extractVariables() functions to handle additional oddities in the raw text files.\"\n",
    "\n",
    "The data was extracted, cleaned, reformatted and prepared for analysis. Once the data was prepared, we performed some initial analysis to prepare for future work."
   ]
  },
  {
   "cell_type": "markdown",
   "metadata": {},
   "source": [
    "## 2 Background\n",
    "\n"
   ]
  },
  {
   "cell_type": "markdown",
   "metadata": {},
   "source": [
    "The Cherry Blossom Race occurs every spring in Washington, D.C. The race consists of a 10 Mile Run, 5K Run-Walk, and Kids' Run. Searchable race results are available from 1973-2018, however races since 1999 are available for download. This case study will explore results data from the 1999 through 2012 races for female runners. Data was scraped from the race website, www.cherryblossom.org. "
   ]
  },
  {
   "cell_type": "markdown",
   "metadata": {},
   "source": [
    "## 3 Methods\n",
    "\n"
   ]
  },
  {
   "cell_type": "markdown",
   "metadata": {},
   "source": [
    "As described in Chapter 2 of Nolan and Lang, the data files needed to be cleaned before processing, however the first step was obtaining the files from the website. Using 2.2 as our guide, we read the tables of the race results into R. Upon intial investigation it was noted that many of the race result files had slightly different formats. Some race results also contained more columns of data than others.\n",
    "\n",
    "After all data was successfully pulled from the website, the next step was to clean and reformat the data. Following that, all data was combined into one large file with all race data.\n",
    "\n",
    "The last step was to perform some basic exploritory data analysis in order to ensure that all data was pulled successfully and to investigate next steps."
   ]
  },
  {
   "cell_type": "markdown",
   "metadata": {},
   "source": [
    "## 4 Results\n",
    "\n"
   ]
  },
  {
   "cell_type": "markdown",
   "metadata": {},
   "source": [
    "## An, can you add the code for the first two steps (2.2 is 1, and 2.3 is 2). I will add some of my EDA as 3."
   ]
  },
  {
   "cell_type": "code",
   "execution_count": 25,
   "metadata": {},
   "outputs": [
    {
     "name": "stdout",
     "output_type": "stream",
     "text": [
      "[1] \"The urls for the men's race results are:\"\n",
      "[1] \"http://www.cherryblossom.org/results/1999/cb99m.html with 3193 entries from 1999.\"\n",
      "[1] \"http://www.cherryblossom.org/results/2000/Cb003m.htm with 3019 entries from 2000.\"\n",
      "[1] \"http://www.cherryblossom.org/results/2001/oof_m.html with 3627 entries from 2001.\"\n",
      "[1] \"http://www.cherryblossom.org/results/2002/oofm.htm with 3727 entries from 2002.\"\n",
      "[1] \"http://www.cherryblossom.org/results/2003/CB03-M.HTM with 3951 entries from 2003.\"\n",
      "[1] \"http://www.cherryblossom.org/results/2004/men.htm with 4164 entries from 2004.\"\n",
      "[1] \"http://www.cherryblossom.org/results/2005/CB05-M.htm with 4335 entries from 2005.\"\n",
      "[1] \"http://www.cherryblossom.org/results/2006/men.htm with 5245 entries from 2006.\"\n",
      "[1] \"http://www.cherryblossom.org/results/2007/men.htm with 5283 entries from 2007.\"\n",
      "[1] \"http://www.cherryblossom.org/results/2008/men.htm with 5913 entries from 2008.\"\n",
      "[1] \"http://www.cherryblossom.org/results/2009/09cucb-M.htm with 6659 entries from 2009.\"\n",
      "[1] \"http://www.cherryblossom.org/results/2010/2010cucb10m-m.htm with 6919 entries from 2010.\"\n",
      "[1] \"http://www.cherryblossom.org/results/2011/2011cucb10m-m.htm with 7019 entries from 2011.\"\n",
      "[1] \"http://www.cherryblossom.org/results/2012/2012cucb10m-m.htm with 7201 entries from 2012.\"\n",
      "[1] \"\"\n",
      "[1] \"The urls for the women's race results are:\"\n",
      "[1] \"http://www.cherryblossom.org/results/1999/cb99f.html with 2359 entries from 1999.\"\n",
      "[1] \"http://www.cherryblossom.org/results/2000/Cb003f.htm with 2169 entries from 2000.\"\n",
      "[1] \"http://www.cherryblossom.org/results/2001/oof_f.html with 2976 entries from 2001.\"\n",
      "[1] \"http://www.cherryblossom.org/results/2002/ooff.htm with 3338 entries from 2002.\"\n",
      "[1] \"http://www.cherryblossom.org/results/2003/CB03-F.HTM with 3547 entries from 2003.\"\n",
      "[1] \"http://www.cherryblossom.org/results/2004/women.htm with 3907 entries from 2004.\"\n",
      "[1] \"http://www.cherryblossom.org/results/2005/CB05-F.htm with 4342 entries from 2005.\"\n",
      "[1] \"http://www.cherryblossom.org/results/2006/women.htm with 5445 entries from 2006.\"\n",
      "[1] \"http://www.cherryblossom.org/results/2007/women.htm with 5699 entries from 2007.\"\n",
      "[1] \"http://www.cherryblossom.org/results/2008/women.htm with 6405 entries from 2008.\"\n",
      "[1] \"http://www.cherryblossom.org/results/2009/09cucb-F.htm with 8333 entries from 2009.\"\n",
      "[1] \"http://www.cherryblossom.org/results/2010/2010cucb10m-f.htm with 8863 entries from 2010.\"\n",
      "[1] \"http://www.cherryblossom.org/results/2011/2011cucb10m-f.htm with 9038 entries from 2011.\"\n",
      "[1] \"http://www.cherryblossom.org/results/2012/2012cucb10m-f.htm with 9738 entries from 2012.\"\n"
     ]
    }
   ],
   "source": [
    "### Step 1 (2.2) - Reading Tables of Race Results into R\n",
    "\n",
    "urlsMen = paste(ubase, menURLs, sep = \"\")\n",
    "urlsWomen = paste(ubase, womenURLs, sep = \"\")\n",
    "\n",
    "print(\"The urls for the men's race results are:\")\n",
    "for (i in 1:14){\n",
    "    print(paste(urlsMen[i], \" with \", length(menTables[[i]]), \" entries from \", names(menTables[i]), \".\", sep=\"\"))\n",
    "}\n",
    "print(\"\")\n",
    "print(\"The urls for the women's race results are:\")\n",
    "for (i in 1:14){\n",
    "    print(paste(urlsWomen[i], \" with \", length(womenTables[[i]]), \" entries from \", names(menTables[i]), \".\", sep=\"\"))\n",
    "}"
   ]
  },
  {
   "cell_type": "markdown",
   "metadata": {},
   "source": [
    "### Step 2 (2.3) - Data Cleaning and Reformatting Variables\n",
    "\n",
    "An put 'final' code here"
   ]
  },
  {
   "cell_type": "markdown",
   "metadata": {},
   "source": [
    "### Step 3 - Exploritory Data Analysis\n",
    "\n",
    "Jodi will add stuff here."
   ]
  },
  {
   "cell_type": "markdown",
   "metadata": {},
   "source": [
    "## 5 Conclusion\n",
    " "
   ]
  },
  {
   "cell_type": "markdown",
   "metadata": {},
   "source": []
  },
  {
   "cell_type": "markdown",
   "metadata": {},
   "source": [
    "### References\n",
    "+ Nolan, D. and Lang, D. T. “Data Science in R.” CRC Press, 2015 (Chapter 1)\n",
    "+ http://rdatasciencecases.org/\n",
    "+ https://rstudio-pubs-static.s3.amazonaws.com/351788_b8d5de284dd645a1b920b7bd77e0967b.html"
   ]
  },
  {
   "cell_type": "markdown",
   "metadata": {},
   "source": [
    "## 6 Appendix - Code\n"
   ]
  },
  {
   "cell_type": "markdown",
   "metadata": {},
   "source": [
    "### 6.1 Process RAW Data"
   ]
  },
  {
   "cell_type": "code",
   "execution_count": 1,
   "metadata": {},
   "outputs": [],
   "source": [
    "ubase = \"http://www.cherryblossom.org/\"\n",
    "\n",
    "menURLs = \n",
    "  c(\"results/1999/cb99m.html\", \"results/2000/Cb003m.htm\", \"results/2001/oof_m.html\",\n",
    "    \"results/2002/oofm.htm\", \"results/2003/CB03-M.HTM\",\n",
    "    \"results/2004/men.htm\", \"results/2005/CB05-M.htm\", \n",
    "    \"results/2006/men.htm\", \"results/2007/men.htm\", \n",
    "    \"results/2008/men.htm\", \"results/2009/09cucb-M.htm\",\n",
    "    \"results/2010/2010cucb10m-m.htm\", \n",
    "    \"results/2011/2011cucb10m-m.htm\",\n",
    "    \"results/2012/2012cucb10m-m.htm\")\n",
    "\n",
    "womenURLs = \n",
    "  c(\"results/1999/cb99f.html\", \"results/2000/Cb003f.htm\", \"results/2001/oof_f.html\",\n",
    "    \"results/2002/ooff.htm\", \"results/2003/CB03-F.HTM\",\n",
    "    \"results/2004/women.htm\", \"results/2005/CB05-F.htm\", \n",
    "    \"results/2006/women.htm\", \"results/2007/women.htm\", \n",
    "    \"results/2008/women.htm\", \"results/2009/09cucb-F.htm\",\n",
    "    \"results/2010/2010cucb10m-f.htm\", \n",
    "    \"results/2011/2011cucb10m-f.htm\",\n",
    "    \"results/2012/2012cucb10m-f.htm\")\n",
    "\n",
    "urlsMen = paste(ubase, menURLs, sep = \"\")\n",
    "urlsWomen = paste(ubase, womenURLs, sep = \"\")"
   ]
  },
  {
   "cell_type": "code",
   "execution_count": 8,
   "metadata": {},
   "outputs": [
    {
     "data": {
      "text/html": [
       "<dl class=dl-horizontal>\n",
       "\t<dt>1999</dt>\n",
       "\t\t<dd>3193</dd>\n",
       "\t<dt>2000</dt>\n",
       "\t\t<dd>3019</dd>\n",
       "\t<dt>2001</dt>\n",
       "\t\t<dd>3627</dd>\n",
       "\t<dt>2002</dt>\n",
       "\t\t<dd>3727</dd>\n",
       "\t<dt>2003</dt>\n",
       "\t\t<dd>3951</dd>\n",
       "\t<dt>2004</dt>\n",
       "\t\t<dd>4164</dd>\n",
       "\t<dt>2005</dt>\n",
       "\t\t<dd>4335</dd>\n",
       "\t<dt>2006</dt>\n",
       "\t\t<dd>5245</dd>\n",
       "\t<dt>2007</dt>\n",
       "\t\t<dd>5283</dd>\n",
       "\t<dt>2008</dt>\n",
       "\t\t<dd>5913</dd>\n",
       "\t<dt>2009</dt>\n",
       "\t\t<dd>6659</dd>\n",
       "\t<dt>2010</dt>\n",
       "\t\t<dd>6919</dd>\n",
       "\t<dt>2011</dt>\n",
       "\t\t<dd>7019</dd>\n",
       "\t<dt>2012</dt>\n",
       "\t\t<dd>7201</dd>\n",
       "</dl>\n"
      ],
      "text/latex": [
       "\\begin{description*}\n",
       "\\item[1999] 3193\n",
       "\\item[2000] 3019\n",
       "\\item[2001] 3627\n",
       "\\item[2002] 3727\n",
       "\\item[2003] 3951\n",
       "\\item[2004] 4164\n",
       "\\item[2005] 4335\n",
       "\\item[2006] 5245\n",
       "\\item[2007] 5283\n",
       "\\item[2008] 5913\n",
       "\\item[2009] 6659\n",
       "\\item[2010] 6919\n",
       "\\item[2011] 7019\n",
       "\\item[2012] 7201\n",
       "\\end{description*}\n"
      ],
      "text/markdown": [
       "1999\n",
       ":   31932000\n",
       ":   30192001\n",
       ":   36272002\n",
       ":   37272003\n",
       ":   39512004\n",
       ":   41642005\n",
       ":   43352006\n",
       ":   52452007\n",
       ":   52832008\n",
       ":   59132009\n",
       ":   66592010\n",
       ":   69192011\n",
       ":   70192012\n",
       ":   7201\n",
       "\n"
      ],
      "text/plain": [
       "1999 2000 2001 2002 2003 2004 2005 2006 2007 2008 2009 2010 2011 2012 \n",
       "3193 3019 3627 3727 3951 4164 4335 5245 5283 5913 6659 6919 7019 7201 "
      ]
     },
     "metadata": {},
     "output_type": "display_data"
    },
    {
     "data": {
      "text/html": [
       "<dl class=dl-horizontal>\n",
       "\t<dt>1999</dt>\n",
       "\t\t<dd>2359</dd>\n",
       "\t<dt>2000</dt>\n",
       "\t\t<dd>2169</dd>\n",
       "\t<dt>2001</dt>\n",
       "\t\t<dd>2976</dd>\n",
       "\t<dt>2002</dt>\n",
       "\t\t<dd>3338</dd>\n",
       "\t<dt>2003</dt>\n",
       "\t\t<dd>3547</dd>\n",
       "\t<dt>2004</dt>\n",
       "\t\t<dd>3907</dd>\n",
       "\t<dt>2005</dt>\n",
       "\t\t<dd>4342</dd>\n",
       "\t<dt>2006</dt>\n",
       "\t\t<dd>5445</dd>\n",
       "\t<dt>2007</dt>\n",
       "\t\t<dd>5699</dd>\n",
       "\t<dt>2008</dt>\n",
       "\t\t<dd>6405</dd>\n",
       "\t<dt>2009</dt>\n",
       "\t\t<dd>8333</dd>\n",
       "\t<dt>2010</dt>\n",
       "\t\t<dd>8863</dd>\n",
       "\t<dt>2011</dt>\n",
       "\t\t<dd>9038</dd>\n",
       "\t<dt>2012</dt>\n",
       "\t\t<dd>9738</dd>\n",
       "</dl>\n"
      ],
      "text/latex": [
       "\\begin{description*}\n",
       "\\item[1999] 2359\n",
       "\\item[2000] 2169\n",
       "\\item[2001] 2976\n",
       "\\item[2002] 3338\n",
       "\\item[2003] 3547\n",
       "\\item[2004] 3907\n",
       "\\item[2005] 4342\n",
       "\\item[2006] 5445\n",
       "\\item[2007] 5699\n",
       "\\item[2008] 6405\n",
       "\\item[2009] 8333\n",
       "\\item[2010] 8863\n",
       "\\item[2011] 9038\n",
       "\\item[2012] 9738\n",
       "\\end{description*}\n"
      ],
      "text/markdown": [
       "1999\n",
       ":   23592000\n",
       ":   21692001\n",
       ":   29762002\n",
       ":   33382003\n",
       ":   35472004\n",
       ":   39072005\n",
       ":   43422006\n",
       ":   54452007\n",
       ":   56992008\n",
       ":   64052009\n",
       ":   83332010\n",
       ":   88632011\n",
       ":   90382012\n",
       ":   9738\n",
       "\n"
      ],
      "text/plain": [
       "1999 2000 2001 2002 2003 2004 2005 2006 2007 2008 2009 2010 2011 2012 \n",
       "2359 2169 2976 3338 3547 3907 4342 5445 5699 6405 8333 8863 9038 9738 "
      ]
     },
     "metadata": {},
     "output_type": "display_data"
    }
   ],
   "source": [
    "library(XML)\n",
    "\n",
    "extractResTable =\n",
    "  #\n",
    "  # Retrieve data from web site, \n",
    "  # find the preformatted text,\n",
    "  # and write lines or return as a character vector.\n",
    "  #\n",
    "  function(url = \"http://www.cherryblossom.org/results/1999/cb99m.html\",\n",
    "           year = 1999, sex = \"male\", file = NULL)\n",
    "  {\n",
    "    #added encoding for windows users who get an \"A\" symbol\n",
    "    doc = htmlParse(url, encoding=\"UTF-8\")\n",
    "\n",
    "    if (year == 2000) {\n",
    "      # Get preformatted text from 4th font element\n",
    "      # The top file is ill formed so the <pre> search doesn't work.\n",
    "      ff = getNodeSet(doc, \"//font\")\n",
    "      txt = xmlValue(ff[[4]])\n",
    "      els = strsplit(txt, \"\\r\\n\")[[1]]\n",
    "    }\n",
    "    else if (year == 2009 & sex == \"male\") {\n",
    "      # Get preformatted text from <div class=\"Section1\"> element\n",
    "      # Each line of results is in a <pre> element\n",
    "      div1 = getNodeSet(doc, \"//div[@class='Section1']\")\n",
    "      pres = getNodeSet(div1[[1]], \"//pre\")\n",
    "      els = sapply(pres, xmlValue)\n",
    "    }\n",
    "    else if (year == 1999){\n",
    "      # Get preformatted text from <pre> elements\n",
    "      pres = getNodeSet(doc, \"//pre\")\n",
    "      txt = xmlValue(pres[[1]])\n",
    "      els = strsplit(txt, \"\\n\")[[1]]   \n",
    "    } \n",
    "    else {\n",
    "      # Get preformatted text from <pre> elements\n",
    "      pres = getNodeSet(doc, \"//pre\")\n",
    "      txt = xmlValue(pres[[1]])\n",
    "      els = strsplit(txt, \"\\r\\n\")[[1]]   \n",
    "    } \n",
    "    \n",
    "    if (is.null(file)) return(els)\n",
    "    # Write the lines as a text file.\n",
    "    writeLines(els, con = file)\n",
    "  }\n",
    "\n",
    "\n",
    "years = 1999:2012\n",
    "menTables = mapply(extractResTable, url = urlsMen, year = years)\n",
    "names(menTables) = years\n",
    "sapply(menTables, length)\n",
    "\n",
    "womenTables = mapply(extractResTable, url = urlsWomen, \n",
    "                       year = years, sex = rep(\"female\", 14))\n",
    "names(womenTables) = years\n",
    "sapply(womenTables, length)\n",
    "\n",
    "\n",
    "save(menTables, file = \"CBMenTextTables.rda\")\n",
    "save(womenTables, file = \"CBWomenTextTables.rda\")"
   ]
  },
  {
   "cell_type": "code",
   "execution_count": 204,
   "metadata": {},
   "outputs": [],
   "source": [
    "# An's code for txt files...\n",
    "\n",
    "load(file=\"CBMenTextTables.rda\")\n",
    "load(file=\"CBWomenTextTables.rda\")\n",
    "\n",
    "for (year in years){\n",
    " temp <- menTables[paste(year)]\n",
    " dir.create(file.path(\"MenTxt\"), showWarnings = FALSE)\n",
    " write.table(data.frame(temp), file=paste(\"MenTxt/\", year, \".txt\", sep=\"\"), sep=\"\\t\", row.names=FALSE)\n",
    " temp <- womenTables[paste(year)]\n",
    " dir.create(file.path(\"WomenTxt\"), showWarnings = FALSE)\n",
    " write.table(data.frame(temp), file=paste(\"WomenTxt/\", year, \".txt\", sep=\"\"), sep=\"\\t\", row.names=FALSE)\n",
    "}"
   ]
  },
  {
   "cell_type": "markdown",
   "metadata": {},
   "source": [
    "#### Beginning of 2.2 code from the text - Reading tables into R"
   ]
  },
  {
   "cell_type": "code",
   "execution_count": 4,
   "metadata": {},
   "outputs": [
    {
     "data": {
      "text/html": [
       "<ol class=list-inline>\n",
       "\t<li>'\"X2012\"'</li>\n",
       "\t<li>'\"\"'</li>\n",
       "\t<li><span style=white-space:pre-wrap>'\"                 Credit Union Cherry Blossom Ten Mile Run\"'</span></li>\n",
       "\t<li><span style=white-space:pre-wrap>'\"                 Washington, DC     Sunday, April 1, 2012\"'</span></li>\n",
       "\t<li>'\"\"'</li>\n",
       "\t<li><span style=white-space:pre-wrap>'\"                Official Male Results (Sorted By Net Time)\"'</span></li>\n",
       "\t<li>'\"\"'</li>\n",
       "\t<li><span style=white-space:pre-wrap>'\"Place Div  /Tot   Num    Name                   Ag Hometown             5 Mile  Time    Pace  \"'</span></li>\n",
       "\t<li>'\"===== =========== ====== ====================== == ==================== ======= ======= ===== \"'</li>\n",
       "\t<li><span style=white-space:pre-wrap>'\"    1     1/347        9 Allan Kiprono          22 Kenya                  22:32   45:15  4:32 \"'</span></li>\n",
       "</ol>\n"
      ],
      "text/latex": [
       "\\begin{enumerate*}\n",
       "\\item '\"X2012\"'\n",
       "\\item '\"\"'\n",
       "\\item '\"                 Credit Union Cherry Blossom Ten Mile Run\"'\n",
       "\\item '\"                 Washington, DC     Sunday, April 1, 2012\"'\n",
       "\\item '\"\"'\n",
       "\\item '\"                Official Male Results (Sorted By Net Time)\"'\n",
       "\\item '\"\"'\n",
       "\\item '\"Place Div  /Tot   Num    Name                   Ag Hometown             5 Mile  Time    Pace  \"'\n",
       "\\item '\"===== =========== ====== ====================== == ==================== ======= ======= ===== \"'\n",
       "\\item '\"    1     1/347        9 Allan Kiprono          22 Kenya                  22:32   45:15  4:32 \"'\n",
       "\\end{enumerate*}\n"
      ],
      "text/markdown": [
       "1. '\"X2012\"'\n",
       "2. '\"\"'\n",
       "3. <span style=white-space:pre-wrap>'\"                 Credit Union Cherry Blossom Ten Mile Run\"'</span>\n",
       "4. <span style=white-space:pre-wrap>'\"                 Washington, DC     Sunday, April 1, 2012\"'</span>\n",
       "5. '\"\"'\n",
       "6. <span style=white-space:pre-wrap>'\"                Official Male Results (Sorted By Net Time)\"'</span>\n",
       "7. '\"\"'\n",
       "8. <span style=white-space:pre-wrap>'\"Place Div  /Tot   Num    Name                   Ag Hometown             5 Mile  Time    Pace  \"'</span>\n",
       "9. '\"===== =========== ====== ====================== == ==================== ======= ======= ===== \"'\n",
       "10. <span style=white-space:pre-wrap>'\"    1     1/347        9 Allan Kiprono          22 Kenya                  22:32   45:15  4:32 \"'</span>\n",
       "\n",
       "\n"
      ],
      "text/plain": [
       " [1] \"\\\"X2012\\\"\"                                                                                         \n",
       " [2] \"\\\"\\\"\"                                                                                              \n",
       " [3] \"\\\"                 Credit Union Cherry Blossom Ten Mile Run\\\"\"                                     \n",
       " [4] \"\\\"                 Washington, DC     Sunday, April 1, 2012\\\"\"                                     \n",
       " [5] \"\\\"\\\"\"                                                                                              \n",
       " [6] \"\\\"                Official Male Results (Sorted By Net Time)\\\"\"                                    \n",
       " [7] \"\\\"\\\"\"                                                                                              \n",
       " [8] \"\\\"Place Div  /Tot   Num    Name                   Ag Hometown             5 Mile  Time    Pace  \\\"\"\n",
       " [9] \"\\\"===== =========== ====== ====================== == ==================== ======= ======= ===== \\\"\"\n",
       "[10] \"\\\"    1     1/347        9 Allan Kiprono          22 Kenya                  22:32   45:15  4:32 \\\"\""
      ]
     },
     "metadata": {},
     "output_type": "display_data"
    }
   ],
   "source": [
    "#Begining of 2.3 from the text\n",
    "\n",
    "#els = readLines(\"MenTxt/2012.txt\")\n",
    "\n",
    "#els[1:10]"
   ]
  },
  {
   "cell_type": "code",
   "execution_count": 5,
   "metadata": {},
   "outputs": [
    {
     "data": {
      "text/html": [
       "<ol class=list-inline>\n",
       "\t<li>'\"X2012\"'</li>\n",
       "\t<li>'\"\"'</li>\n",
       "\t<li><span style=white-space:pre-wrap>'\"                 Credit Union Cherry Blossom Ten Mile Run\"'</span></li>\n",
       "\t<li><span style=white-space:pre-wrap>'\"                 Washington, DC     Sunday, April 1, 2012\"'</span></li>\n",
       "\t<li>'\"\"'</li>\n",
       "\t<li><span style=white-space:pre-wrap>'\"               Female Official Results (Sorted By Net Time)\"'</span></li>\n",
       "\t<li>'\"\"'</li>\n",
       "\t<li><span style=white-space:pre-wrap>'\"Place Div  /Tot   Num    Name                   Ag Hometown             5 Mile  Time    Pace  S \"'</span></li>\n",
       "\t<li>'\"===== =========== ====== ====================== == ==================== ======= ======= ===== = \"'</li>\n",
       "\t<li><span style=white-space:pre-wrap>'\"    1     1/2781       2 Jelliah Tinega         26 Kenya                  26:48   54:02  5:25 ! \"'</span></li>\n",
       "</ol>\n"
      ],
      "text/latex": [
       "\\begin{enumerate*}\n",
       "\\item '\"X2012\"'\n",
       "\\item '\"\"'\n",
       "\\item '\"                 Credit Union Cherry Blossom Ten Mile Run\"'\n",
       "\\item '\"                 Washington, DC     Sunday, April 1, 2012\"'\n",
       "\\item '\"\"'\n",
       "\\item '\"               Female Official Results (Sorted By Net Time)\"'\n",
       "\\item '\"\"'\n",
       "\\item '\"Place Div  /Tot   Num    Name                   Ag Hometown             5 Mile  Time    Pace  S \"'\n",
       "\\item '\"===== =========== ====== ====================== == ==================== ======= ======= ===== = \"'\n",
       "\\item '\"    1     1/2781       2 Jelliah Tinega         26 Kenya                  26:48   54:02  5:25 ! \"'\n",
       "\\end{enumerate*}\n"
      ],
      "text/markdown": [
       "1. '\"X2012\"'\n",
       "2. '\"\"'\n",
       "3. <span style=white-space:pre-wrap>'\"                 Credit Union Cherry Blossom Ten Mile Run\"'</span>\n",
       "4. <span style=white-space:pre-wrap>'\"                 Washington, DC     Sunday, April 1, 2012\"'</span>\n",
       "5. '\"\"'\n",
       "6. <span style=white-space:pre-wrap>'\"               Female Official Results (Sorted By Net Time)\"'</span>\n",
       "7. '\"\"'\n",
       "8. <span style=white-space:pre-wrap>'\"Place Div  /Tot   Num    Name                   Ag Hometown             5 Mile  Time    Pace  S \"'</span>\n",
       "9. '\"===== =========== ====== ====================== == ==================== ======= ======= ===== = \"'\n",
       "10. <span style=white-space:pre-wrap>'\"    1     1/2781       2 Jelliah Tinega         26 Kenya                  26:48   54:02  5:25 ! \"'</span>\n",
       "\n",
       "\n"
      ],
      "text/plain": [
       " [1] \"\\\"X2012\\\"\"                                                                                           \n",
       " [2] \"\\\"\\\"\"                                                                                                \n",
       " [3] \"\\\"                 Credit Union Cherry Blossom Ten Mile Run\\\"\"                                       \n",
       " [4] \"\\\"                 Washington, DC     Sunday, April 1, 2012\\\"\"                                       \n",
       " [5] \"\\\"\\\"\"                                                                                                \n",
       " [6] \"\\\"               Female Official Results (Sorted By Net Time)\\\"\"                                     \n",
       " [7] \"\\\"\\\"\"                                                                                                \n",
       " [8] \"\\\"Place Div  /Tot   Num    Name                   Ag Hometown             5 Mile  Time    Pace  S \\\"\"\n",
       " [9] \"\\\"===== =========== ====== ====================== == ==================== ======= ======= ===== = \\\"\"\n",
       "[10] \"\\\"    1     1/2781       2 Jelliah Tinega         26 Kenya                  26:48   54:02  5:25 ! \\\"\""
      ]
     },
     "metadata": {},
     "output_type": "display_data"
    }
   ],
   "source": [
    "#wels = readLines(\"WomenTxt/2012.txt\")\n",
    "#wels[1:10]"
   ]
  },
  {
   "cell_type": "code",
   "execution_count": 6,
   "metadata": {},
   "outputs": [
    {
     "data": {
      "text/html": [
       "<ol class=list-inline>\n",
       "\t<li>'\"X2011\"'</li>\n",
       "\t<li>'\"\"'</li>\n",
       "\t<li><span style=white-space:pre-wrap>'\"                 Credit Union Cherry Blossom Ten Mile Run\"'</span></li>\n",
       "\t<li><span style=white-space:pre-wrap>'\"                 Washington, DC     Sunday, April 3, 2011\"'</span></li>\n",
       "\t<li>'\"\"'</li>\n",
       "\t<li><span style=white-space:pre-wrap>'\"                           Official Male Results\"'</span></li>\n",
       "\t<li>'\"\"'</li>\n",
       "\t<li><span style=white-space:pre-wrap>'\"Place Div  /Tot   Num    Name                   Ag Hometown             5 Mile  Gun Tim Net Tim Pace  \"'</span></li>\n",
       "\t<li>'\"===== =========== ====== ====================== == ==================== ======= ======= ======= ===== \"'</li>\n",
       "\t<li><span style=white-space:pre-wrap>'\"    1     1/401        3 Lelisa Desisa          21 Ethiopia                       45:36   45:36  4:34 \"'</span></li>\n",
       "</ol>\n"
      ],
      "text/latex": [
       "\\begin{enumerate*}\n",
       "\\item '\"X2011\"'\n",
       "\\item '\"\"'\n",
       "\\item '\"                 Credit Union Cherry Blossom Ten Mile Run\"'\n",
       "\\item '\"                 Washington, DC     Sunday, April 3, 2011\"'\n",
       "\\item '\"\"'\n",
       "\\item '\"                           Official Male Results\"'\n",
       "\\item '\"\"'\n",
       "\\item '\"Place Div  /Tot   Num    Name                   Ag Hometown             5 Mile  Gun Tim Net Tim Pace  \"'\n",
       "\\item '\"===== =========== ====== ====================== == ==================== ======= ======= ======= ===== \"'\n",
       "\\item '\"    1     1/401        3 Lelisa Desisa          21 Ethiopia                       45:36   45:36  4:34 \"'\n",
       "\\end{enumerate*}\n"
      ],
      "text/markdown": [
       "1. '\"X2011\"'\n",
       "2. '\"\"'\n",
       "3. <span style=white-space:pre-wrap>'\"                 Credit Union Cherry Blossom Ten Mile Run\"'</span>\n",
       "4. <span style=white-space:pre-wrap>'\"                 Washington, DC     Sunday, April 3, 2011\"'</span>\n",
       "5. '\"\"'\n",
       "6. <span style=white-space:pre-wrap>'\"                           Official Male Results\"'</span>\n",
       "7. '\"\"'\n",
       "8. <span style=white-space:pre-wrap>'\"Place Div  /Tot   Num    Name                   Ag Hometown             5 Mile  Gun Tim Net Tim Pace  \"'</span>\n",
       "9. '\"===== =========== ====== ====================== == ==================== ======= ======= ======= ===== \"'\n",
       "10. <span style=white-space:pre-wrap>'\"    1     1/401        3 Lelisa Desisa          21 Ethiopia                       45:36   45:36  4:34 \"'</span>\n",
       "\n",
       "\n"
      ],
      "text/plain": [
       " [1] \"\\\"X2011\\\"\"                                                                                                 \n",
       " [2] \"\\\"\\\"\"                                                                                                      \n",
       " [3] \"\\\"                 Credit Union Cherry Blossom Ten Mile Run\\\"\"                                             \n",
       " [4] \"\\\"                 Washington, DC     Sunday, April 3, 2011\\\"\"                                             \n",
       " [5] \"\\\"\\\"\"                                                                                                      \n",
       " [6] \"\\\"                           Official Male Results\\\"\"                                                      \n",
       " [7] \"\\\"\\\"\"                                                                                                      \n",
       " [8] \"\\\"Place Div  /Tot   Num    Name                   Ag Hometown             5 Mile  Gun Tim Net Tim Pace  \\\"\"\n",
       " [9] \"\\\"===== =========== ====== ====================== == ==================== ======= ======= ======= ===== \\\"\"\n",
       "[10] \"\\\"    1     1/401        3 Lelisa Desisa          21 Ethiopia                       45:36   45:36  4:34 \\\"\""
      ]
     },
     "metadata": {},
     "output_type": "display_data"
    }
   ],
   "source": [
    "#els2011 = readLines(\"MenTxt/2011.txt\")\n",
    "#els2011[1:10]"
   ]
  },
  {
   "cell_type": "code",
   "execution_count": 7,
   "metadata": {},
   "outputs": [
    {
     "data": {
      "text/html": [],
      "text/latex": [],
      "text/markdown": [],
      "text/plain": [
       "integer(0)"
      ]
     },
     "metadata": {},
     "output_type": "display_data"
    }
   ],
   "source": [
    "#eqIndex = grep(\"^===\", els)\n",
    "#eqIndex"
   ]
  },
  {
   "cell_type": "code",
   "execution_count": 8,
   "metadata": {},
   "outputs": [
    {
     "data": {
      "text/html": [],
      "text/latex": [],
      "text/markdown": [],
      "text/plain": [
       "integer(0)"
      ]
     },
     "metadata": {},
     "output_type": "display_data"
    }
   ],
   "source": [
    "#first3 = substr(els, 1, 3)\n",
    "#which(first3 == \"===\")"
   ]
  },
  {
   "cell_type": "code",
   "execution_count": 9,
   "metadata": {},
   "outputs": [
    {
     "ename": "ERROR",
     "evalue": "Error in 1:eqIndex: argument of length 0\n",
     "output_type": "error",
     "traceback": [
      "Error in 1:eqIndex: argument of length 0\nTraceback:\n"
     ]
    }
   ],
   "source": [
    "#spacerRow = els[eqIndex]\n",
    "#headerRow = els[eqIndex - 1]\n",
    "#body = els[ -(1:eqIndex) ]\n",
    "#headerRow = tolower(headerRow)\n",
    "#ageStart = regexpr(\"ag\", headerRow)\n",
    "#ageStart"
   ]
  },
  {
   "cell_type": "code",
   "execution_count": 10,
   "metadata": {},
   "outputs": [
    {
     "ename": "ERROR",
     "evalue": "Error in as.character(x): cannot coerce type 'closure' to vector of type 'character'\n",
     "output_type": "error",
     "traceback": [
      "Error in as.character(x): cannot coerce type 'closure' to vector of type 'character'\nTraceback:\n",
      "1. substr(body, start = ageStart, stop = ageStart + 1)"
     ]
    }
   ],
   "source": [
    "#age = substr(body, start = ageStart, stop = ageStart + 1)\n",
    "#head(age)\n",
    "#summary(as.numeric(age))"
   ]
  },
  {
   "cell_type": "code",
   "execution_count": 11,
   "metadata": {},
   "outputs": [
    {
     "data": {
      "text/html": [
       "<ol>\n",
       "</ol>\n"
      ],
      "text/latex": [
       "\\begin{enumerate}\n",
       "\\end{enumerate}\n"
      ],
      "text/markdown": [
       "\n",
       "\n"
      ],
      "text/plain": [
       "list()"
      ]
     },
     "metadata": {},
     "output_type": "display_data"
    }
   ],
   "source": [
    "#blankLocs = gregexpr(\" \", spacerRow)\n",
    "#blankLocs"
   ]
  },
  {
   "cell_type": "code",
   "execution_count": 214,
   "metadata": {},
   "outputs": [],
   "source": [
    "#searchLocs = c(0, blankLocs[[1]])\n",
    "\n",
    "#Values = mapply(substr, list(body), \n",
    "#                start = searchLocs[ -length(searchLocs)] + 1, \n",
    "#                stop = searchLocs[ -1 ] - 1)\n",
    "\n",
    "findColLocs = function(spacerRow) {\n",
    "\n",
    "  spaceLocs = gregexpr(\" \", spacerRow)[[1]]\n",
    "  rowLength = nchar(spacerRow)\n",
    "\n",
    "  if (substring(spacerRow, rowLength, rowLength) != \" \")\n",
    "    return( c(0, spaceLocs, rowLength + 1))\n",
    "  else return(c(0, spaceLocs))\n",
    "}\n",
    "\n",
    "selectCols = \n",
    "function(colNames, headerRow, searchLocs) \n",
    "{\n",
    "  sapply(colNames, \n",
    "         function(name, headerRow, searchLocs)\n",
    "         {\n",
    "           startPos = regexpr(name, headerRow)[[1]]\n",
    "           if (startPos == -1) \n",
    "             return( c(NA, NA) )\n",
    "    \n",
    "           index = sum(startPos >= searchLocs)\n",
    "           c(searchLocs[index] + 1, searchLocs[index + 1])\n",
    "         },\n",
    "         headerRow = headerRow, searchLocs = searchLocs )\n",
    "}"
   ]
  },
  {
   "cell_type": "code",
   "execution_count": 13,
   "metadata": {},
   "outputs": [
    {
     "ename": "ERROR",
     "evalue": "Error in findColLocs(spacerRow): could not find function \"findColLocs\"\n",
     "output_type": "error",
     "traceback": [
      "Error in findColLocs(spacerRow): could not find function \"findColLocs\"\nTraceback:\n"
     ]
    }
   ],
   "source": [
    "#searchLocs = findColLocs(spacerRow)\n",
    "#ageLoc = selectCols(\"ag\", headerRow, searchLocs) \n",
    "#ages = mapply(substr, list(body), \n",
    "#              start = ageLoc[1,], stop = ageLoc[2, ])\n",
    "\n",
    "#summary(as.numeric(ages))"
   ]
  },
  {
   "cell_type": "code",
   "execution_count": 14,
   "metadata": {},
   "outputs": [],
   "source": [
    "#shortColNames = c(\"name\", \"home\", \"ag\", \"gun\", \"net\", \"time\")"
   ]
  },
  {
   "cell_type": "code",
   "execution_count": 15,
   "metadata": {},
   "outputs": [
    {
     "ename": "ERROR",
     "evalue": "Error in selectCols(shortColNames, headerRow, searchLocs): could not find function \"selectCols\"\n",
     "output_type": "error",
     "traceback": [
      "Error in selectCols(shortColNames, headerRow, searchLocs): could not find function \"selectCols\"\nTraceback:\n"
     ]
    }
   ],
   "source": [
    "#locCols = selectCols(shortColNames, headerRow, searchLocs)\n",
    "\n",
    "#Values = mapply(substr, list(body), start = locCols[1, ], \n",
    "#                stop = locCols[2, ])\n",
    "\n",
    "#colnames(Values) = shortColNames\n",
    "#head(Values)"
   ]
  },
  {
   "cell_type": "code",
   "execution_count": 16,
   "metadata": {},
   "outputs": [
    {
     "ename": "ERROR",
     "evalue": "Error in tail(Values): object 'Values' not found\n",
     "output_type": "error",
     "traceback": [
      "Error in tail(Values): object 'Values' not found\nTraceback:\n",
      "1. tail(Values)"
     ]
    }
   ],
   "source": [
    "#tail(Values)[ , 1:3]"
   ]
  },
  {
   "cell_type": "markdown",
   "metadata": {},
   "source": [
    "### 2.2 Women Edits and Final Function starts here:"
   ]
  },
  {
   "cell_type": "code",
   "execution_count": 318,
   "metadata": {},
   "outputs": [
    {
     "data": {
      "text/html": [
       "14"
      ],
      "text/latex": [
       "14"
      ],
      "text/markdown": [
       "14"
      ],
      "text/plain": [
       "[1] 14"
      ]
     },
     "metadata": {},
     "output_type": "display_data"
    },
    {
     "data": {
      "text/html": [
       "14"
      ],
      "text/latex": [
       "14"
      ],
      "text/markdown": [
       "14"
      ],
      "text/plain": [
       "[1] 14"
      ]
     },
     "metadata": {},
     "output_type": "display_data"
    }
   ],
   "source": [
    "#First pass at function with women added yielded errors. Based on textbook,\n",
    "#we need to edit the women 2001 file so that it has the \"==\" line.\n",
    "\n",
    "extractVariables = \n",
    "  function(file, varNames =c(\"name\", \"home\", \"ag\", \"gun\",\n",
    "                             \"net\", \"time\"))\n",
    "{\n",
    "       # Find the index of the row with =s\n",
    "  eqIndex = grep(\"\\\"=====\", file)\n",
    "       # Extract the two key rows and the data\n",
    "  spacerRow = file[eqIndex] \n",
    "  headerRow = tolower(file[ eqIndex - 1 ])\n",
    "  body = file[ -(1 : eqIndex) ]\n",
    "      \n",
    "         # Remove footnotes and blank rows\n",
    "  footnotes = grep(\"^\\\"[[:blank:]]*(\\\\*|\\\\#)\", body)\n",
    "  if ( length(footnotes) > 0 ) body = body[ -footnotes ]\n",
    "  #blanks = grep(\"^\\\"[[:blank:]]*\\\"$\", body)\n",
    "  if (length(blanks) > 0 ) body = body[ -blanks ]\n",
    "       \n",
    "       # Obtain the starting and ending positions of variables\n",
    "  searchLocs = findColLocs(spacerRow)\n",
    "  locCols = selectCols(varNames, headerRow, searchLocs)\n",
    "\n",
    "  Values = mapply(substr, list(body), start = locCols[1, ], \n",
    "                  stop = locCols[2, ])\n",
    "  colnames(Values) = varNames\n",
    "  \n",
    "  invisible(Values)\n",
    "}\n",
    "\n",
    "mfilenames = paste(\"MenTxt/\", 1999:2012, \".txt\", sep = \"\")\n",
    "menFiles = lapply(mfilenames, readLines)\n",
    "names(menFiles) = 1999:2012\n",
    "\n",
    "wfilenames = paste(\"WomenTxt/\", 1999:2012, \".txt\", sep = \"\")\n",
    "womenFiles = lapply(wfilenames, readLines)\n",
    "names(womenFiles) = 1999:2012\n",
    "womenFiles[['2001']][3:4] = menFiles[['2001']][5:6]\n",
    "\n",
    "menResMat = lapply(menFiles, extractVariables)\n",
    "length(menResMat)\n",
    "\n",
    "womenResMat = lapply(womenFiles, extractVariables)\n",
    "length(womenResMat)\n"
   ]
  },
  {
   "cell_type": "code",
   "execution_count": 18,
   "metadata": {},
   "outputs": [],
   "source": [
    "#Edit women 2001 file so that it has the \"===\" lines\n",
    "#wfilenames = paste(\"WomenTxt/\", 1999:2012, \".txt\", sep = \"\")\n",
    "#womenFiles = lapply(wfilenames, readLines)\n"
   ]
  },
  {
   "cell_type": "code",
   "execution_count": 19,
   "metadata": {},
   "outputs": [],
   "source": [
    "#names(womenFiles) = 1999:2012"
   ]
  },
  {
   "cell_type": "code",
   "execution_count": 158,
   "metadata": {},
   "outputs": [
    {
     "data": {
      "text/html": [
       "<ol class=list-inline>\n",
       "\t<li>'\"X2001\"'</li>\n",
       "\t<li>'\"\"'</li>\n",
       "\t<li><span style=white-space:pre-wrap>'\"                                                                 \"'</span></li>\n",
       "\t<li><span style=white-space:pre-wrap>'\"                      \"'</span></li>\n",
       "\t<li><span style=white-space:pre-wrap>'\"    1  6002 Elana MEYER           34 Rep Of S.africa      52:15   52:16#\"'</span></li>\n",
       "\t<li><span style=white-space:pre-wrap>'\"    2  6004 Lydia GRIGORIEVA      27 Russia               53:12   53:15#\"'</span></li>\n",
       "</ol>\n"
      ],
      "text/latex": [
       "\\begin{enumerate*}\n",
       "\\item '\"X2001\"'\n",
       "\\item '\"\"'\n",
       "\\item '\"                                                                 \"'\n",
       "\\item '\"                      \"'\n",
       "\\item '\"    1  6002 Elana MEYER           34 Rep Of S.africa      52:15   52:16\\#\"'\n",
       "\\item '\"    2  6004 Lydia GRIGORIEVA      27 Russia               53:12   53:15\\#\"'\n",
       "\\end{enumerate*}\n"
      ],
      "text/markdown": [
       "1. '\"X2001\"'\n",
       "2. '\"\"'\n",
       "3. <span style=white-space:pre-wrap>'\"                                                                 \"'</span>\n",
       "4. <span style=white-space:pre-wrap>'\"                      \"'</span>\n",
       "5. <span style=white-space:pre-wrap>'\"    1  6002 Elana MEYER           34 Rep Of S.africa      52:15   52:16#\"'</span>\n",
       "6. <span style=white-space:pre-wrap>'\"    2  6004 Lydia GRIGORIEVA      27 Russia               53:12   53:15#\"'</span>\n",
       "\n",
       "\n"
      ],
      "text/plain": [
       "[1] \"\\\"X2001\\\"\"                                                                   \n",
       "[2] \"\\\"\\\"\"                                                                        \n",
       "[3] \"\\\"                                                                 \\\"\"       \n",
       "[4] \"\\\"                      \\\"\"                                                  \n",
       "[5] \"\\\"    1  6002 Elana MEYER           34 Rep Of S.africa      52:15   52:16#\\\"\"\n",
       "[6] \"\\\"    2  6004 Lydia GRIGORIEVA      27 Russia               53:12   53:15#\\\"\""
      ]
     },
     "metadata": {},
     "output_type": "display_data"
    }
   ],
   "source": [
    "#womenFiles[['2001']][1:6]"
   ]
  },
  {
   "cell_type": "code",
   "execution_count": 151,
   "metadata": {},
   "outputs": [
    {
     "data": {
      "text/html": [
       "<ol class=list-inline>\n",
       "\t<li>'\"X2001\"'</li>\n",
       "\t<li>'\"\"'</li>\n",
       "\t<li>'\" \"'</li>\n",
       "\t<li>'\"\"'</li>\n",
       "\t<li><span style=white-space:pre-wrap>'\"PLACE NUM   NAME                  AG HOMETOWN           NET     GUN\"'</span></li>\n",
       "\t<li>'\"===== ===== ===================== == ================== ======= =======\"'</li>\n",
       "</ol>\n"
      ],
      "text/latex": [
       "\\begin{enumerate*}\n",
       "\\item '\"X2001\"'\n",
       "\\item '\"\"'\n",
       "\\item '\" \"'\n",
       "\\item '\"\"'\n",
       "\\item '\"PLACE NUM   NAME                  AG HOMETOWN           NET     GUN\"'\n",
       "\\item '\"===== ===== ===================== == ================== ======= =======\"'\n",
       "\\end{enumerate*}\n"
      ],
      "text/markdown": [
       "1. '\"X2001\"'\n",
       "2. '\"\"'\n",
       "3. '\" \"'\n",
       "4. '\"\"'\n",
       "5. <span style=white-space:pre-wrap>'\"PLACE NUM   NAME                  AG HOMETOWN           NET     GUN\"'</span>\n",
       "6. '\"===== ===== ===================== == ================== ======= =======\"'\n",
       "\n",
       "\n"
      ],
      "text/plain": [
       "[1] \"\\\"X2001\\\"\"                                                                  \n",
       "[2] \"\\\"\\\"\"                                                                       \n",
       "[3] \"\\\" \\\"\"                                                                      \n",
       "[4] \"\\\"\\\"\"                                                                       \n",
       "[5] \"\\\"PLACE NUM   NAME                  AG HOMETOWN           NET     GUN\\\"\"    \n",
       "[6] \"\\\"===== ===== ===================== == ================== ======= =======\\\"\""
      ]
     },
     "metadata": {},
     "output_type": "display_data"
    }
   ],
   "source": [
    "#menFiles[['2001']][1:6]"
   ]
  },
  {
   "cell_type": "code",
   "execution_count": 21,
   "metadata": {},
   "outputs": [
    {
     "data": {
      "text/html": [
       "<ol class=list-inline>\n",
       "\t<li>'\"X2001\"'</li>\n",
       "\t<li>'\"\"'</li>\n",
       "\t<li>'\" \"'</li>\n",
       "\t<li>'\"\"'</li>\n",
       "\t<li><span style=white-space:pre-wrap>'\"PLACE NUM   NAME                  AG HOMETOWN           NET     GUN\"'</span></li>\n",
       "</ol>\n"
      ],
      "text/latex": [
       "\\begin{enumerate*}\n",
       "\\item '\"X2001\"'\n",
       "\\item '\"\"'\n",
       "\\item '\" \"'\n",
       "\\item '\"\"'\n",
       "\\item '\"PLACE NUM   NAME                  AG HOMETOWN           NET     GUN\"'\n",
       "\\end{enumerate*}\n"
      ],
      "text/markdown": [
       "1. '\"X2001\"'\n",
       "2. '\"\"'\n",
       "3. '\" \"'\n",
       "4. '\"\"'\n",
       "5. <span style=white-space:pre-wrap>'\"PLACE NUM   NAME                  AG HOMETOWN           NET     GUN\"'</span>\n",
       "\n",
       "\n"
      ],
      "text/plain": [
       "[1] \"\\\"X2001\\\"\"                                                              \n",
       "[2] \"\\\"\\\"\"                                                                   \n",
       "[3] \"\\\" \\\"\"                                                                  \n",
       "[4] \"\\\"\\\"\"                                                                   \n",
       "[5] \"\\\"PLACE NUM   NAME                  AG HOMETOWN           NET     GUN\\\"\""
      ]
     },
     "metadata": {},
     "output_type": "display_data"
    }
   ],
   "source": [
    "#men2001 = readLines(\"MenTxt/2001.txt\")\n",
    "#men2001[1:5]"
   ]
  },
  {
   "cell_type": "code",
   "execution_count": 163,
   "metadata": {},
   "outputs": [
    {
     "data": {
      "text/html": [
       "<ol class=list-inline>\n",
       "\t<li>'\"X2001\"'</li>\n",
       "\t<li>'\"\"'</li>\n",
       "\t<li><span style=white-space:pre-wrap>'\"PLACE NUM   NAME                  AG HOMETOWN           NET     GUN\"'</span></li>\n",
       "\t<li>'\"===== ===== ===================== == ================== ======= =======\"'</li>\n",
       "\t<li><span style=white-space:pre-wrap>'\"    1  6002 Elana MEYER           34 Rep Of S.africa      52:15   52:16#\"'</span></li>\n",
       "\t<li><span style=white-space:pre-wrap>'\"    2  6004 Lydia GRIGORIEVA      27 Russia               53:12   53:15#\"'</span></li>\n",
       "\t<li><span style=white-space:pre-wrap>'\"    3  6019 Eyerusalem KUMA       20 Ethiopia             53:16   53:19#\"'</span></li>\n",
       "\t<li><span style=white-space:pre-wrap>'\"    4  6007 Milena GLUSAC         25 Usa                  53:33   53:34#\"'</span></li>\n",
       "\t<li><span style=white-space:pre-wrap>'\"    5  6012 Olga KOVPOTINA        31 Russia               54:01   54:03#\"'</span></li>\n",
       "\t<li><span style=white-space:pre-wrap>'\"    6  6020 Merima HASHIM         20 Ethiopia             54:29   54:31#\"'</span></li>\n",
       "\t<li><span style=white-space:pre-wrap>'\"    7  6005 Jane OMORO            27 Kenya                55:05   55:08#\"'</span></li>\n",
       "\t<li><span style=white-space:pre-wrap>'\"    8  6022 Alice MURIITHI        26 West Chester PA      55:19   55:22#\"'</span></li>\n",
       "\t<li><span style=white-space:pre-wrap>'\"    9  6008 Lucia SUBANO          33 Kenya                55:25   55:28#\"'</span></li>\n",
       "\t<li><span style=white-space:pre-wrap>'\"   10  6062 Alison HOLINKA        22 Williamsburg WA      56:45   56:49\"'</span></li>\n",
       "\t<li><span style=white-space:pre-wrap>'\"   11  6097 Misti DEMKO           33 Hershey PA           56:50   57:11#\"'</span></li>\n",
       "</ol>\n"
      ],
      "text/latex": [
       "\\begin{enumerate*}\n",
       "\\item '\"X2001\"'\n",
       "\\item '\"\"'\n",
       "\\item '\"PLACE NUM   NAME                  AG HOMETOWN           NET     GUN\"'\n",
       "\\item '\"===== ===== ===================== == ================== ======= =======\"'\n",
       "\\item '\"    1  6002 Elana MEYER           34 Rep Of S.africa      52:15   52:16\\#\"'\n",
       "\\item '\"    2  6004 Lydia GRIGORIEVA      27 Russia               53:12   53:15\\#\"'\n",
       "\\item '\"    3  6019 Eyerusalem KUMA       20 Ethiopia             53:16   53:19\\#\"'\n",
       "\\item '\"    4  6007 Milena GLUSAC         25 Usa                  53:33   53:34\\#\"'\n",
       "\\item '\"    5  6012 Olga KOVPOTINA        31 Russia               54:01   54:03\\#\"'\n",
       "\\item '\"    6  6020 Merima HASHIM         20 Ethiopia             54:29   54:31\\#\"'\n",
       "\\item '\"    7  6005 Jane OMORO            27 Kenya                55:05   55:08\\#\"'\n",
       "\\item '\"    8  6022 Alice MURIITHI        26 West Chester PA      55:19   55:22\\#\"'\n",
       "\\item '\"    9  6008 Lucia SUBANO          33 Kenya                55:25   55:28\\#\"'\n",
       "\\item '\"   10  6062 Alison HOLINKA        22 Williamsburg WA      56:45   56:49\"'\n",
       "\\item '\"   11  6097 Misti DEMKO           33 Hershey PA           56:50   57:11\\#\"'\n",
       "\\end{enumerate*}\n"
      ],
      "text/markdown": [
       "1. '\"X2001\"'\n",
       "2. '\"\"'\n",
       "3. <span style=white-space:pre-wrap>'\"PLACE NUM   NAME                  AG HOMETOWN           NET     GUN\"'</span>\n",
       "4. '\"===== ===== ===================== == ================== ======= =======\"'\n",
       "5. <span style=white-space:pre-wrap>'\"    1  6002 Elana MEYER           34 Rep Of S.africa      52:15   52:16#\"'</span>\n",
       "6. <span style=white-space:pre-wrap>'\"    2  6004 Lydia GRIGORIEVA      27 Russia               53:12   53:15#\"'</span>\n",
       "7. <span style=white-space:pre-wrap>'\"    3  6019 Eyerusalem KUMA       20 Ethiopia             53:16   53:19#\"'</span>\n",
       "8. <span style=white-space:pre-wrap>'\"    4  6007 Milena GLUSAC         25 Usa                  53:33   53:34#\"'</span>\n",
       "9. <span style=white-space:pre-wrap>'\"    5  6012 Olga KOVPOTINA        31 Russia               54:01   54:03#\"'</span>\n",
       "10. <span style=white-space:pre-wrap>'\"    6  6020 Merima HASHIM         20 Ethiopia             54:29   54:31#\"'</span>\n",
       "11. <span style=white-space:pre-wrap>'\"    7  6005 Jane OMORO            27 Kenya                55:05   55:08#\"'</span>\n",
       "12. <span style=white-space:pre-wrap>'\"    8  6022 Alice MURIITHI        26 West Chester PA      55:19   55:22#\"'</span>\n",
       "13. <span style=white-space:pre-wrap>'\"    9  6008 Lucia SUBANO          33 Kenya                55:25   55:28#\"'</span>\n",
       "14. <span style=white-space:pre-wrap>'\"   10  6062 Alison HOLINKA        22 Williamsburg WA      56:45   56:49\"'</span>\n",
       "15. <span style=white-space:pre-wrap>'\"   11  6097 Misti DEMKO           33 Hershey PA           56:50   57:11#\"'</span>\n",
       "\n",
       "\n"
      ],
      "text/plain": [
       " [1] \"\\\"X2001\\\"\"                                                                   \n",
       " [2] \"\\\"\\\"\"                                                                        \n",
       " [3] \"\\\"PLACE NUM   NAME                  AG HOMETOWN           NET     GUN\\\"\"     \n",
       " [4] \"\\\"===== ===== ===================== == ================== ======= =======\\\"\" \n",
       " [5] \"\\\"    1  6002 Elana MEYER           34 Rep Of S.africa      52:15   52:16#\\\"\"\n",
       " [6] \"\\\"    2  6004 Lydia GRIGORIEVA      27 Russia               53:12   53:15#\\\"\"\n",
       " [7] \"\\\"    3  6019 Eyerusalem KUMA       20 Ethiopia             53:16   53:19#\\\"\"\n",
       " [8] \"\\\"    4  6007 Milena GLUSAC         25 Usa                  53:33   53:34#\\\"\"\n",
       " [9] \"\\\"    5  6012 Olga KOVPOTINA        31 Russia               54:01   54:03#\\\"\"\n",
       "[10] \"\\\"    6  6020 Merima HASHIM         20 Ethiopia             54:29   54:31#\\\"\"\n",
       "[11] \"\\\"    7  6005 Jane OMORO            27 Kenya                55:05   55:08#\\\"\"\n",
       "[12] \"\\\"    8  6022 Alice MURIITHI        26 West Chester PA      55:19   55:22#\\\"\"\n",
       "[13] \"\\\"    9  6008 Lucia SUBANO          33 Kenya                55:25   55:28#\\\"\"\n",
       "[14] \"\\\"   10  6062 Alison HOLINKA        22 Williamsburg WA      56:45   56:49\\\"\" \n",
       "[15] \"\\\"   11  6097 Misti DEMKO           33 Hershey PA           56:50   57:11#\\\"\""
      ]
     },
     "metadata": {},
     "output_type": "display_data"
    }
   ],
   "source": [
    "#Replace women's row 3 with men's row 5 to add \"==\".\n",
    "\n",
    "#womenFiles[['2001']][3:4] = menFiles[['2001']][5:6]\n",
    "#womenFiles[['2001']][1:15]"
   ]
  },
  {
   "cell_type": "code",
   "execution_count": 23,
   "metadata": {},
   "outputs": [
    {
     "ename": "ERROR",
     "evalue": "Error in 1:eqIndex: argument of length 0\n",
     "output_type": "error",
     "traceback": [
      "Error in 1:eqIndex: argument of length 0\nTraceback:\n",
      "1. lapply(womenFiles, extractVariables)",
      "2. FUN(X[[i]], ...)"
     ]
    }
   ],
   "source": [
    "#now we can run lapply....\n",
    "\n",
    "#womenResMat = lapply(womenFiles, extractVariables)\n",
    "#length(womenResMat)"
   ]
  },
  {
   "cell_type": "code",
   "execution_count": 173,
   "metadata": {},
   "outputs": [
    {
     "data": {
      "text/html": [
       "<dl class=dl-horizontal>\n",
       "\t<dt>1999</dt>\n",
       "\t\t<dd>3190</dd>\n",
       "\t<dt>2000</dt>\n",
       "\t\t<dd>3016</dd>\n",
       "\t<dt>2001</dt>\n",
       "\t\t<dd>3621</dd>\n",
       "\t<dt>2002</dt>\n",
       "\t\t<dd>3723</dd>\n",
       "\t<dt>2003</dt>\n",
       "\t\t<dd>3946</dd>\n",
       "\t<dt>2004</dt>\n",
       "\t\t<dd>4156</dd>\n",
       "\t<dt>2005</dt>\n",
       "\t\t<dd>4325</dd>\n",
       "\t<dt>2006</dt>\n",
       "\t\t<dd>5235</dd>\n",
       "\t<dt>2007</dt>\n",
       "\t\t<dd>5274</dd>\n",
       "\t<dt>2008</dt>\n",
       "\t\t<dd>5905</dd>\n",
       "\t<dt>2009</dt>\n",
       "\t\t<dd>6649</dd>\n",
       "\t<dt>2010</dt>\n",
       "\t\t<dd>6909</dd>\n",
       "\t<dt>2011</dt>\n",
       "\t\t<dd>7011</dd>\n",
       "\t<dt>2012</dt>\n",
       "\t\t<dd>7193</dd>\n",
       "</dl>\n"
      ],
      "text/latex": [
       "\\begin{description*}\n",
       "\\item[1999] 3190\n",
       "\\item[2000] 3016\n",
       "\\item[2001] 3621\n",
       "\\item[2002] 3723\n",
       "\\item[2003] 3946\n",
       "\\item[2004] 4156\n",
       "\\item[2005] 4325\n",
       "\\item[2006] 5235\n",
       "\\item[2007] 5274\n",
       "\\item[2008] 5905\n",
       "\\item[2009] 6649\n",
       "\\item[2010] 6909\n",
       "\\item[2011] 7011\n",
       "\\item[2012] 7193\n",
       "\\end{description*}\n"
      ],
      "text/markdown": [
       "1999\n",
       ":   31902000\n",
       ":   30162001\n",
       ":   36212002\n",
       ":   37232003\n",
       ":   39462004\n",
       ":   41562005\n",
       ":   43252006\n",
       ":   52352007\n",
       ":   52742008\n",
       ":   59052009\n",
       ":   66492010\n",
       ":   69092011\n",
       ":   70112012\n",
       ":   7193\n",
       "\n"
      ],
      "text/plain": [
       "1999 2000 2001 2002 2003 2004 2005 2006 2007 2008 2009 2010 2011 2012 \n",
       "3190 3016 3621 3723 3946 4156 4325 5235 5274 5905 6649 6909 7011 7193 "
      ]
     },
     "metadata": {},
     "output_type": "display_data"
    },
    {
     "data": {
      "text/html": [
       "<dl class=dl-horizontal>\n",
       "\t<dt>1999</dt>\n",
       "\t\t<dd>2356</dd>\n",
       "\t<dt>2000</dt>\n",
       "\t\t<dd>2166</dd>\n",
       "\t<dt>2001</dt>\n",
       "\t\t<dd>2972</dd>\n",
       "\t<dt>2002</dt>\n",
       "\t\t<dd>3334</dd>\n",
       "\t<dt>2003</dt>\n",
       "\t\t<dd>3542</dd>\n",
       "\t<dt>2004</dt>\n",
       "\t\t<dd>3899</dd>\n",
       "\t<dt>2005</dt>\n",
       "\t\t<dd>4334</dd>\n",
       "\t<dt>2006</dt>\n",
       "\t\t<dd>5435</dd>\n",
       "\t<dt>2007</dt>\n",
       "\t\t<dd>5690</dd>\n",
       "\t<dt>2008</dt>\n",
       "\t\t<dd>6397</dd>\n",
       "\t<dt>2009</dt>\n",
       "\t\t<dd>8323</dd>\n",
       "\t<dt>2010</dt>\n",
       "\t\t<dd>8853</dd>\n",
       "\t<dt>2011</dt>\n",
       "\t\t<dd>9030</dd>\n",
       "\t<dt>2012</dt>\n",
       "\t\t<dd>9730</dd>\n",
       "</dl>\n"
      ],
      "text/latex": [
       "\\begin{description*}\n",
       "\\item[1999] 2356\n",
       "\\item[2000] 2166\n",
       "\\item[2001] 2972\n",
       "\\item[2002] 3334\n",
       "\\item[2003] 3542\n",
       "\\item[2004] 3899\n",
       "\\item[2005] 4334\n",
       "\\item[2006] 5435\n",
       "\\item[2007] 5690\n",
       "\\item[2008] 6397\n",
       "\\item[2009] 8323\n",
       "\\item[2010] 8853\n",
       "\\item[2011] 9030\n",
       "\\item[2012] 9730\n",
       "\\end{description*}\n"
      ],
      "text/markdown": [
       "1999\n",
       ":   23562000\n",
       ":   21662001\n",
       ":   29722002\n",
       ":   33342003\n",
       ":   35422004\n",
       ":   38992005\n",
       ":   43342006\n",
       ":   54352007\n",
       ":   56902008\n",
       ":   63972009\n",
       ":   83232010\n",
       ":   88532011\n",
       ":   90302012\n",
       ":   9730\n",
       "\n"
      ],
      "text/plain": [
       "1999 2000 2001 2002 2003 2004 2005 2006 2007 2008 2009 2010 2011 2012 \n",
       "2356 2166 2972 3334 3542 3899 4334 5435 5690 6397 8323 8853 9030 9730 "
      ]
     },
     "metadata": {},
     "output_type": "display_data"
    }
   ],
   "source": [
    "#sanitycheck\n",
    "\n",
    "sapply(menResMat, nrow)\n",
    "sapply(womenResMat, nrow)"
   ]
  },
  {
   "cell_type": "markdown",
   "metadata": {},
   "source": [
    "### 2.3 creating data frames of the information."
   ]
  },
  {
   "cell_type": "code",
   "execution_count": 186,
   "metadata": {},
   "outputs": [
    {
     "data": {
      "text/html": [
       "<ol class=list-inline>\n",
       "\t<li>41</li>\n",
       "\t<li>39</li>\n",
       "\t<li>56</li>\n",
       "\t<li>35</li>\n",
       "\t<li>&lt;NA&gt;</li>\n",
       "\t<li>48</li>\n",
       "</ol>\n"
      ],
      "text/latex": [
       "\\begin{enumerate*}\n",
       "\\item 41\n",
       "\\item 39\n",
       "\\item 56\n",
       "\\item 35\n",
       "\\item <NA>\n",
       "\\item 48\n",
       "\\end{enumerate*}\n"
      ],
      "text/markdown": [
       "1. 41\n",
       "2. 39\n",
       "3. 56\n",
       "4. 35\n",
       "5. &lt;NA&gt;\n",
       "6. 48\n",
       "\n",
       "\n"
      ],
      "text/plain": [
       "[1] 41 39 56 35 NA 48"
      ]
     },
     "metadata": {},
     "output_type": "display_data"
    }
   ],
   "source": [
    "#age = as.numeric(menResMat[['2012']][ , 'ag'])\n",
    "#tail(age)"
   ]
  },
  {
   "cell_type": "code",
   "execution_count": 167,
   "metadata": {},
   "outputs": [
    {
     "name": "stderr",
     "output_type": "stream",
     "text": [
      "Warning message in FUN(X[[i]], ...):\n",
      "\"NAs introduced by coercion\"Warning message in FUN(X[[i]], ...):\n",
      "\"NAs introduced by coercion\"Warning message in FUN(X[[i]], ...):\n",
      "\"NAs introduced by coercion\""
     ]
    }
   ],
   "source": [
    "#age = sapply(menResMat,\n",
    "#             function(x) as.numeric(x[ , 'ag']))"
   ]
  },
  {
   "cell_type": "code",
   "execution_count": 168,
   "metadata": {},
   "outputs": [
    {
     "data": {
      "text/html": [
       "<strong>png:</strong> 2"
      ],
      "text/latex": [
       "\\textbf{png:} 2"
      ],
      "text/markdown": [
       "**png:** 2"
      ],
      "text/plain": [
       "png \n",
       "  2 "
      ]
     },
     "metadata": {},
     "output_type": "display_data"
    }
   ],
   "source": [
    "#pdf(\"CB_BoxplotAgeByYr.pdf\", width = 8, height = 5)\n",
    "#oldPar = par(mar = c(4.1, 4.1, 1, 1))\n",
    "#boxplot(age, ylab = \"Age\", xlab = \"Year\")\n",
    "#par(oldPar)\n",
    "#dev.off()"
   ]
  },
  {
   "cell_type": "code",
   "execution_count": 169,
   "metadata": {},
   "outputs": [
    {
     "data": {
      "text/html": [
       "<ol class=list-inline>\n",
       "\t<li>'\"X2003\"'</li>\n",
       "\t<li>'\"\"'</li>\n",
       "\t<li><span style=white-space:pre-wrap>'\"Place Div /Tot  Num    Name                          Ag Hometown            Gun Tim  Net Tim \"'</span></li>\n",
       "\t<li><span style=white-space:pre-wrap>'\"===== ========= ===== ============================= == =================== =======  ======= \"'</span></li>\n",
       "\t<li><span style=white-space:pre-wrap>'\"    1    1/1999     6  John Korir                    27  KEN                  46:56#   46:55 \"'</span></li>\n",
       "\t<li><span style=white-space:pre-wrap>'\"    2    2/1999     1  Reuben Cheruiyot              28  KEN                  47:03#   47:02 \"'</span></li>\n",
       "</ol>\n"
      ],
      "text/latex": [
       "\\begin{enumerate*}\n",
       "\\item '\"X2003\"'\n",
       "\\item '\"\"'\n",
       "\\item '\"Place Div /Tot  Num    Name                          Ag Hometown            Gun Tim  Net Tim \"'\n",
       "\\item '\"===== ========= ===== ============================= == =================== =======  ======= \"'\n",
       "\\item '\"    1    1/1999     6  John Korir                    27  KEN                  46:56\\#   46:55 \"'\n",
       "\\item '\"    2    2/1999     1  Reuben Cheruiyot              28  KEN                  47:03\\#   47:02 \"'\n",
       "\\end{enumerate*}\n"
      ],
      "text/markdown": [
       "1. '\"X2003\"'\n",
       "2. '\"\"'\n",
       "3. <span style=white-space:pre-wrap>'\"Place Div /Tot  Num    Name                          Ag Hometown            Gun Tim  Net Tim \"'</span>\n",
       "4. <span style=white-space:pre-wrap>'\"===== ========= ===== ============================= == =================== =======  ======= \"'</span>\n",
       "5. <span style=white-space:pre-wrap>'\"    1    1/1999     6  John Korir                    27  KEN                  46:56#   46:55 \"'</span>\n",
       "6. <span style=white-space:pre-wrap>'\"    2    2/1999     1  Reuben Cheruiyot              28  KEN                  47:03#   47:02 \"'</span>\n",
       "\n",
       "\n"
      ],
      "text/plain": [
       "[1] \"\\\"X2003\\\"\"                                                                                        \n",
       "[2] \"\\\"\\\"\"                                                                                             \n",
       "[3] \"\\\"Place Div /Tot  Num    Name                          Ag Hometown            Gun Tim  Net Tim \\\"\"\n",
       "[4] \"\\\"===== ========= ===== ============================= == =================== =======  ======= \\\"\" \n",
       "[5] \"\\\"    1    1/1999     6  John Korir                    27  KEN                  46:56#   46:55 \\\"\"\n",
       "[6] \"\\\"    2    2/1999     1  Reuben Cheruiyot              28  KEN                  47:03#   47:02 \\\"\""
      ]
     },
     "metadata": {},
     "output_type": "display_data"
    }
   ],
   "source": [
    "#head(menFiles[['2003']])"
   ]
  },
  {
   "cell_type": "code",
   "execution_count": 289,
   "metadata": {},
   "outputs": [
    {
     "data": {
      "text/html": [
       "<ol class=list-inline>\n",
       "\t<li>'\"X2006\"'</li>\n",
       "\t<li>'\"\"'</li>\n",
       "\t<li><span style=white-space:pre-wrap>'\"               Credit Union Cherry Blossom 10 Mile Road Race\"'</span></li>\n",
       "\t<li><span style=white-space:pre-wrap>'\"                              Washington, DC\"'</span></li>\n",
       "\t<li><span style=white-space:pre-wrap>'\"                           Sunday, April 2, 2006\"'</span></li>\n",
       "\t<li><span style=white-space:pre-wrap>'\"                Mens\\'s Official Results Sorted By Gun Time\"'</span></li>\n",
       "\t<li>'\"\"'</li>\n",
       "\t<li><span style=white-space:pre-wrap>'\"Place Div/Tot  Num    Name                   Ag Hometown        Net Tim Gun Tim  Pace  S \"'</span></li>\n",
       "\t<li><span style=white-space:pre-wrap>'\"===== ======== ====== ====================== == ======================= =======  ===== = \"'</span></li>\n",
       "\t<li><span style=white-space:pre-wrap>'\"    1   1/2892      1 Gilbert Okari          27 Kenya             47:24   47:25#  4:45   \"'</span></li>\n",
       "\t<li><span style=white-space:pre-wrap>'\"    2   2/2892     11 Samuel Ndereba         29 Kenya             47:34   47:35#  4:46   \"'</span></li>\n",
       "\t<li><span style=white-space:pre-wrap>'\"    3   3/2892      3 Rueben Kibet Chebii    23 Kenya             47:38   47:39#  4:46   \"'</span></li>\n",
       "\t<li><span style=white-space:pre-wrap>'\"    4   4/2892      9 Kazuo Ietani           28 Japan             47:39   47:39#  4:46   \"'</span></li>\n",
       "\t<li><span style=white-space:pre-wrap>'\"    5   5/2892     17 Wilson Komen           28 Kenya             47:58   47:58#  4:48   \"'</span></li>\n",
       "\t<li><span style=white-space:pre-wrap>'\"    6   6/2892      7 Matt Downin            29 United States     48:42   48:43#  4:53   \"'</span></li>\n",
       "</ol>\n"
      ],
      "text/latex": [
       "\\begin{enumerate*}\n",
       "\\item '\"X2006\"'\n",
       "\\item '\"\"'\n",
       "\\item '\"               Credit Union Cherry Blossom 10 Mile Road Race\"'\n",
       "\\item '\"                              Washington, DC\"'\n",
       "\\item '\"                           Sunday, April 2, 2006\"'\n",
       "\\item '\"                Mens\\textbackslash{}'s Official Results Sorted By Gun Time\"'\n",
       "\\item '\"\"'\n",
       "\\item '\"Place Div/Tot  Num    Name                   Ag Hometown        Net Tim Gun Tim  Pace  S \"'\n",
       "\\item '\"===== ======== ====== ====================== == ======================= =======  ===== = \"'\n",
       "\\item '\"    1   1/2892      1 Gilbert Okari          27 Kenya             47:24   47:25\\#  4:45   \"'\n",
       "\\item '\"    2   2/2892     11 Samuel Ndereba         29 Kenya             47:34   47:35\\#  4:46   \"'\n",
       "\\item '\"    3   3/2892      3 Rueben Kibet Chebii    23 Kenya             47:38   47:39\\#  4:46   \"'\n",
       "\\item '\"    4   4/2892      9 Kazuo Ietani           28 Japan             47:39   47:39\\#  4:46   \"'\n",
       "\\item '\"    5   5/2892     17 Wilson Komen           28 Kenya             47:58   47:58\\#  4:48   \"'\n",
       "\\item '\"    6   6/2892      7 Matt Downin            29 United States     48:42   48:43\\#  4:53   \"'\n",
       "\\end{enumerate*}\n"
      ],
      "text/markdown": [
       "1. '\"X2006\"'\n",
       "2. '\"\"'\n",
       "3. <span style=white-space:pre-wrap>'\"               Credit Union Cherry Blossom 10 Mile Road Race\"'</span>\n",
       "4. <span style=white-space:pre-wrap>'\"                              Washington, DC\"'</span>\n",
       "5. <span style=white-space:pre-wrap>'\"                           Sunday, April 2, 2006\"'</span>\n",
       "6. <span style=white-space:pre-wrap>'\"                Mens\\'s Official Results Sorted By Gun Time\"'</span>\n",
       "7. '\"\"'\n",
       "8. <span style=white-space:pre-wrap>'\"Place Div/Tot  Num    Name                   Ag Hometown        Net Tim Gun Tim  Pace  S \"'</span>\n",
       "9. <span style=white-space:pre-wrap>'\"===== ======== ====== ====================== == ======================= =======  ===== = \"'</span>\n",
       "10. <span style=white-space:pre-wrap>'\"    1   1/2892      1 Gilbert Okari          27 Kenya             47:24   47:25#  4:45   \"'</span>\n",
       "11. <span style=white-space:pre-wrap>'\"    2   2/2892     11 Samuel Ndereba         29 Kenya             47:34   47:35#  4:46   \"'</span>\n",
       "12. <span style=white-space:pre-wrap>'\"    3   3/2892      3 Rueben Kibet Chebii    23 Kenya             47:38   47:39#  4:46   \"'</span>\n",
       "13. <span style=white-space:pre-wrap>'\"    4   4/2892      9 Kazuo Ietani           28 Japan             47:39   47:39#  4:46   \"'</span>\n",
       "14. <span style=white-space:pre-wrap>'\"    5   5/2892     17 Wilson Komen           28 Kenya             47:58   47:58#  4:48   \"'</span>\n",
       "15. <span style=white-space:pre-wrap>'\"    6   6/2892      7 Matt Downin            29 United States     48:42   48:43#  4:53   \"'</span>\n",
       "\n",
       "\n"
      ],
      "text/plain": [
       " [1] \"\\\"X2006\\\"\"                                                                                    \n",
       " [2] \"\\\"\\\"\"                                                                                         \n",
       " [3] \"\\\"               Credit Union Cherry Blossom 10 Mile Road Race\\\"\"                             \n",
       " [4] \"\\\"                              Washington, DC\\\"\"                                             \n",
       " [5] \"\\\"                           Sunday, April 2, 2006\\\"\"                                         \n",
       " [6] \"\\\"                Mens's Official Results Sorted By Gun Time\\\"\"                               \n",
       " [7] \"\\\"\\\"\"                                                                                         \n",
       " [8] \"\\\"Place Div/Tot  Num    Name                   Ag Hometown        Net Tim Gun Tim  Pace  S \\\"\"\n",
       " [9] \"\\\"===== ======== ====== ====================== == ======================= =======  ===== = \\\"\"\n",
       "[10] \"\\\"    1   1/2892      1 Gilbert Okari          27 Kenya             47:24   47:25#  4:45   \\\"\"\n",
       "[11] \"\\\"    2   2/2892     11 Samuel Ndereba         29 Kenya             47:34   47:35#  4:46   \\\"\"\n",
       "[12] \"\\\"    3   3/2892      3 Rueben Kibet Chebii    23 Kenya             47:38   47:39#  4:46   \\\"\"\n",
       "[13] \"\\\"    4   4/2892      9 Kazuo Ietani           28 Japan             47:39   47:39#  4:46   \\\"\"\n",
       "[14] \"\\\"    5   5/2892     17 Wilson Komen           28 Kenya             47:58   47:58#  4:48   \\\"\"\n",
       "[15] \"\\\"    6   6/2892      7 Matt Downin            29 United States     48:42   48:43#  4:53   \\\"\""
      ]
     },
     "metadata": {},
     "output_type": "display_data"
    }
   ],
   "source": [
    "#head(menFiles[['2006']],15)"
   ]
  },
  {
   "cell_type": "code",
   "execution_count": 170,
   "metadata": {},
   "outputs": [
    {
     "data": {
      "text/html": [
       "<ol class=list-inline>\n",
       "\t<li><span style=white-space:pre-wrap>'\" 2191 338/746    7844 Matthew Criblez        40 Fredericksburg  1:25:36 1:27:39   8:46   \"'</span></li>\n",
       "\t<li><span style=white-space:pre-wrap>'\" 2192 1263/2892   1475 Matt Curtis            39 Vienna          1:27:08 1:27:40   8:46   \"'</span></li>\n",
       "\t<li><span style=white-space:pre-wrap>'\" 2193  94/279    1437 Joe McCloskey          59 Columbia        1:27:01 1:27:40   8:46   \"'</span></li>\n",
       "\t<li><span style=white-space:pre-wrap>'\" 2194 257/590    7062 Donald Hofmann         48 Princeton Junct 1:25:45 1:27:41   8:47   \"'</span></li>\n",
       "\t<li><span style=white-space:pre-wrap>'\" 2195 1264/2892   7049 Claudio Petruzziello   23 Princeton Jct   1:25:45 1:27:41   8:47   \"'</span></li>\n",
       "\t<li><span style=white-space:pre-wrap>'\" 2196 339/746    3319 Robert Morrison        40 South Boston    1:23:54 1:27:41   8:47   \"'</span></li>\n",
       "</ol>\n"
      ],
      "text/latex": [
       "\\begin{enumerate*}\n",
       "\\item '\" 2191 338/746    7844 Matthew Criblez        40 Fredericksburg  1:25:36 1:27:39   8:46   \"'\n",
       "\\item '\" 2192 1263/2892   1475 Matt Curtis            39 Vienna          1:27:08 1:27:40   8:46   \"'\n",
       "\\item '\" 2193  94/279    1437 Joe McCloskey          59 Columbia        1:27:01 1:27:40   8:46   \"'\n",
       "\\item '\" 2194 257/590    7062 Donald Hofmann         48 Princeton Junct 1:25:45 1:27:41   8:47   \"'\n",
       "\\item '\" 2195 1264/2892   7049 Claudio Petruzziello   23 Princeton Jct   1:25:45 1:27:41   8:47   \"'\n",
       "\\item '\" 2196 339/746    3319 Robert Morrison        40 South Boston    1:23:54 1:27:41   8:47   \"'\n",
       "\\end{enumerate*}\n"
      ],
      "text/markdown": [
       "1. <span style=white-space:pre-wrap>'\" 2191 338/746    7844 Matthew Criblez        40 Fredericksburg  1:25:36 1:27:39   8:46   \"'</span>\n",
       "2. <span style=white-space:pre-wrap>'\" 2192 1263/2892   1475 Matt Curtis            39 Vienna          1:27:08 1:27:40   8:46   \"'</span>\n",
       "3. <span style=white-space:pre-wrap>'\" 2193  94/279    1437 Joe McCloskey          59 Columbia        1:27:01 1:27:40   8:46   \"'</span>\n",
       "4. <span style=white-space:pre-wrap>'\" 2194 257/590    7062 Donald Hofmann         48 Princeton Junct 1:25:45 1:27:41   8:47   \"'</span>\n",
       "5. <span style=white-space:pre-wrap>'\" 2195 1264/2892   7049 Claudio Petruzziello   23 Princeton Jct   1:25:45 1:27:41   8:47   \"'</span>\n",
       "6. <span style=white-space:pre-wrap>'\" 2196 339/746    3319 Robert Morrison        40 South Boston    1:23:54 1:27:41   8:47   \"'</span>\n",
       "\n",
       "\n"
      ],
      "text/plain": [
       "[1] \"\\\" 2191 338/746    7844 Matthew Criblez        40 Fredericksburg  1:25:36 1:27:39   8:46   \\\"\" \n",
       "[2] \"\\\" 2192 1263/2892   1475 Matt Curtis            39 Vienna          1:27:08 1:27:40   8:46   \\\"\"\n",
       "[3] \"\\\" 2193  94/279    1437 Joe McCloskey          59 Columbia        1:27:01 1:27:40   8:46   \\\"\" \n",
       "[4] \"\\\" 2194 257/590    7062 Donald Hofmann         48 Princeton Junct 1:25:45 1:27:41   8:47   \\\"\" \n",
       "[5] \"\\\" 2195 1264/2892   7049 Claudio Petruzziello   23 Princeton Jct   1:25:45 1:27:41   8:47   \\\"\"\n",
       "[6] \"\\\" 2196 339/746    3319 Robert Morrison        40 South Boston    1:23:54 1:27:41   8:47   \\\"\" "
      ]
     },
     "metadata": {},
     "output_type": "display_data"
    }
   ],
   "source": [
    "#menFiles[['2006']][2200:2205]"
   ]
  },
  {
   "cell_type": "code",
   "execution_count": 32,
   "metadata": {},
   "outputs": [],
   "source": [
    "#selectCols = function(shortColNames, headerRow, searchLocs) {\n",
    "#  sapply(shortColNames, function(shortName, headerRow, searchLocs){\n",
    "#    startPos = regexpr(shortName, headerRow)[[1]]\n",
    "#    if (startPos == -1) return( c(NA, NA) )\n",
    "#    index = sum(startPos >= searchLocs)\n",
    "#    c(searchLocs[index] + 1, searchLocs[index + 1])\n",
    "#  }, headerRow = headerRow, searchLocs = searchLocs )\n",
    "#}\n"
   ]
  },
  {
   "cell_type": "code",
   "execution_count": 34,
   "metadata": {},
   "outputs": [
    {
     "ename": "ERROR",
     "evalue": "Error in 1:eqIndex: argument of length 0\n",
     "output_type": "error",
     "traceback": [
      "Error in 1:eqIndex: argument of length 0\nTraceback:\n",
      "1. lapply(menFiles, extractVariables)",
      "2. FUN(X[[i]], ...)"
     ]
    }
   ],
   "source": [
    "#menResMat = lapply(menFiles, extractVariables)\n",
    "#womenResMat = lapply(womenFiles, extractVariables)\n",
    "\n",
    "\n"
   ]
  },
  {
   "cell_type": "code",
   "execution_count": 35,
   "metadata": {},
   "outputs": [
    {
     "ename": "ERROR",
     "evalue": "Error in lapply(X = X, FUN = FUN, ...): object 'menResMat' not found\n",
     "output_type": "error",
     "traceback": [
      "Error in lapply(X = X, FUN = FUN, ...): object 'menResMat' not found\nTraceback:\n",
      "1. sapply(menResMat, function(x) as.numeric(x[, \"ag\"]))",
      "2. lapply(X = X, FUN = FUN, ...)"
     ]
    }
   ],
   "source": [
    "#age = sapply(menResMat, \n",
    "#             function(x) as.numeric(x[ , 'ag']))"
   ]
  },
  {
   "cell_type": "code",
   "execution_count": 36,
   "metadata": {},
   "outputs": [
    {
     "ename": "ERROR",
     "evalue": "Error in boxplot(age, ylab = \"Age\", xlab = \"Year\"): object 'age' not found\n",
     "output_type": "error",
     "traceback": [
      "Error in boxplot(age, ylab = \"Age\", xlab = \"Year\"): object 'age' not found\nTraceback:\n",
      "1. boxplot(age, ylab = \"Age\", xlab = \"Year\")"
     ]
    }
   ],
   "source": [
    "#pdf(\"CB_BoxplotAgeByYrRevised.pdf\", width = 8, height = 5)\n",
    "#oldPar = par(mar = c(4.1, 4.1, 1, 1))\n",
    "#boxplot(age, ylab = \"Age\", xlab = \"Year\")\n",
    "#par(oldPar)\n",
    "#dev.off()"
   ]
  },
  {
   "cell_type": "code",
   "execution_count": 39,
   "metadata": {},
   "outputs": [
    {
     "data": {
      "text/html": [],
      "text/latex": [],
      "text/markdown": [],
      "text/plain": [
       "integer(0)"
      ]
     },
     "metadata": {},
     "output_type": "display_data"
    }
   ],
   "source": [
    "#grep(\"^===\", menFiles[['2001']])"
   ]
  },
  {
   "cell_type": "code",
   "execution_count": 171,
   "metadata": {},
   "outputs": [
    {
     "ename": "ERROR",
     "evalue": "Error in which(is.na(age2001)): object 'age2001' not found\n",
     "output_type": "error",
     "traceback": [
      "Error in which(is.na(age2001)): object 'age2001' not found\nTraceback:\n",
      "1. which(is.na(age2001))"
     ]
    }
   ],
   "source": [
    "#badAgeIndex = which(is.na(age2001)) + 5\n",
    "#menFiles[['2001']][ badAgeIndex ]\n",
    "\n",
    "#badAgeIndex"
   ]
  },
  {
   "cell_type": "markdown",
   "metadata": {},
   "source": [
    "#### Keep this function...."
   ]
  },
  {
   "cell_type": "code",
   "execution_count": 41,
   "metadata": {},
   "outputs": [
    {
     "ename": "ERROR",
     "evalue": "Error in 1:eqIndex: argument of length 0\n",
     "output_type": "error",
     "traceback": [
      "Error in 1:eqIndex: argument of length 0\nTraceback:\n",
      "1. lapply(menFiles, extractVariables)",
      "2. FUN(X[[i]], ...)"
     ]
    }
   ],
   "source": [
    "#Function to remove unwanted raws of data\n",
    "\n",
    "#extractVariables = \n",
    "#function(file, varNames =c(\"name\", \"home\", \"ag\", \"gun\",\n",
    "#                           \"net\", \"time\"))\n",
    "#{\n",
    "  \n",
    "  # Find the index of the row with =s\n",
    "#  eqIndex = grep(\"^===\", file)\n",
    "  # Extract the two key rows and the data \n",
    "#  spacerRow = file[eqIndex] \n",
    "#  headerRow = tolower(file[ eqIndex - 1 ])\n",
    "#  body = file[ -(1 : eqIndex) ]\n",
    "       # Remove footnotes and blank rows\n",
    "#  footnotes = grep(\"^[[:blank:]]*(\\\\*|\\\\#)\", body)\n",
    "#  if ( length(footnotes) > 0 ) body = body[ -footnotes ]\n",
    "#  blanks = grep(\"^[[:blank:]]*$\", body)\n",
    "#  if (length(blanks) > 0 ) body = body[ -blanks ]\n",
    "  \n",
    "  \n",
    "  # Obtain the starting and ending positions of variables   \n",
    "#  searchLocs = findColLocs(spacerRow)\n",
    "#  locCols = selectCols(varNames, headerRow, searchLocs)\n",
    "  \n",
    "#  Values = mapply(substr, list(body), start = locCols[1, ], \n",
    "#                  stop = locCols[2, ])\n",
    "#  colnames(Values) = varNames\n",
    "  \n",
    "#  return(Values)\n",
    "#}\n",
    "\n",
    "#menResMat = lapply(menFiles, extractVariables)\n",
    "#womenResMat = lapply(womenFiles, extractVariables)\n"
   ]
  },
  {
   "cell_type": "markdown",
   "metadata": {},
   "source": [
    "#### Keep this function too"
   ]
  },
  {
   "cell_type": "code",
   "execution_count": 301,
   "metadata": {},
   "outputs": [],
   "source": [
    "convertTime = function(time) {\n",
    "  timePieces = strsplit(time, \":\")\n",
    "  timePieces = sapply(timePieces, as.numeric)\n",
    "  sapply(timePieces, function(x) {\n",
    "                      if (length(x) == 2) x[1] + x[2]/60\n",
    "                      else 60*x[1] + x[2] + x[3]/60\n",
    "                      })\n",
    "}\n",
    "\n",
    "createDF = function(Res, year, sex) \n",
    "{\n",
    "  # Determine which time to use\n",
    "  if ( !is.na(Res[1, 'net']) ) useTime = Res[ , 'net']\n",
    "  else if ( !is.na(Res[1, 'gun']) ) useTime = Res[ , 'gun']\n",
    "  else useTime = Res[ , 'time']\n",
    "  \n",
    "  # Remove # and * and blanks from time\n",
    "  useTime = gsub(\"[#\\\\*\\\"[:blank:]]\", \"\", useTime)\n",
    "  \n",
    "  \n",
    "  # Drop rows with no time\n",
    "  Res = Res[ useTime != \"\", ]\n",
    "  runTime = convertTime(useTime[ useTime != \"\" ])\n",
    "  \n",
    "  Results = data.frame(year = rep(year, nrow(Res)),\n",
    "                       sex = rep(sex, nrow(Res)),\n",
    "                       name = Res[ , 'name'], home = Res[ , 'home'],\n",
    "                       age = as.numeric(Res[, 'ag']), \n",
    "                       runTime = runTime,\n",
    "                       stringsAsFactors = FALSE)\n",
    "  invisible(Results)\n",
    "}\n",
    "\n"
   ]
  },
  {
   "cell_type": "code",
   "execution_count": 323,
   "metadata": {},
   "outputs": [
    {
     "name": "stderr",
     "output_type": "stream",
     "text": [
      "Warning message in data.frame(year = rep(year, nrow(Res)), sex = rep(sex, nrow(Res)), :\n",
      "\"NAs introduced by coercion\""
     ]
    }
   ],
   "source": [
    "menResMat[['2006']][,\"home\"] = gsub(\"[0-9, :]\", \"\", menResMat[['2006']][,\"home\"])\n",
    "menResMat[['2006']][,\"net\"] = gsub(\"[A-Za-z\\\\s]\", \"\", menResMat[['2006']][,\"net\"])\n",
    "\n",
    "menDF = mapply(createDF, menResMat, year = 1999:2012,\n",
    "               sex = rep(\"M\", 14), SIMPLIFY = FALSE)"
   ]
  },
  {
   "cell_type": "code",
   "execution_count": 324,
   "metadata": {},
   "outputs": [
    {
     "data": {
      "text/html": [
       "<dl class=dl-horizontal>\n",
       "\t<dt>1999</dt>\n",
       "\t\t<dd>0</dd>\n",
       "\t<dt>2000</dt>\n",
       "\t\t<dd>0</dd>\n",
       "\t<dt>2001</dt>\n",
       "\t\t<dd>0</dd>\n",
       "\t<dt>2002</dt>\n",
       "\t\t<dd>0</dd>\n",
       "\t<dt>2003</dt>\n",
       "\t\t<dd>0</dd>\n",
       "\t<dt>2004</dt>\n",
       "\t\t<dd>0</dd>\n",
       "\t<dt>2005</dt>\n",
       "\t\t<dd>0</dd>\n",
       "\t<dt>2006</dt>\n",
       "\t\t<dd>0</dd>\n",
       "\t<dt>2007</dt>\n",
       "\t\t<dd>0</dd>\n",
       "\t<dt>2008</dt>\n",
       "\t\t<dd>0</dd>\n",
       "\t<dt>2009</dt>\n",
       "\t\t<dd>0</dd>\n",
       "\t<dt>2010</dt>\n",
       "\t\t<dd>0</dd>\n",
       "\t<dt>2011</dt>\n",
       "\t\t<dd>0</dd>\n",
       "\t<dt>2012</dt>\n",
       "\t\t<dd>0</dd>\n",
       "</dl>\n"
      ],
      "text/latex": [
       "\\begin{description*}\n",
       "\\item[1999] 0\n",
       "\\item[2000] 0\n",
       "\\item[2001] 0\n",
       "\\item[2002] 0\n",
       "\\item[2003] 0\n",
       "\\item[2004] 0\n",
       "\\item[2005] 0\n",
       "\\item[2006] 0\n",
       "\\item[2007] 0\n",
       "\\item[2008] 0\n",
       "\\item[2009] 0\n",
       "\\item[2010] 0\n",
       "\\item[2011] 0\n",
       "\\item[2012] 0\n",
       "\\end{description*}\n"
      ],
      "text/markdown": [
       "1999\n",
       ":   02000\n",
       ":   02001\n",
       ":   02002\n",
       ":   02003\n",
       ":   02004\n",
       ":   02005\n",
       ":   02006\n",
       ":   02007\n",
       ":   02008\n",
       ":   02009\n",
       ":   02010\n",
       ":   02011\n",
       ":   02012\n",
       ":   0\n",
       "\n"
      ],
      "text/plain": [
       "1999 2000 2001 2002 2003 2004 2005 2006 2007 2008 2009 2010 2011 2012 \n",
       "   0    0    0    0    0    0    0    0    0    0    0    0    0    0 "
      ]
     },
     "metadata": {},
     "output_type": "display_data"
    }
   ],
   "source": [
    "#sapply(menDF, function(x) sum(is.na(x$runTime)))"
   ]
  },
  {
   "cell_type": "code",
   "execution_count": 325,
   "metadata": {},
   "outputs": [
    {
     "name": "stderr",
     "output_type": "stream",
     "text": [
      "Warning message in data.frame(year = rep(year, nrow(Res)), sex = rep(sex, nrow(Res)), :\n",
      "\"NAs introduced by coercion\"Warning message in data.frame(year = rep(year, nrow(Res)), sex = rep(sex, nrow(Res)), :\n",
      "\"NAs introduced by coercion\""
     ]
    }
   ],
   "source": [
    "# Women function \n",
    "womenResMat[['2006']][,\"home\"] = gsub(\"[0-9, :]\", \"\", womenResMat[['2006']][,\"home\"])\n",
    "womenResMat[['2006']][,\"net\"] = gsub(\"[A-Za-z\\\\s]\", \"\", womenResMat[['2006']][,\"net\"])\n",
    "\n",
    "womenDF = mapply(createDF, womenResMat, year = 1999:2012,\n",
    "                 sex = rep(\"W\", 14), SIMPLIFY = FALSE)"
   ]
  },
  {
   "cell_type": "code",
   "execution_count": 326,
   "metadata": {},
   "outputs": [],
   "source": [
    "cbMen = do.call(rbind, menDF)\n",
    "save(cbMen, file = \"cbMen.rda\")"
   ]
  },
  {
   "cell_type": "code",
   "execution_count": 327,
   "metadata": {},
   "outputs": [],
   "source": [
    "# women combine\n",
    "\n",
    "cbWomen = do.call(rbind, womenDF)\n",
    "save(cbWomen, file = \"cbWomen.rda\")"
   ]
  },
  {
   "cell_type": "code",
   "execution_count": null,
   "metadata": {},
   "outputs": [],
   "source": []
  },
  {
   "cell_type": "code",
   "execution_count": null,
   "metadata": {},
   "outputs": [],
   "source": []
  },
  {
   "cell_type": "code",
   "execution_count": null,
   "metadata": {},
   "outputs": [],
   "source": []
  }
 ],
 "metadata": {
  "kernelspec": {
   "display_name": "R",
   "language": "R",
   "name": "ir"
  },
  "language_info": {
   "codemirror_mode": "r",
   "file_extension": ".r",
   "mimetype": "text/x-r-source",
   "name": "R",
   "pygments_lexer": "r",
   "version": "3.4.3"
  }
 },
 "nbformat": 4,
 "nbformat_minor": 2
}
