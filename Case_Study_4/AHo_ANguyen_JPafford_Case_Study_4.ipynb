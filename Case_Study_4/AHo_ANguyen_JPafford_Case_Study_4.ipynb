{
 "cells": [
  {
   "cell_type": "markdown",
   "metadata": {},
   "source": [
    "# <div style=\"text-align:center\"> DS7333 - Case Study 4 | Cherry Blossom Run</div>\n",
    "### <div style=\"text-align:center\">Andy Ho, An Nguyen, Jodi Pafford</div>\n",
    "<div style=\"text-align:center\">June 3, 2019</div>"
   ]
  },
  {
   "cell_type": "markdown",
   "metadata": {},
   "source": [
    "## 1 Introduction\n",
    "\n"
   ]
  },
  {
   "cell_type": "markdown",
   "metadata": {},
   "source": [
    "This case study will answer Question 7 in Chapter 2 of \"Data Science in R: A Case Studies Approach to Computational REasoning and Problem Solving\" (Nolan and Lang). \n",
    "\n",
    "Question 7 is: \"Follow the approach developed in Section 2.2 to read the files for the female runners and then process them using the functions in Section 2.3 to create a data frame for analysis. You may need to generalize the createDF() and extractVariables() functions to handle additional oddities in the raw text files.\"\n",
    "\n",
    "The data was extracted, cleaned, reformatted and prepared for analysis. Once the data was prepared, we performed some initial analysis to prepare for future work."
   ]
  },
  {
   "cell_type": "markdown",
   "metadata": {},
   "source": [
    "## 2 Background\n",
    "\n"
   ]
  },
  {
   "cell_type": "markdown",
   "metadata": {},
   "source": [
    "The Cherry Blossom Race occurs every spring in Washington, D.C. The race consists of a 10 Mile Run, 5K Run-Walk, and Kids' Run. Searchable race results are available from 1973-2018, however races since 1999 are available for download. This case study will explore results data from the 1999 through 2012 races for female runners. Data was scraped from the race website, www.cherryblossom.org. "
   ]
  },
  {
   "cell_type": "markdown",
   "metadata": {},
   "source": [
    "## 3 Methods\n",
    "\n"
   ]
  },
  {
   "cell_type": "markdown",
   "metadata": {},
   "source": [
    "As described in Chapter 2 of Nolan and Lang, the data files needed to be cleaned before processing, however the first step was obtaining the files from the website. Using 2.2 as our guide, we read the tables of the race results into R. Upon intial investigation it was noted that many of the race result files had slightly different formats. Some race results also contained more columns of data than others.  Furthermore, in order to get the race results of the women contestants the address needed to be modify slightly; \"m\" were replace with \"f\" where applicable, i.e. \"http://www.cherryblossom.org/results/1999/cb99m.html\" to \"http://www.cherryblossom.org/results/1999/cb99f.html\"; or \"men\" were replace with \"women\" where applicable, i.e. \"http://www.cherryblossom.org/results/2006/men.htm\" to \"http://www.cherryblossom.org/results/2006/women.htm.\""
   ]
  },
  {
   "cell_type": "code",
   "execution_count": 4,
   "metadata": {
    "scrolled": true
   },
   "outputs": [
    {
     "name": "stdout",
     "output_type": "stream",
     "text": [
      "[1] \"The urls for the men's race results are:\"\n",
      "[1] \"http://www.cherryblossom.org/results/1999/cb99m.html with 3193 entries from 1999.\"\n",
      "[1] \"http://www.cherryblossom.org/results/2000/Cb003m.htm with 3019 entries from 2000.\"\n",
      "[1] \"http://www.cherryblossom.org/results/2001/oof_m.html with 3627 entries from 2001.\"\n",
      "[1] \"http://www.cherryblossom.org/results/2002/oofm.htm with 3727 entries from 2002.\"\n",
      "[1] \"http://www.cherryblossom.org/results/2003/CB03-M.HTM with 3951 entries from 2003.\"\n",
      "[1] \"http://www.cherryblossom.org/results/2004/men.htm with 4164 entries from 2004.\"\n",
      "[1] \"http://www.cherryblossom.org/results/2005/CB05-M.htm with 4335 entries from 2005.\"\n",
      "[1] \"http://www.cherryblossom.org/results/2006/men.htm with 5245 entries from 2006.\"\n",
      "[1] \"http://www.cherryblossom.org/results/2007/men.htm with 5283 entries from 2007.\"\n",
      "[1] \"http://www.cherryblossom.org/results/2008/men.htm with 5913 entries from 2008.\"\n",
      "[1] \"http://www.cherryblossom.org/results/2009/09cucb-M.htm with 6659 entries from 2009.\"\n",
      "[1] \"http://www.cherryblossom.org/results/2010/2010cucb10m-m.htm with 6919 entries from 2010.\"\n",
      "[1] \"http://www.cherryblossom.org/results/2011/2011cucb10m-m.htm with 7019 entries from 2011.\"\n",
      "[1] \"http://www.cherryblossom.org/results/2012/2012cucb10m-m.htm with 7201 entries from 2012.\"\n",
      "[1] \"\"\n",
      "[1] \"The urls for the women's race results are:\"\n",
      "[1] \"http://www.cherryblossom.org/results/1999/cb99f.html with 2359 entries from 1999.\"\n",
      "[1] \"http://www.cherryblossom.org/results/2000/Cb003f.htm with 2169 entries from 2000.\"\n",
      "[1] \"http://www.cherryblossom.org/results/2001/oof_f.html with 2976 entries from 2001.\"\n",
      "[1] \"http://www.cherryblossom.org/results/2002/ooff.htm with 3338 entries from 2002.\"\n",
      "[1] \"http://www.cherryblossom.org/results/2003/CB03-F.HTM with 3547 entries from 2003.\"\n",
      "[1] \"http://www.cherryblossom.org/results/2004/women.htm with 3907 entries from 2004.\"\n",
      "[1] \"http://www.cherryblossom.org/results/2005/CB05-F.htm with 4342 entries from 2005.\"\n",
      "[1] \"http://www.cherryblossom.org/results/2006/women.htm with 5445 entries from 2006.\"\n",
      "[1] \"http://www.cherryblossom.org/results/2007/women.htm with 5699 entries from 2007.\"\n",
      "[1] \"http://www.cherryblossom.org/results/2008/women.htm with 6405 entries from 2008.\"\n",
      "[1] \"http://www.cherryblossom.org/results/2009/09cucb-F.htm with 8333 entries from 2009.\"\n",
      "[1] \"http://www.cherryblossom.org/results/2010/2010cucb10m-f.htm with 8863 entries from 2010.\"\n",
      "[1] \"http://www.cherryblossom.org/results/2011/2011cucb10m-f.htm with 9038 entries from 2011.\"\n",
      "[1] \"http://www.cherryblossom.org/results/2012/2012cucb10m-f.htm with 9738 entries from 2012.\"\n"
     ]
    }
   ],
   "source": [
    "### Step 1 (2.2) - Reading Tables of Race Results into R\n",
    "load(file=\"CBMenTextTables.rda\")\n",
    "load(file=\"CBWomenTextTables.rda\")\n",
    "ubase = \"http://www.cherryblossom.org/\"\n",
    "\n",
    "menURLs = \n",
    "  c(\"results/1999/cb99m.html\", \"results/2000/Cb003m.htm\", \"results/2001/oof_m.html\",\n",
    "    \"results/2002/oofm.htm\", \"results/2003/CB03-M.HTM\",\n",
    "    \"results/2004/men.htm\", \"results/2005/CB05-M.htm\", \n",
    "    \"results/2006/men.htm\", \"results/2007/men.htm\", \n",
    "    \"results/2008/men.htm\", \"results/2009/09cucb-M.htm\",\n",
    "    \"results/2010/2010cucb10m-m.htm\", \n",
    "    \"results/2011/2011cucb10m-m.htm\",\n",
    "    \"results/2012/2012cucb10m-m.htm\")\n",
    "\n",
    "womenURLs = \n",
    "  c(\"results/1999/cb99f.html\", \"results/2000/Cb003f.htm\", \"results/2001/oof_f.html\",\n",
    "    \"results/2002/ooff.htm\", \"results/2003/CB03-F.HTM\",\n",
    "    \"results/2004/women.htm\", \"results/2005/CB05-F.htm\", \n",
    "    \"results/2006/women.htm\", \"results/2007/women.htm\", \n",
    "    \"results/2008/women.htm\", \"results/2009/09cucb-F.htm\",\n",
    "    \"results/2010/2010cucb10m-f.htm\", \n",
    "    \"results/2011/2011cucb10m-f.htm\",\n",
    "    \"results/2012/2012cucb10m-f.htm\")\n",
    "\n",
    "urlsMen = paste(ubase, menURLs, sep = \"\")\n",
    "urlsWomen = paste(ubase, womenURLs, sep = \"\")\n",
    "\n",
    "print(\"The urls for the men's race results are:\")\n",
    "for (i in 1:14){\n",
    "    print(paste(urlsMen[i], \" with \", length(menTables[[i]]), \" entries from \", names(menTables[i]), \".\", sep=\"\"))\n",
    "}\n",
    "print(\"\")\n",
    "print(\"The urls for the women's race results are:\")\n",
    "for (i in 1:14){\n",
    "    print(paste(urlsWomen[i], \" with \", length(womenTables[[i]]), \" entries from \", names(menTables[i]), \".\", sep=\"\"))\n",
    "}"
   ]
  },
  {
   "cell_type": "markdown",
   "metadata": {},
   "source": [
    "After all data was successfully pulled from the website, the next step was to clean and reformat the data. The cleaning included the addition of a condition in the \"extracVariables\" function to remove any footnotes and blank lines in the body of the table, footnotes began with a \"#\" or \"*\" symbol.  The symbols indicating that there is a footnote always follow the \"net, gun or time\" time, we added a code that replaces this symbol with a blank space whenever it appers in the \"createDF\" function.  Also, there for the results of 2006 for both men and wommen the contestant's hometown and net run time did not separate due to the \"===\" separator in not contained a space to indicate that the two variables are different.  To rememdy this we added a code that replaces all numeric and \":\" values that are found in the \"home\" column and all letters in the \"net\" column with a space.  Following that, all data was combined into one large file with all race data."
   ]
  },
  {
   "cell_type": "code",
   "execution_count": 5,
   "metadata": {
    "scrolled": true
   },
   "outputs": [
    {
     "name": "stdout",
     "output_type": "stream",
     "text": [
      "[1] \"1999 Men (3190 entries):\"\n",
      "      age           runTime      \n",
      " Min.   :11.00   Min.   : 46.98  \n",
      " 1st Qu.:32.00   1st Qu.: 74.80  \n",
      " Median :40.00   Median : 84.28  \n",
      " Mean   :40.34   Mean   : 84.33  \n",
      " 3rd Qu.:48.00   3rd Qu.: 93.08  \n",
      " Max.   :80.00   Max.   :170.83  \n",
      " NA's   :1                       \n",
      "[1] \"1999 Women (2356 entries):\"\n",
      "      age          runTime      \n",
      " Min.   :12.0   Min.   : 53.62  \n",
      " 1st Qu.:28.0   1st Qu.: 87.18  \n",
      " Median :33.0   Median : 95.16  \n",
      " Mean   :34.9   Mean   : 95.50  \n",
      " 3rd Qu.:41.0   3rd Qu.:103.85  \n",
      " Max.   :81.0   Max.   :165.30  \n",
      " NA's   :4                      \n",
      "[1] \"2000 Men (3016 entries):\"\n",
      "      age           runTime      \n",
      " Min.   :11.00   Min.   : 46.10  \n",
      " 1st Qu.:32.00   1st Qu.: 74.77  \n",
      " Median :40.00   Median : 83.22  \n",
      " Mean   :40.41   Mean   : 83.61  \n",
      " 3rd Qu.:48.00   3rd Qu.: 92.15  \n",
      " Max.   :79.00   Max.   :155.18  \n",
      "[1] \"2000 Women (2166 entries):\"\n",
      "      age           runTime      \n",
      " Min.   :14.00   Min.   : 55.83  \n",
      " 1st Qu.:29.00   1st Qu.: 85.74  \n",
      " Median :34.00   Median : 93.42  \n",
      " Mean   :35.55   Mean   : 93.91  \n",
      " 3rd Qu.:41.00   3rd Qu.:101.43  \n",
      " Max.   :76.00   Max.   :167.72  \n",
      "[1] \"2001 Men (3561 entries):\"\n",
      "      age           runTime      \n",
      " Min.   : 0.00   Min.   :  1.50  \n",
      " 1st Qu.:32.00   1st Qu.: 75.32  \n",
      " Median :39.00   Median : 84.15  \n",
      " Mean   :40.28   Mean   : 84.50  \n",
      " 3rd Qu.:48.00   3rd Qu.: 93.15  \n",
      " Max.   :80.00   Max.   :164.60  \n",
      "[1] \"2001 Women (2972 entries):\"\n",
      "      age           runTime      \n",
      " Min.   : 0.00   Min.   : 52.25  \n",
      " 1st Qu.:28.00   1st Qu.: 86.00  \n",
      " Median :33.00   Median : 94.20  \n",
      " Mean   :34.81   Mean   : 94.65  \n",
      " 3rd Qu.:41.00   3rd Qu.:102.49  \n",
      " Max.   :83.00   Max.   :161.02  \n",
      "[1] \"2002 Men (3723 entries):\"\n",
      "      age           runTime      \n",
      " Min.   : 1.00   Min.   : 47.20  \n",
      " 1st Qu.:32.00   1st Qu.: 76.09  \n",
      " Median :39.00   Median : 84.72  \n",
      " Mean   :40.29   Mean   : 85.68  \n",
      " 3rd Qu.:48.00   3rd Qu.: 94.70  \n",
      " Max.   :79.00   Max.   :150.15  \n",
      " NA's   :2                       \n",
      "[1] \"2002 Women (3334 entries):\"\n",
      "      age           runTime      \n",
      " Min.   :13.00   Min.   : 52.83  \n",
      " 1st Qu.:28.00   1st Qu.: 86.82  \n",
      " Median :33.00   Median : 95.45  \n",
      " Mean   :35.14   Mean   : 95.94  \n",
      " 3rd Qu.:41.00   3rd Qu.:103.88  \n",
      " Max.   :84.00   Max.   :162.37  \n",
      " NA's   :4                       \n",
      "[1] \"2003 Men (3946 entries):\"\n",
      "      age           runTime      \n",
      " Min.   : 0.00   Min.   : 46.92  \n",
      " 1st Qu.:32.00   1st Qu.: 76.00  \n",
      " Median :39.00   Median : 84.78  \n",
      " Mean   :40.35   Mean   : 85.84  \n",
      " 3rd Qu.:48.00   3rd Qu.: 94.73  \n",
      " Max.   :80.00   Max.   :146.28  \n",
      "[1] \"2003 Women (3542 entries):\"\n",
      "      age           runTime      \n",
      " Min.   :12.00   Min.   : 53.70  \n",
      " 1st Qu.:28.00   1st Qu.: 86.25  \n",
      " Median :33.00   Median : 95.08  \n",
      " Mean   :35.05   Mean   : 95.55  \n",
      " 3rd Qu.:41.00   3rd Qu.:103.89  \n",
      " Max.   :85.00   Max.   :147.73  \n",
      "[1] \"2004 Men (4156 entries):\"\n",
      "      age           runTime      \n",
      " Min.   :13.00   Min.   : 48.20  \n",
      " 1st Qu.:31.00   1st Qu.: 76.57  \n",
      " Median :38.00   Median : 85.88  \n",
      " Mean   :39.31   Mean   : 86.44  \n",
      " 3rd Qu.:47.00   3rd Qu.: 95.22  \n",
      " Max.   :81.00   Max.   :166.73  \n",
      "[1] \"2004 Women (3899 entries):\"\n",
      "      age           runTime      \n",
      " Min.   :13.00   Min.   : 52.10  \n",
      " 1st Qu.:27.00   1st Qu.: 87.41  \n",
      " Median :32.00   Median : 95.68  \n",
      " Mean   :33.93   Mean   : 96.78  \n",
      " 3rd Qu.:39.00   3rd Qu.:104.96  \n",
      " Max.   :86.00   Max.   :177.52  \n",
      "[1] \"2005 Men (4324 entries):\"\n",
      "      age           runTime      \n",
      " Min.   :12.00   Min.   : 46.90  \n",
      " 1st Qu.:31.00   1st Qu.: 77.42  \n",
      " Median :38.00   Median : 87.27  \n",
      " Mean   :39.56   Mean   : 88.02  \n",
      " 3rd Qu.:47.00   3rd Qu.: 97.20  \n",
      " Max.   :82.00   Max.   :175.60  \n",
      " NA's   :10                      \n",
      "[1] \"2005 Women (4333 entries):\"\n",
      "      age           runTime      \n",
      " Min.   :10.00   Min.   : 52.02  \n",
      " 1st Qu.:27.00   1st Qu.: 88.67  \n",
      " Median :32.00   Median : 97.38  \n",
      " Mean   :34.17   Mean   : 98.59  \n",
      " 3rd Qu.:40.00   3rd Qu.:107.00  \n",
      " Max.   :87.00   Max.   :170.47  \n",
      " NA's   :8                       \n",
      "[1] \"2006 Men (5235 entries):\"\n",
      "      age           runTime       \n",
      " Min.   :13.00   Min.   :-116.07  \n",
      " 1st Qu.:30.00   1st Qu.:  78.08  \n",
      " Median :38.00   Median :  87.25  \n",
      " Mean   :38.91   Mean   :  88.12  \n",
      " 3rd Qu.:46.00   3rd Qu.:  97.28  \n",
      " Max.   :82.00   Max.   : 167.08  \n",
      "[1] \"2006 Women (5435 entries):\"\n",
      "      age           runTime      \n",
      " Min.   :12.00   Min.   : 52.18  \n",
      " 1st Qu.:26.00   1st Qu.: 88.66  \n",
      " Median :31.00   Median : 97.53  \n",
      " Mean   :33.65   Mean   : 98.16  \n",
      " 3rd Qu.:39.00   3rd Qu.:106.72  \n",
      " Max.   :76.00   Max.   :159.00  \n",
      " NA's   :1                       \n",
      "[1] \"2007 Men (5252 entries):\"\n",
      "      age           runTime      \n",
      " Min.   : 9.00   Min.   : 46.02  \n",
      " 1st Qu.:30.00   1st Qu.: 77.42  \n",
      " Median :37.00   Median : 86.08  \n",
      " Mean   :38.51   Mean   : 87.23  \n",
      " 3rd Qu.:46.00   3rd Qu.: 96.42  \n",
      " Max.   :80.00   Max.   :165.60  \n",
      " NA's   :3                       \n",
      "[1] \"2007 Women (5602 entries):\"\n",
      "      age           runTime      \n",
      " Min.   :10.00   Min.   : 51.73  \n",
      " 1st Qu.:26.00   1st Qu.: 87.82  \n",
      " Median :31.00   Median : 96.46  \n",
      " Mean   :33.47   Mean   : 97.17  \n",
      " 3rd Qu.:39.00   3rd Qu.:105.55  \n",
      " Max.   :77.00   Max.   :165.57  \n",
      " NA's   :2                       \n",
      "[1] \"2008 Men (5905 entries):\"\n",
      "      age           runTime      \n",
      " Min.   :12.00   Min.   : 46.23  \n",
      " 1st Qu.:29.00   1st Qu.: 77.68  \n",
      " Median :36.00   Median : 87.48  \n",
      " Mean   :37.79   Mean   : 88.25  \n",
      " 3rd Qu.:45.00   3rd Qu.: 97.70  \n",
      " Max.   :84.00   Max.   :138.98  \n",
      " NA's   :1                       \n",
      "[1] \"2008 Women (6397 entries):\"\n",
      "      age           runTime      \n",
      " Min.   :11.00   Min.   : 54.35  \n",
      " 1st Qu.:26.00   1st Qu.: 89.60  \n",
      " Median :31.00   Median : 98.38  \n",
      " Mean   :33.21   Mean   : 98.77  \n",
      " 3rd Qu.:38.00   3rd Qu.:107.40  \n",
      " Max.   :76.00   Max.   :139.23  \n",
      "[1] \"2009 Men (6649 entries):\"\n",
      "      age           runTime      \n",
      " Min.   :10.00   Min.   : 45.93  \n",
      " 1st Qu.:29.00   1st Qu.: 78.15  \n",
      " Median :35.00   Median : 87.55  \n",
      " Mean   :37.37   Mean   : 88.56  \n",
      " 3rd Qu.:44.00   3rd Qu.: 97.80  \n",
      " Max.   :85.00   Max.   :154.37  \n",
      "[1] \"2009 Women (8323 entries):\"\n",
      "      age           runTime      \n",
      " Min.   : 7.00   Min.   : 53.53  \n",
      " 1st Qu.:26.00   1st Qu.: 89.30  \n",
      " Median :31.00   Median : 98.25  \n",
      " Mean   :33.08   Mean   : 98.81  \n",
      " 3rd Qu.:38.00   3rd Qu.:107.48  \n",
      " Max.   :73.00   Max.   :153.47  \n",
      " NA's   :2                       \n",
      "[1] \"2010 Men (6909 entries):\"\n",
      "      age           runTime      \n",
      " Min.   :11.00   Min.   : 45.72  \n",
      " 1st Qu.:29.00   1st Qu.: 78.47  \n",
      " Median :35.00   Median : 87.85  \n",
      " Mean   :36.98   Mean   : 89.12  \n",
      " 3rd Qu.:44.00   3rd Qu.: 98.75  \n",
      " Max.   :86.00   Max.   :154.12  \n",
      " NA's   :4                       \n",
      "[1] \"2010 Women (8853 entries):\"\n",
      "      age          runTime      \n",
      " Min.   :11.0   Min.   : 51.85  \n",
      " 1st Qu.:27.0   1st Qu.: 89.77  \n",
      " Median :31.0   Median : 98.85  \n",
      " Mean   :33.3   Mean   : 99.72  \n",
      " 3rd Qu.:39.0   3rd Qu.:108.82  \n",
      " Max.   :75.0   Max.   :157.05  \n",
      "[1] \"2011 Men (7011 entries):\"\n",
      "      age           runTime      \n",
      " Min.   : 3.00   Min.   : 43.18  \n",
      " 1st Qu.:29.00   1st Qu.: 78.65  \n",
      " Median :36.00   Median : 88.47  \n",
      " Mean   :37.52   Mean   : 89.63  \n",
      " 3rd Qu.:44.00   3rd Qu.: 99.32  \n",
      " Max.   :83.00   Max.   :148.70  \n",
      "[1] \"2011 Women (9030 entries):\"\n",
      "      age           runTime      \n",
      " Min.   :11.00   Min.   : 54.03  \n",
      " 1st Qu.:27.00   1st Qu.: 89.97  \n",
      " Median :31.00   Median : 99.05  \n",
      " Mean   :33.74   Mean   : 99.77  \n",
      " 3rd Qu.:39.00   3rd Qu.:108.93  \n",
      " Max.   :76.00   Max.   :152.27  \n",
      " NA's   :1                       \n",
      "[1] \"2012 Men (7193 entries):\"\n",
      "      age           runTime      \n",
      " Min.   : 9.00   Min.   : 45.25  \n",
      " 1st Qu.:29.00   1st Qu.: 77.57  \n",
      " Median :35.00   Median : 87.47  \n",
      " Mean   :37.75   Mean   : 88.43  \n",
      " 3rd Qu.:45.00   3rd Qu.: 97.78  \n",
      " Max.   :89.00   Max.   :150.98  \n",
      " NA's   :1                       \n",
      "[1] \"2012 Women (9730 entries):\"\n",
      "      age           runTime      \n",
      " Min.   :12.00   Min.   : 54.03  \n",
      " 1st Qu.:27.00   1st Qu.: 89.08  \n",
      " Median :32.00   Median : 98.03  \n",
      " Mean   :33.88   Mean   : 99.02  \n",
      " 3rd Qu.:39.00   3rd Qu.:107.90  \n",
      " Max.   :75.00   Max.   :170.97  \n"
     ]
    }
   ],
   "source": [
    "### Step 2 (2.3) - Data Cleaning and Reformatting Variable\n",
    "load(file=\"cbMen.rda\")\n",
    "load(file=\"cbWomen.rda\")\n",
    "\n",
    "for (y in 1999:2012){\n",
    "    print(paste(y, \" Men (\", nrow(cbMen[(cbMen$year==y),]), \" entries):\", sep=\"\"))\n",
    "    print(summary(cbMen[(cbMen$year==y),5:6]))\n",
    "    print(paste(y, \" Women (\", nrow(cbWomen[(cbWomen$year==y),]), \" entries):\", sep=\"\"))\n",
    "    print(summary(cbWomen[(cbWomen$year==y),5:6]))\n",
    "}"
   ]
  },
  {
   "cell_type": "markdown",
   "metadata": {},
   "source": [
    "The last step was to perform some basic exploritory data analysis in order to ensure that all data was pulled successfully and to investigate next steps."
   ]
  },
  {
   "cell_type": "markdown",
   "metadata": {},
   "source": [
    "## 4 Results\n",
    "\n"
   ]
  },
  {
   "cell_type": "markdown",
   "metadata": {},
   "source": [
    "## ** Add header(20) for one of the cleaned DFs."
   ]
  },
  {
   "cell_type": "markdown",
   "metadata": {},
   "source": [
    "##### Final Combined File of Women Race Times - 1999-2012\n",
    "![title](WomenFinalTXT.png)"
   ]
  },
  {
   "cell_type": "markdown",
   "metadata": {},
   "source": [
    "## 5 Conclusion\n",
    " "
   ]
  },
  {
   "cell_type": "markdown",
   "metadata": {},
   "source": [
    "Properly scrapping the data from web pages and extracting from raw format to a standardized data set is critical to the success of exploratory and data analysis. One of the big lessons for this chapter is the notion of “garbage in, garbage out.” Specifically, in the case of QTW, web scrapping to form data sets is a difficult task. One can safely assume a website’s pages can very well be in different formats, have different seperators, and/or different feature names. For this this task, there were race results for males and females from 1999-2012 - with some of the results for each gender and year in mismatching format. To insure there was no garbage going into the data set, we had to first scrap all the race results as RDA file, then subset each year’s results into a data frame to create a text file for each year. From there, we were able to view each text file for differences in structure, feature names, values, etc... The rest of the exercise was to finalize a standard for all the results to load as data frame in order to perform exploratory data analysis."
   ]
  },
  {
   "cell_type": "markdown",
   "metadata": {},
   "source": [
    "### References\n",
    "+ Nolan, D. and Lang, D. T. “Data Science in R.” CRC Press, 2015 (Chapter 1)\n",
    "+ http://rdatasciencecases.org/\n",
    "+ https://rstudio-pubs-static.s3.amazonaws.com/351788_b8d5de284dd645a1b920b7bd77e0967b.html"
   ]
  },
  {
   "cell_type": "markdown",
   "metadata": {},
   "source": [
    "## 6 Appendix - Code\n"
   ]
  },
  {
   "cell_type": "markdown",
   "metadata": {},
   "source": [
    "### 6.1 Process RAW Data"
   ]
  },
  {
   "cell_type": "code",
   "execution_count": 6,
   "metadata": {},
   "outputs": [],
   "source": [
    "ubase = \"http://www.cherryblossom.org/\"\n",
    "\n",
    "menURLs = \n",
    "  c(\"results/1999/cb99m.html\", \"results/2000/Cb003m.htm\", \"results/2001/oof_m.html\",\n",
    "    \"results/2002/oofm.htm\", \"results/2003/CB03-M.HTM\",\n",
    "    \"results/2004/men.htm\", \"results/2005/CB05-M.htm\", \n",
    "    \"results/2006/men.htm\", \"results/2007/men.htm\", \n",
    "    \"results/2008/men.htm\", \"results/2009/09cucb-M.htm\",\n",
    "    \"results/2010/2010cucb10m-m.htm\", \n",
    "    \"results/2011/2011cucb10m-m.htm\",\n",
    "    \"results/2012/2012cucb10m-m.htm\")\n",
    "\n",
    "womenURLs = \n",
    "  c(\"results/1999/cb99f.html\", \"results/2000/Cb003f.htm\", \"results/2001/oof_f.html\",\n",
    "    \"results/2002/ooff.htm\", \"results/2003/CB03-F.HTM\",\n",
    "    \"results/2004/women.htm\", \"results/2005/CB05-F.htm\", \n",
    "    \"results/2006/women.htm\", \"results/2007/women.htm\", \n",
    "    \"results/2008/women.htm\", \"results/2009/09cucb-F.htm\",\n",
    "    \"results/2010/2010cucb10m-f.htm\", \n",
    "    \"results/2011/2011cucb10m-f.htm\",\n",
    "    \"results/2012/2012cucb10m-f.htm\")\n",
    "\n",
    "urlsMen = paste(ubase, menURLs, sep = \"\")\n",
    "urlsWomen = paste(ubase, womenURLs, sep = \"\")"
   ]
  },
  {
   "cell_type": "code",
   "execution_count": 7,
   "metadata": {},
   "outputs": [
    {
     "data": {
      "text/html": [
       "<dl class=dl-horizontal>\n",
       "\t<dt>1999</dt>\n",
       "\t\t<dd>3193</dd>\n",
       "\t<dt>2000</dt>\n",
       "\t\t<dd>3019</dd>\n",
       "\t<dt>2001</dt>\n",
       "\t\t<dd>3627</dd>\n",
       "\t<dt>2002</dt>\n",
       "\t\t<dd>3727</dd>\n",
       "\t<dt>2003</dt>\n",
       "\t\t<dd>3951</dd>\n",
       "\t<dt>2004</dt>\n",
       "\t\t<dd>4164</dd>\n",
       "\t<dt>2005</dt>\n",
       "\t\t<dd>4335</dd>\n",
       "\t<dt>2006</dt>\n",
       "\t\t<dd>5245</dd>\n",
       "\t<dt>2007</dt>\n",
       "\t\t<dd>5283</dd>\n",
       "\t<dt>2008</dt>\n",
       "\t\t<dd>5913</dd>\n",
       "\t<dt>2009</dt>\n",
       "\t\t<dd>6659</dd>\n",
       "\t<dt>2010</dt>\n",
       "\t\t<dd>6919</dd>\n",
       "\t<dt>2011</dt>\n",
       "\t\t<dd>7019</dd>\n",
       "\t<dt>2012</dt>\n",
       "\t\t<dd>7201</dd>\n",
       "</dl>\n"
      ],
      "text/latex": [
       "\\begin{description*}\n",
       "\\item[1999] 3193\n",
       "\\item[2000] 3019\n",
       "\\item[2001] 3627\n",
       "\\item[2002] 3727\n",
       "\\item[2003] 3951\n",
       "\\item[2004] 4164\n",
       "\\item[2005] 4335\n",
       "\\item[2006] 5245\n",
       "\\item[2007] 5283\n",
       "\\item[2008] 5913\n",
       "\\item[2009] 6659\n",
       "\\item[2010] 6919\n",
       "\\item[2011] 7019\n",
       "\\item[2012] 7201\n",
       "\\end{description*}\n"
      ],
      "text/markdown": [
       "1999\n",
       ":   31932000\n",
       ":   30192001\n",
       ":   36272002\n",
       ":   37272003\n",
       ":   39512004\n",
       ":   41642005\n",
       ":   43352006\n",
       ":   52452007\n",
       ":   52832008\n",
       ":   59132009\n",
       ":   66592010\n",
       ":   69192011\n",
       ":   70192012\n",
       ":   7201\n",
       "\n"
      ],
      "text/plain": [
       "1999 2000 2001 2002 2003 2004 2005 2006 2007 2008 2009 2010 2011 2012 \n",
       "3193 3019 3627 3727 3951 4164 4335 5245 5283 5913 6659 6919 7019 7201 "
      ]
     },
     "metadata": {},
     "output_type": "display_data"
    },
    {
     "data": {
      "text/html": [
       "<dl class=dl-horizontal>\n",
       "\t<dt>1999</dt>\n",
       "\t\t<dd>2359</dd>\n",
       "\t<dt>2000</dt>\n",
       "\t\t<dd>2169</dd>\n",
       "\t<dt>2001</dt>\n",
       "\t\t<dd>2976</dd>\n",
       "\t<dt>2002</dt>\n",
       "\t\t<dd>3338</dd>\n",
       "\t<dt>2003</dt>\n",
       "\t\t<dd>3547</dd>\n",
       "\t<dt>2004</dt>\n",
       "\t\t<dd>3907</dd>\n",
       "\t<dt>2005</dt>\n",
       "\t\t<dd>4342</dd>\n",
       "\t<dt>2006</dt>\n",
       "\t\t<dd>5445</dd>\n",
       "\t<dt>2007</dt>\n",
       "\t\t<dd>5699</dd>\n",
       "\t<dt>2008</dt>\n",
       "\t\t<dd>6405</dd>\n",
       "\t<dt>2009</dt>\n",
       "\t\t<dd>8333</dd>\n",
       "\t<dt>2010</dt>\n",
       "\t\t<dd>8863</dd>\n",
       "\t<dt>2011</dt>\n",
       "\t\t<dd>9038</dd>\n",
       "\t<dt>2012</dt>\n",
       "\t\t<dd>9738</dd>\n",
       "</dl>\n"
      ],
      "text/latex": [
       "\\begin{description*}\n",
       "\\item[1999] 2359\n",
       "\\item[2000] 2169\n",
       "\\item[2001] 2976\n",
       "\\item[2002] 3338\n",
       "\\item[2003] 3547\n",
       "\\item[2004] 3907\n",
       "\\item[2005] 4342\n",
       "\\item[2006] 5445\n",
       "\\item[2007] 5699\n",
       "\\item[2008] 6405\n",
       "\\item[2009] 8333\n",
       "\\item[2010] 8863\n",
       "\\item[2011] 9038\n",
       "\\item[2012] 9738\n",
       "\\end{description*}\n"
      ],
      "text/markdown": [
       "1999\n",
       ":   23592000\n",
       ":   21692001\n",
       ":   29762002\n",
       ":   33382003\n",
       ":   35472004\n",
       ":   39072005\n",
       ":   43422006\n",
       ":   54452007\n",
       ":   56992008\n",
       ":   64052009\n",
       ":   83332010\n",
       ":   88632011\n",
       ":   90382012\n",
       ":   9738\n",
       "\n"
      ],
      "text/plain": [
       "1999 2000 2001 2002 2003 2004 2005 2006 2007 2008 2009 2010 2011 2012 \n",
       "2359 2169 2976 3338 3547 3907 4342 5445 5699 6405 8333 8863 9038 9738 "
      ]
     },
     "metadata": {},
     "output_type": "display_data"
    }
   ],
   "source": [
    "library(XML)\n",
    "\n",
    "extractResTable =\n",
    "  #\n",
    "  # Retrieve data from web site, \n",
    "  # find the preformatted text,\n",
    "  # and write lines or return as a character vector.\n",
    "  #\n",
    "  function(url = \"http://www.cherryblossom.org/results/1999/cb99m.html\",\n",
    "           year = 1999, sex = \"male\", file = NULL)\n",
    "  {\n",
    "    #added encoding for windows users who get an \"A\" symbol\n",
    "    doc = htmlParse(url, encoding=\"UTF-8\")\n",
    "\n",
    "    if (year == 2000) {\n",
    "      # Get preformatted text from 4th font element\n",
    "      # The top file is ill formed so the <pre> search doesn't work.\n",
    "      ff = getNodeSet(doc, \"//font\")\n",
    "      txt = xmlValue(ff[[4]])\n",
    "      els = strsplit(txt, \"\\r\\n\")[[1]]\n",
    "    }\n",
    "    else if (year == 2009 & sex == \"male\") {\n",
    "      # Get preformatted text from <div class=\"Section1\"> element\n",
    "      # Each line of results is in a <pre> element\n",
    "      div1 = getNodeSet(doc, \"//div[@class='Section1']\")\n",
    "      pres = getNodeSet(div1[[1]], \"//pre\")\n",
    "      els = sapply(pres, xmlValue)\n",
    "    }\n",
    "    else if (year == 1999){\n",
    "      # Get preformatted text from <pre> elements\n",
    "      pres = getNodeSet(doc, \"//pre\")\n",
    "      txt = xmlValue(pres[[1]])\n",
    "      els = strsplit(txt, \"\\n\")[[1]]   \n",
    "    } \n",
    "    else {\n",
    "      # Get preformatted text from <pre> elements\n",
    "      pres = getNodeSet(doc, \"//pre\")\n",
    "      txt = xmlValue(pres[[1]])\n",
    "      els = strsplit(txt, \"\\r\\n\")[[1]]   \n",
    "    } \n",
    "    \n",
    "    if (is.null(file)) return(els)\n",
    "    # Write the lines as a text file.\n",
    "    writeLines(els, con = file)\n",
    "  }\n",
    "\n",
    "\n",
    "years = 1999:2012\n",
    "menTables = mapply(extractResTable, url = urlsMen, year = years)\n",
    "names(menTables) = years\n",
    "sapply(menTables, length)\n",
    "\n",
    "womenTables = mapply(extractResTable, url = urlsWomen, \n",
    "                       year = years, sex = rep(\"female\", 14))\n",
    "names(womenTables) = years\n",
    "sapply(womenTables, length)\n",
    "\n",
    "\n",
    "save(menTables, file = \"CBMenTextTables.rda\")\n",
    "save(womenTables, file = \"CBWomenTextTables.rda\")"
   ]
  },
  {
   "cell_type": "markdown",
   "metadata": {},
   "source": [
    "#### Beginning of 2.2 code from the text - Reading tables into R"
   ]
  },
  {
   "cell_type": "code",
   "execution_count": 8,
   "metadata": {},
   "outputs": [],
   "source": [
    "# An's code for txt files...\n",
    "\n",
    "load(file=\"CBMenTextTables.rda\")\n",
    "load(file=\"CBWomenTextTables.rda\")\n",
    "\n",
    "for (year in years){\n",
    " temp <- menTables[paste(year)]\n",
    " dir.create(file.path(\"MenTxt\"), showWarnings = FALSE)\n",
    " write.table(data.frame(temp), file=paste(\"MenTxt/\", year, \".txt\", sep=\"\"), sep=\"\\t\", row.names=FALSE)\n",
    " temp <- womenTables[paste(year)]\n",
    " dir.create(file.path(\"WomenTxt\"), showWarnings = FALSE)\n",
    " write.table(data.frame(temp), file=paste(\"WomenTxt/\", year, \".txt\", sep=\"\"), sep=\"\\t\", row.names=FALSE)\n",
    "}"
   ]
  },
  {
   "cell_type": "code",
   "execution_count": 9,
   "metadata": {},
   "outputs": [],
   "source": [
    "findColLocs = function(spacerRow) {\n",
    "\n",
    "  spaceLocs = gregexpr(\" \", spacerRow)[[1]]\n",
    "  rowLength = nchar(spacerRow)\n",
    "\n",
    "  if (substring(spacerRow, rowLength, rowLength) != \" \")\n",
    "    return( c(0, spaceLocs, rowLength + 1))\n",
    "  else return(c(0, spaceLocs))\n",
    "}\n",
    "\n",
    "selectCols = \n",
    "function(colNames, headerRow, searchLocs) \n",
    "{\n",
    "  sapply(colNames, \n",
    "         function(name, headerRow, searchLocs)\n",
    "         {\n",
    "           startPos = regexpr(name, headerRow)[[1]]\n",
    "           if (startPos == -1) \n",
    "             return( c(NA, NA) )\n",
    "    \n",
    "           index = sum(startPos >= searchLocs)\n",
    "           c(searchLocs[index] + 1, searchLocs[index + 1])\n",
    "         },\n",
    "         headerRow = headerRow, searchLocs = searchLocs )\n",
    "}"
   ]
  },
  {
   "cell_type": "code",
   "execution_count": 10,
   "metadata": {},
   "outputs": [],
   "source": [
    "#First pass at function with women added yielded errors. Based on textbook,\n",
    "#we need to edit the women 2001 file so that it has the \"==\" line.\n",
    "\n",
    "extractVariables = \n",
    "  function(file, varNames =c(\"name\", \"home\", \"ag\", \"gun\",\n",
    "                             \"net\", \"time\"))\n",
    "{\n",
    "       # Find the index of the row with =s\n",
    "  eqIndex = grep(\"\\\"=====\", file)\n",
    "       # Extract the two key rows and the data\n",
    "  spacerRow = file[eqIndex] \n",
    "  headerRow = tolower(file[ eqIndex - 1 ])\n",
    "  body = file[ -(1 : eqIndex) ]\n",
    "      \n",
    "         # Remove footnotes and blank rows\n",
    "  footnotes = grep(\"^\\\"[[:blank:]]*(\\\\*|\\\\#)\", body)\n",
    "  if ( length(footnotes) > 0 ) body = body[ -footnotes ]\n",
    "  blanks = grep(\"^\\\"[[:blank:]]*\\\"$\", body)\n",
    "  if (length(blanks) > 0 ) body = body[ -blanks ]\n",
    "       \n",
    "       # Obtain the starting and ending positions of variables\n",
    "  searchLocs = findColLocs(spacerRow)\n",
    "  locCols = selectCols(varNames, headerRow, searchLocs)\n",
    "\n",
    "  Values = mapply(substr, list(body), start = locCols[1, ], \n",
    "                  stop = locCols[2, ])\n",
    "  colnames(Values) = varNames\n",
    "  \n",
    "  invisible(Values)\n",
    "}\n",
    "\n",
    "mfilenames = paste(\"MenTxt/\", 1999:2012, \".txt\", sep = \"\")\n",
    "menFiles = lapply(mfilenames, readLines)\n",
    "names(menFiles) = 1999:2012\n",
    "\n",
    "wfilenames = paste(\"WomenTxt/\", 1999:2012, \".txt\", sep = \"\")\n",
    "womenFiles = lapply(wfilenames, readLines)\n",
    "names(womenFiles) = 1999:2012\n",
    "womenFiles[['2001']][3:4] = menFiles[['2001']][5:6]\n",
    "\n",
    "menResMat = lapply(menFiles, extractVariables)\n",
    "\n",
    "womenResMat = lapply(womenFiles, extractVariables)\n"
   ]
  },
  {
   "cell_type": "code",
   "execution_count": 11,
   "metadata": {},
   "outputs": [
    {
     "data": {
      "text/html": [
       "<dl class=dl-horizontal>\n",
       "\t<dt>1999</dt>\n",
       "\t\t<dd>3190</dd>\n",
       "\t<dt>2000</dt>\n",
       "\t\t<dd>3016</dd>\n",
       "\t<dt>2001</dt>\n",
       "\t\t<dd>3561</dd>\n",
       "\t<dt>2002</dt>\n",
       "\t\t<dd>3723</dd>\n",
       "\t<dt>2003</dt>\n",
       "\t\t<dd>3946</dd>\n",
       "\t<dt>2004</dt>\n",
       "\t\t<dd>4156</dd>\n",
       "\t<dt>2005</dt>\n",
       "\t\t<dd>4324</dd>\n",
       "\t<dt>2006</dt>\n",
       "\t\t<dd>5235</dd>\n",
       "\t<dt>2007</dt>\n",
       "\t\t<dd>5274</dd>\n",
       "\t<dt>2008</dt>\n",
       "\t\t<dd>5905</dd>\n",
       "\t<dt>2009</dt>\n",
       "\t\t<dd>6649</dd>\n",
       "\t<dt>2010</dt>\n",
       "\t\t<dd>6909</dd>\n",
       "\t<dt>2011</dt>\n",
       "\t\t<dd>7011</dd>\n",
       "\t<dt>2012</dt>\n",
       "\t\t<dd>7193</dd>\n",
       "</dl>\n"
      ],
      "text/latex": [
       "\\begin{description*}\n",
       "\\item[1999] 3190\n",
       "\\item[2000] 3016\n",
       "\\item[2001] 3561\n",
       "\\item[2002] 3723\n",
       "\\item[2003] 3946\n",
       "\\item[2004] 4156\n",
       "\\item[2005] 4324\n",
       "\\item[2006] 5235\n",
       "\\item[2007] 5274\n",
       "\\item[2008] 5905\n",
       "\\item[2009] 6649\n",
       "\\item[2010] 6909\n",
       "\\item[2011] 7011\n",
       "\\item[2012] 7193\n",
       "\\end{description*}\n"
      ],
      "text/markdown": [
       "1999\n",
       ":   31902000\n",
       ":   30162001\n",
       ":   35612002\n",
       ":   37232003\n",
       ":   39462004\n",
       ":   41562005\n",
       ":   43242006\n",
       ":   52352007\n",
       ":   52742008\n",
       ":   59052009\n",
       ":   66492010\n",
       ":   69092011\n",
       ":   70112012\n",
       ":   7193\n",
       "\n"
      ],
      "text/plain": [
       "1999 2000 2001 2002 2003 2004 2005 2006 2007 2008 2009 2010 2011 2012 \n",
       "3190 3016 3561 3723 3946 4156 4324 5235 5274 5905 6649 6909 7011 7193 "
      ]
     },
     "metadata": {},
     "output_type": "display_data"
    },
    {
     "data": {
      "text/html": [
       "<dl class=dl-horizontal>\n",
       "\t<dt>1999</dt>\n",
       "\t\t<dd>2356</dd>\n",
       "\t<dt>2000</dt>\n",
       "\t\t<dd>2166</dd>\n",
       "\t<dt>2001</dt>\n",
       "\t\t<dd>2972</dd>\n",
       "\t<dt>2002</dt>\n",
       "\t\t<dd>3334</dd>\n",
       "\t<dt>2003</dt>\n",
       "\t\t<dd>3542</dd>\n",
       "\t<dt>2004</dt>\n",
       "\t\t<dd>3899</dd>\n",
       "\t<dt>2005</dt>\n",
       "\t\t<dd>4333</dd>\n",
       "\t<dt>2006</dt>\n",
       "\t\t<dd>5435</dd>\n",
       "\t<dt>2007</dt>\n",
       "\t\t<dd>5690</dd>\n",
       "\t<dt>2008</dt>\n",
       "\t\t<dd>6397</dd>\n",
       "\t<dt>2009</dt>\n",
       "\t\t<dd>8323</dd>\n",
       "\t<dt>2010</dt>\n",
       "\t\t<dd>8853</dd>\n",
       "\t<dt>2011</dt>\n",
       "\t\t<dd>9030</dd>\n",
       "\t<dt>2012</dt>\n",
       "\t\t<dd>9730</dd>\n",
       "</dl>\n"
      ],
      "text/latex": [
       "\\begin{description*}\n",
       "\\item[1999] 2356\n",
       "\\item[2000] 2166\n",
       "\\item[2001] 2972\n",
       "\\item[2002] 3334\n",
       "\\item[2003] 3542\n",
       "\\item[2004] 3899\n",
       "\\item[2005] 4333\n",
       "\\item[2006] 5435\n",
       "\\item[2007] 5690\n",
       "\\item[2008] 6397\n",
       "\\item[2009] 8323\n",
       "\\item[2010] 8853\n",
       "\\item[2011] 9030\n",
       "\\item[2012] 9730\n",
       "\\end{description*}\n"
      ],
      "text/markdown": [
       "1999\n",
       ":   23562000\n",
       ":   21662001\n",
       ":   29722002\n",
       ":   33342003\n",
       ":   35422004\n",
       ":   38992005\n",
       ":   43332006\n",
       ":   54352007\n",
       ":   56902008\n",
       ":   63972009\n",
       ":   83232010\n",
       ":   88532011\n",
       ":   90302012\n",
       ":   9730\n",
       "\n"
      ],
      "text/plain": [
       "1999 2000 2001 2002 2003 2004 2005 2006 2007 2008 2009 2010 2011 2012 \n",
       "2356 2166 2972 3334 3542 3899 4333 5435 5690 6397 8323 8853 9030 9730 "
      ]
     },
     "metadata": {},
     "output_type": "display_data"
    }
   ],
   "source": [
    "#sanitycheck\n",
    "\n",
    "sapply(menResMat, nrow)\n",
    "sapply(womenResMat, nrow)"
   ]
  },
  {
   "cell_type": "markdown",
   "metadata": {},
   "source": [
    "### 2.3 creating data frames of the information."
   ]
  },
  {
   "cell_type": "code",
   "execution_count": 12,
   "metadata": {},
   "outputs": [],
   "source": [
    "convertTime = function(time) {\n",
    "  timePieces = strsplit(time, \":\")\n",
    "  timePieces = sapply(timePieces, as.numeric)\n",
    "  sapply(timePieces, function(x) {\n",
    "                      if (length(x) == 2) x[1] + x[2]/60\n",
    "                      else 60*x[1] + x[2] + x[3]/60\n",
    "                      })\n",
    "}\n",
    "\n",
    "createDF = function(Res, year, sex) \n",
    "{\n",
    "  # Determine which time to use\n",
    "  if ( !is.na(Res[1, 'net']) ) useTime = Res[ , 'net']\n",
    "  else if ( !is.na(Res[1, 'gun']) ) useTime = Res[ , 'gun']\n",
    "  else useTime = Res[ , 'time']\n",
    "  \n",
    "  # Remove # and * and blanks from time\n",
    "  useTime = gsub(\"[#\\\\*\\\"[:blank:]]\", \"\", useTime)\n",
    "  \n",
    "  \n",
    "  # Drop rows with no time\n",
    "  Res = Res[ useTime != \"\", ]\n",
    "  runTime = convertTime(useTime[ useTime != \"\" ])\n",
    "  \n",
    "  Results = data.frame(year = rep(year, nrow(Res)),\n",
    "                       sex = rep(sex, nrow(Res)),\n",
    "                       name = Res[ , 'name'], home = Res[ , 'home'],\n",
    "                       age = as.numeric(Res[, 'ag']), \n",
    "                       runTime = runTime,\n",
    "                       stringsAsFactors = FALSE)\n",
    "  invisible(Results)\n",
    "}"
   ]
  },
  {
   "cell_type": "code",
   "execution_count": 13,
   "metadata": {},
   "outputs": [
    {
     "name": "stderr",
     "output_type": "stream",
     "text": [
      "Warning message in data.frame(year = rep(year, nrow(Res)), sex = rep(sex, nrow(Res)), :\n",
      "\"NAs introduced by coercion\""
     ]
    }
   ],
   "source": [
    "menResMat[['2006']][,\"home\"] = gsub(\"[0-9, :]\", \"\", menResMat[['2006']][,\"home\"])\n",
    "menResMat[['2006']][,\"net\"] = gsub(\"[A-Za-z\\\\s]\", \"\", menResMat[['2006']][,\"net\"])\n",
    "\n",
    "menDF = mapply(createDF, menResMat, year = 1999:2012,\n",
    "               sex = rep(\"M\", 14), SIMPLIFY = FALSE)"
   ]
  },
  {
   "cell_type": "code",
   "execution_count": 14,
   "metadata": {},
   "outputs": [
    {
     "name": "stderr",
     "output_type": "stream",
     "text": [
      "Warning message in data.frame(year = rep(year, nrow(Res)), sex = rep(sex, nrow(Res)), :\n",
      "\"NAs introduced by coercion\"Warning message in data.frame(year = rep(year, nrow(Res)), sex = rep(sex, nrow(Res)), :\n",
      "\"NAs introduced by coercion\""
     ]
    }
   ],
   "source": [
    "# Women function \n",
    "womenResMat[['2006']][,\"home\"] = gsub(\"[0-9, :]\", \"\", womenResMat[['2006']][,\"home\"])\n",
    "womenResMat[['2006']][,\"net\"] = gsub(\"[A-Za-z\\\\s]\", \"\", womenResMat[['2006']][,\"net\"])\n",
    "\n",
    "womenDF = mapply(createDF, womenResMat, year = 1999:2012,\n",
    "                 sex = rep(\"W\", 14), SIMPLIFY = FALSE)"
   ]
  },
  {
   "cell_type": "code",
   "execution_count": 15,
   "metadata": {},
   "outputs": [],
   "source": [
    "#combine men and women data frames into two separate dataframe and save.\n",
    "cbMen = do.call(rbind, menDF)\n",
    "save(cbMen, file = \"cbMen.rda\")\n",
    "cbWomen = do.call(rbind, womenDF)\n",
    "save(cbWomen, file = \"cbWomen.rda\")"
   ]
  },
  {
   "cell_type": "markdown",
   "metadata": {},
   "source": [
    "### Exploritory Descriptive Analytics"
   ]
  },
  {
   "cell_type": "code",
   "execution_count": 16,
   "metadata": {},
   "outputs": [
    {
     "name": "stderr",
     "output_type": "stream",
     "text": [
      "Warning message:\n",
      "\"package 'ggplot2' was built under R version 3.4.4\""
     ]
    },
    {
     "data": {
      "image/png": "[encoded data removed]",
      "text/plain": [
       "plot without title"
      ]
     },
     "metadata": {},
     "output_type": "display_data"
    }
   ],
   "source": [
    "library(ggplot2)\n",
    "\n",
    "load(file=\"cbMen.rda\")\n",
    "load(file=\"cbWomen.rda\")\n",
    "\n",
    "#General look at the data to check data elements to cofirm initial accuracy\n",
    "\n",
    "ggplot(data = cbWomen) + geom_bar(mapping = aes(x=runTime)) + ggtitle(\"Plot of women run times from races between 1999-2012\") +\n",
    "  xlab(\"Run Time (minutes)\") + ylab(\"Number of runners\")"
   ]
  },
  {
   "cell_type": "code",
   "execution_count": 17,
   "metadata": {},
   "outputs": [
    {
     "data": {
      "image/png": "[encoded data removed]",
      "text/plain": [
       "plot without title"
      ]
     },
     "metadata": {},
     "output_type": "display_data"
    }
   ],
   "source": [
    "ggplot(data = cbWomen) + geom_bar(mapping = aes(x=year)) + ggtitle(\"Plot of women contestants for each year\") +\n",
    "  xlab(\"Year\") + ylab(\"Number of runners\")"
   ]
  },
  {
   "cell_type": "code",
   "execution_count": 18,
   "metadata": {},
   "outputs": [
    {
     "name": "stderr",
     "output_type": "stream",
     "text": [
      "Warning message:\n",
      "\"Removed 22 rows containing non-finite values (stat_count).\""
     ]
    },
    {
     "data": {
      "image/png": "[encoded data removed]",
      "text/plain": [
       "plot without title"
      ]
     },
     "metadata": {},
     "output_type": "display_data"
    }
   ],
   "source": [
    "ggplot(data = cbWomen) + geom_bar(mapping = aes(x=age)) + ggtitle(\"Plot of the age of women contestants for races between 1999-2012\") +\n",
    "  xlab(\"Age (year)\") + ylab(\"Number of runners\")"
   ]
  },
  {
   "cell_type": "code",
   "execution_count": 19,
   "metadata": {},
   "outputs": [
    {
     "name": "stderr",
     "output_type": "stream",
     "text": [
      "Warning message:\n",
      "\"package 'tidyverse' was built under R version 3.4.4\"-- \u001b[1mAttaching packages\u001b[22m --------------------------------------- tidyverse 1.2.1 --\n",
      "\u001b[32mv\u001b[39m \u001b[34mtibble \u001b[39m 2.1.2     \u001b[32mv\u001b[39m \u001b[34mpurrr  \u001b[39m 0.3.2\n",
      "\u001b[32mv\u001b[39m \u001b[34mtidyr  \u001b[39m 0.8.0     \u001b[32mv\u001b[39m \u001b[34mdplyr  \u001b[39m 0.8.1\n",
      "\u001b[32mv\u001b[39m \u001b[34mreadr  \u001b[39m 1.1.1     \u001b[32mv\u001b[39m \u001b[34mstringr\u001b[39m 1.3.0\n",
      "\u001b[32mv\u001b[39m \u001b[34mtibble \u001b[39m 2.1.2     \u001b[32mv\u001b[39m \u001b[34mforcats\u001b[39m 0.3.0\n",
      "Warning message:\n",
      "\"package 'tidyr' was built under R version 3.4.4\"Warning message:\n",
      "\"package 'readr' was built under R version 3.4.4\"Warning message:\n",
      "\"package 'purrr' was built under R version 3.4.4\"Warning message:\n",
      "\"package 'stringr' was built under R version 3.4.4\"Warning message:\n",
      "\"package 'forcats' was built under R version 3.4.4\"-- \u001b[1mConflicts\u001b[22m ------------------------------------------ tidyverse_conflicts() --\n",
      "\u001b[31mx\u001b[39m \u001b[34mdplyr\u001b[39m::\u001b[32mfilter()\u001b[39m masks \u001b[34mstats\u001b[39m::filter()\n",
      "\u001b[31mx\u001b[39m \u001b[34mdplyr\u001b[39m::\u001b[32mlag()\u001b[39m    masks \u001b[34mstats\u001b[39m::lag()\n"
     ]
    },
    {
     "data": {
      "text/html": [
       "<table>\n",
       "<caption>A tibble: 14 × 4</caption>\n",
       "<thead>\n",
       "\t<tr><th scope=col>year</th><th scope=col>ageMean</th><th scope=col>ageMedian</th><th scope=col>count</th></tr>\n",
       "\t<tr><th scope=col>&lt;fct&gt;</th><th scope=col>&lt;dbl&gt;</th><th scope=col>&lt;dbl&gt;</th><th scope=col>&lt;int&gt;</th></tr>\n",
       "</thead>\n",
       "<tbody>\n",
       "\t<tr><td>1999</td><td>34.90094</td><td>33</td><td>2356</td></tr>\n",
       "\t<tr><td>2000</td><td>35.55355</td><td>34</td><td>2166</td></tr>\n",
       "\t<tr><td>2001</td><td>34.80619</td><td>33</td><td>2972</td></tr>\n",
       "\t<tr><td>2002</td><td>35.13784</td><td>33</td><td>3334</td></tr>\n",
       "\t<tr><td>2003</td><td>35.05138</td><td>33</td><td>3542</td></tr>\n",
       "\t<tr><td>2004</td><td>33.93255</td><td>32</td><td>3899</td></tr>\n",
       "\t<tr><td>2005</td><td>34.16925</td><td>32</td><td>4333</td></tr>\n",
       "\t<tr><td>2006</td><td>33.65348</td><td>31</td><td>5435</td></tr>\n",
       "\t<tr><td>2007</td><td>33.46786</td><td>31</td><td>5602</td></tr>\n",
       "\t<tr><td>2008</td><td>33.21025</td><td>31</td><td>6397</td></tr>\n",
       "\t<tr><td>2009</td><td>33.07751</td><td>31</td><td>8323</td></tr>\n",
       "\t<tr><td>2010</td><td>33.29707</td><td>31</td><td>8853</td></tr>\n",
       "\t<tr><td>2011</td><td>33.74039</td><td>31</td><td>9030</td></tr>\n",
       "\t<tr><td>2012</td><td>33.87790</td><td>32</td><td>9730</td></tr>\n",
       "</tbody>\n",
       "</table>\n"
      ],
      "text/latex": [
       "A tibble: 14 × 4\n",
       "\\begin{tabular}{r|llll}\n",
       " year & ageMean & ageMedian & count\\\\\n",
       " <fct> & <dbl> & <dbl> & <int>\\\\\n",
       "\\hline\n",
       "\t 1999 & 34.90094 & 33 & 2356\\\\\n",
       "\t 2000 & 35.55355 & 34 & 2166\\\\\n",
       "\t 2001 & 34.80619 & 33 & 2972\\\\\n",
       "\t 2002 & 35.13784 & 33 & 3334\\\\\n",
       "\t 2003 & 35.05138 & 33 & 3542\\\\\n",
       "\t 2004 & 33.93255 & 32 & 3899\\\\\n",
       "\t 2005 & 34.16925 & 32 & 4333\\\\\n",
       "\t 2006 & 33.65348 & 31 & 5435\\\\\n",
       "\t 2007 & 33.46786 & 31 & 5602\\\\\n",
       "\t 2008 & 33.21025 & 31 & 6397\\\\\n",
       "\t 2009 & 33.07751 & 31 & 8323\\\\\n",
       "\t 2010 & 33.29707 & 31 & 8853\\\\\n",
       "\t 2011 & 33.74039 & 31 & 9030\\\\\n",
       "\t 2012 & 33.87790 & 32 & 9730\\\\\n",
       "\\end{tabular}\n"
      ],
      "text/markdown": [
       "\n",
       "A tibble: 14 × 4\n",
       "\n",
       "| year &lt;fct&gt; | ageMean &lt;dbl&gt; | ageMedian &lt;dbl&gt; | count &lt;int&gt; |\n",
       "|---|---|---|---|\n",
       "| 1999 | 34.90094 | 33 | 2356 |\n",
       "| 2000 | 35.55355 | 34 | 2166 |\n",
       "| 2001 | 34.80619 | 33 | 2972 |\n",
       "| 2002 | 35.13784 | 33 | 3334 |\n",
       "| 2003 | 35.05138 | 33 | 3542 |\n",
       "| 2004 | 33.93255 | 32 | 3899 |\n",
       "| 2005 | 34.16925 | 32 | 4333 |\n",
       "| 2006 | 33.65348 | 31 | 5435 |\n",
       "| 2007 | 33.46786 | 31 | 5602 |\n",
       "| 2008 | 33.21025 | 31 | 6397 |\n",
       "| 2009 | 33.07751 | 31 | 8323 |\n",
       "| 2010 | 33.29707 | 31 | 8853 |\n",
       "| 2011 | 33.74039 | 31 | 9030 |\n",
       "| 2012 | 33.87790 | 32 | 9730 |\n",
       "\n"
      ],
      "text/plain": [
       "   year ageMean  ageMedian count\n",
       "1  1999 34.90094 33        2356 \n",
       "2  2000 35.55355 34        2166 \n",
       "3  2001 34.80619 33        2972 \n",
       "4  2002 35.13784 33        3334 \n",
       "5  2003 35.05138 33        3542 \n",
       "6  2004 33.93255 32        3899 \n",
       "7  2005 34.16925 32        4333 \n",
       "8  2006 33.65348 31        5435 \n",
       "9  2007 33.46786 31        5602 \n",
       "10 2008 33.21025 31        6397 \n",
       "11 2009 33.07751 31        8323 \n",
       "12 2010 33.29707 31        8853 \n",
       "13 2011 33.74039 31        9030 \n",
       "14 2012 33.87790 32        9730 "
      ]
     },
     "metadata": {},
     "output_type": "display_data"
    },
    {
     "data": {
      "image/png": "[encoded data removed]",
      "text/plain": [
       "plot without title"
      ]
     },
     "metadata": {},
     "output_type": "display_data"
    }
   ],
   "source": [
    "library (tidyverse)\n",
    "\n",
    "#Exploring Age by Year\n",
    "#Summary table and dot plot (Year, Mean and Median Age, Count)\n",
    "#table\n",
    "cbWomen$year = as.factor(cbWomen$year)\n",
    "ages = group_by(cbWomen, year)\n",
    "ageSummary = summarize(ages, ageMean = mean(age, na.rm = TRUE),ageMedian = median(age, na.rm = TRUE), count=n())\n",
    "ageSummary\n",
    "#dot plot\n",
    "ggplot(ageSummary, aes(x=year, y=ageMean, group=1)) +\n",
    "  geom_line() +\n",
    "  geom_point() + \n",
    "  ggtitle(\"Mean Age by Year\") +\n",
    "  xlab(\"Year\") +\n",
    "  ylab(\"Age (year)\") + \n",
    "  theme(plot.title = element_text(hjust = 0.5))"
   ]
  },
  {
   "cell_type": "code",
   "execution_count": 20,
   "metadata": {
    "scrolled": true
   },
   "outputs": [
    {
     "data": {
      "image/png": "[encoded data removed]",
      "text/plain": [
       "Plot with title \"Run time by age\""
      ]
     },
     "metadata": {},
     "output_type": "display_data"
    }
   ],
   "source": [
    "#Exploring age and time\n",
    "smoothScatter(y = cbWomen$runTime, x = cbWomen$age, \n",
    "              ylim = c(40, 165), xlim = c(15, 85),\n",
    "              xlab = \"Age (years)\", ylab = \"Run Time (minutes)\", main=\"Run time by age\")\n",
    "\n"
   ]
  },
  {
   "cell_type": "code",
   "execution_count": 21,
   "metadata": {},
   "outputs": [
    {
     "data": {
      "text/plain": [
       "ageGroup\n",
       "(10,20] (20,30] (30,40] (40,50] (50,60] (60,70] (70,80] (80,90] \n",
       "   1016   33442   24883   11746    4187     613      53       6 "
      ]
     },
     "metadata": {},
     "output_type": "display_data"
    },
    {
     "data": {
      "image/png": "[encoded data removed]",
      "text/plain": [
       "plot without title"
      ]
     },
     "metadata": {},
     "output_type": "display_data"
    }
   ],
   "source": [
    "#Bin the ages by 10s and view boxplot of age vs runTime\n",
    "\n",
    "cbWomenGroup <- cbWomen[cbWomen$runTime > 30 & !is.na(cbWomen$age) & cbWomen$age > 10, ]\n",
    "ageGroup <- cut(cbWomenGroup$age, breaks = c(seq(10, 80, 10), 90))\n",
    "table(ageGroup)\n",
    "\n",
    "plot(cbWomenGroup$runTime ~ ageGroup, xlab = \"Age (years)\", ylab = \"Run Time (minutes)\")\n",
    "\n"
   ]
  },
  {
   "cell_type": "code",
   "execution_count": 22,
   "metadata": {},
   "outputs": [
    {
     "data": {
      "image/png": "[encoded data removed]",
      "text/plain": [
       "plot without title"
      ]
     },
     "metadata": {},
     "output_type": "display_data"
    }
   ],
   "source": [
    "#Looking at most variables together\n",
    "ggplot(cbWomen, aes(year, runTime, col = age)) +\n",
    "  geom_point() + ggtitle(\"Run time of each year with respect to contestant's age\") +\n",
    "  xlab(\"Year\") +\n",
    "  ylab(\"Run Time (minute)\")"
   ]
  },
  {
   "cell_type": "code",
   "execution_count": 23,
   "metadata": {},
   "outputs": [
    {
     "data": {
      "text/plain": [
       "\n",
       "Call:\n",
       "lm(formula = runTime ~ age, data = cbWomenGroup)\n",
       "\n",
       "Residuals:\n",
       "    Min      1Q  Median      3Q     Max \n",
       "-46.102  -9.450  -0.649   8.639  79.201 \n",
       "\n",
       "Coefficients:\n",
       "             Estimate Std. Error t value Pr(>|t|)    \n",
       "(Intercept) 91.420458   0.194829  469.23   <2e-16 ***\n",
       "age          0.197009   0.005553   35.48   <2e-16 ***\n",
       "---\n",
       "Signif. codes:  0 '***' 0.001 '**' 0.01 '*' 0.05 '.' 0.1 ' ' 1\n",
       "\n",
       "Residual standard error: 14.11 on 75944 degrees of freedom\n",
       "Multiple R-squared:  0.0163,\tAdjusted R-squared:  0.01629 \n",
       "F-statistic:  1259 on 1 and 75944 DF,  p-value: < 2.2e-16\n"
      ]
     },
     "metadata": {},
     "output_type": "display_data"
    }
   ],
   "source": [
    "#Linear model of runTime and age\n",
    "linearAge <- lm(runTime ~ age, data = cbWomenGroup)\n",
    "summary(linearAge)"
   ]
  },
  {
   "cell_type": "code",
   "execution_count": 24,
   "metadata": {},
   "outputs": [
    {
     "data": {
      "image/png": "[encoded data removed]",
      "text/plain": [
       "Plot with title \"Age residuals of linear model\""
      ]
     },
     "metadata": {},
     "output_type": "display_data"
    }
   ],
   "source": [
    "#plot residuals of linear model\n",
    "smoothScatter(x = cbWomenGroup$age, y = linearAge$residuals, xlab = \"Age (years)\", ylab = \"Residuals\", main=\"Age residuals of linear model\")\n",
    "abline(h = 0, col = \"purple\", lwd = 3)"
   ]
  }
 ],
 "metadata": {
  "kernelspec": {
   "display_name": "R",
   "language": "R",
   "name": "ir"
  },
  "language_info": {
   "codemirror_mode": "r",
   "file_extension": ".r",
   "mimetype": "text/x-r-source",
   "name": "R",
   "pygments_lexer": "r",
   "version": "3.4.3"
  }
 },
 "nbformat": 4,
 "nbformat_minor": 2
}
