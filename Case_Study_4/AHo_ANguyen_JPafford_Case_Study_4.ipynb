{
 "cells": [
  {
   "cell_type": "markdown",
   "metadata": {},
   "source": [
    "# <div style=\"text-align:center\"> DS7333 - Case Study 4 | Cherry Blossom Run</div>\n",
    "### <div style=\"text-align:center\">Andy Ho, An Nguyen, Jodi Pafford</div>\n",
    "<div style=\"text-align:center\">June 3, 2019</div>"
   ]
  },
  {
   "cell_type": "markdown",
   "metadata": {},
   "source": [
    "## 1 Introduction\n",
    "\n"
   ]
  },
  {
   "cell_type": "markdown",
   "metadata": {},
   "source": [
    "## 2 Background\n",
    "\n"
   ]
  },
  {
   "cell_type": "markdown",
   "metadata": {},
   "source": [
    "## 3 Methods\n",
    "\n"
   ]
  },
  {
   "cell_type": "markdown",
   "metadata": {},
   "source": [
    "## 4 Results\n",
    "\n"
   ]
  },
  {
   "cell_type": "markdown",
   "metadata": {},
   "source": [
    "## 5 Conclusion\n",
    " "
   ]
  },
  {
   "cell_type": "markdown",
   "metadata": {},
   "source": [
    "### References\n",
    "+ Nolan, D. and Lang, D. T. “Data Science in R.” CRC Press, 2015 (Chapter 1)\n",
    "+ http://rdatasciencecases.org/"
   ]
  },
  {
   "cell_type": "markdown",
   "metadata": {},
   "source": [
    "## 6 Appendix - Code\n"
   ]
  },
  {
   "cell_type": "markdown",
   "metadata": {},
   "source": [
    "### 6.1 Process RAW Data"
   ]
  },
  {
   "cell_type": "code",
   "execution_count": 1,
   "metadata": {},
   "outputs": [],
   "source": [
    "ubase = \"http://www.cherryblossom.org/\"\n",
    "\n",
    "menURLs = \n",
    "  c(\"results/1999/cb99m.html\", \"results/2000/Cb003m.htm\", \"results/2001/oof_m.html\",\n",
    "    \"results/2002/oofm.htm\", \"results/2003/CB03-M.HTM\",\n",
    "    \"results/2004/men.htm\", \"results/2005/CB05-M.htm\", \n",
    "    \"results/2006/men.htm\", \"results/2007/men.htm\", \n",
    "    \"results/2008/men.htm\", \"results/2009/09cucb-M.htm\",\n",
    "    \"results/2010/2010cucb10m-m.htm\", \n",
    "    \"results/2011/2011cucb10m-m.htm\",\n",
    "    \"results/2012/2012cucb10m-m.htm\")\n",
    "\n",
    "womenURLs = \n",
    "  c(\"results/1999/cb99f.html\", \"results/2000/Cb003f.htm\", \"results/2001/oof_f.html\",\n",
    "    \"results/2002/ooff.htm\", \"results/2003/CB03-F.HTM\",\n",
    "    \"results/2004/women.htm\", \"results/2005/CB05-F.htm\", \n",
    "    \"results/2006/women.htm\", \"results/2007/women.htm\", \n",
    "    \"results/2008/women.htm\", \"results/2009/09cucb-F.htm\",\n",
    "    \"results/2010/2010cucb10m-f.htm\", \n",
    "    \"results/2011/2011cucb10m-f.htm\",\n",
    "    \"results/2012/2012cucb10m-f.htm\")\n",
    "\n",
    "urlsMen = paste(ubase, menURLs, sep = \"\")\n",
    "urlsWomen = paste(ubase, womenURLs, sep = \"\")"
   ]
  },
  {
   "cell_type": "code",
   "execution_count": 2,
   "metadata": {},
   "outputs": [
    {
     "data": {
      "text/html": [
       "<dl class=dl-horizontal>\n",
       "\t<dt>1999</dt>\n",
       "\t\t<dd>3193</dd>\n",
       "\t<dt>2000</dt>\n",
       "\t\t<dd>3019</dd>\n",
       "\t<dt>2001</dt>\n",
       "\t\t<dd>3627</dd>\n",
       "\t<dt>2002</dt>\n",
       "\t\t<dd>3727</dd>\n",
       "\t<dt>2003</dt>\n",
       "\t\t<dd>3951</dd>\n",
       "\t<dt>2004</dt>\n",
       "\t\t<dd>4164</dd>\n",
       "\t<dt>2005</dt>\n",
       "\t\t<dd>4335</dd>\n",
       "\t<dt>2006</dt>\n",
       "\t\t<dd>5245</dd>\n",
       "\t<dt>2007</dt>\n",
       "\t\t<dd>5283</dd>\n",
       "\t<dt>2008</dt>\n",
       "\t\t<dd>5913</dd>\n",
       "\t<dt>2009</dt>\n",
       "\t\t<dd>6659</dd>\n",
       "\t<dt>2010</dt>\n",
       "\t\t<dd>6919</dd>\n",
       "\t<dt>2011</dt>\n",
       "\t\t<dd>7019</dd>\n",
       "\t<dt>2012</dt>\n",
       "\t\t<dd>7201</dd>\n",
       "</dl>\n"
      ],
      "text/latex": [
       "\\begin{description*}\n",
       "\\item[1999] 3193\n",
       "\\item[2000] 3019\n",
       "\\item[2001] 3627\n",
       "\\item[2002] 3727\n",
       "\\item[2003] 3951\n",
       "\\item[2004] 4164\n",
       "\\item[2005] 4335\n",
       "\\item[2006] 5245\n",
       "\\item[2007] 5283\n",
       "\\item[2008] 5913\n",
       "\\item[2009] 6659\n",
       "\\item[2010] 6919\n",
       "\\item[2011] 7019\n",
       "\\item[2012] 7201\n",
       "\\end{description*}\n"
      ],
      "text/markdown": [
       "1999\n",
       ":   31932000\n",
       ":   30192001\n",
       ":   36272002\n",
       ":   37272003\n",
       ":   39512004\n",
       ":   41642005\n",
       ":   43352006\n",
       ":   52452007\n",
       ":   52832008\n",
       ":   59132009\n",
       ":   66592010\n",
       ":   69192011\n",
       ":   70192012\n",
       ":   7201\n",
       "\n"
      ],
      "text/plain": [
       "1999 2000 2001 2002 2003 2004 2005 2006 2007 2008 2009 2010 2011 2012 \n",
       "3193 3019 3627 3727 3951 4164 4335 5245 5283 5913 6659 6919 7019 7201 "
      ]
     },
     "metadata": {},
     "output_type": "display_data"
    },
    {
     "data": {
      "text/html": [
       "<dl class=dl-horizontal>\n",
       "\t<dt>1999</dt>\n",
       "\t\t<dd>2359</dd>\n",
       "\t<dt>2000</dt>\n",
       "\t\t<dd>2169</dd>\n",
       "\t<dt>2001</dt>\n",
       "\t\t<dd>2976</dd>\n",
       "\t<dt>2002</dt>\n",
       "\t\t<dd>3338</dd>\n",
       "\t<dt>2003</dt>\n",
       "\t\t<dd>3547</dd>\n",
       "\t<dt>2004</dt>\n",
       "\t\t<dd>3907</dd>\n",
       "\t<dt>2005</dt>\n",
       "\t\t<dd>4342</dd>\n",
       "\t<dt>2006</dt>\n",
       "\t\t<dd>5445</dd>\n",
       "\t<dt>2007</dt>\n",
       "\t\t<dd>5699</dd>\n",
       "\t<dt>2008</dt>\n",
       "\t\t<dd>6405</dd>\n",
       "\t<dt>2009</dt>\n",
       "\t\t<dd>8333</dd>\n",
       "\t<dt>2010</dt>\n",
       "\t\t<dd>8863</dd>\n",
       "\t<dt>2011</dt>\n",
       "\t\t<dd>9038</dd>\n",
       "\t<dt>2012</dt>\n",
       "\t\t<dd>9738</dd>\n",
       "</dl>\n"
      ],
      "text/latex": [
       "\\begin{description*}\n",
       "\\item[1999] 2359\n",
       "\\item[2000] 2169\n",
       "\\item[2001] 2976\n",
       "\\item[2002] 3338\n",
       "\\item[2003] 3547\n",
       "\\item[2004] 3907\n",
       "\\item[2005] 4342\n",
       "\\item[2006] 5445\n",
       "\\item[2007] 5699\n",
       "\\item[2008] 6405\n",
       "\\item[2009] 8333\n",
       "\\item[2010] 8863\n",
       "\\item[2011] 9038\n",
       "\\item[2012] 9738\n",
       "\\end{description*}\n"
      ],
      "text/markdown": [
       "1999\n",
       ":   23592000\n",
       ":   21692001\n",
       ":   29762002\n",
       ":   33382003\n",
       ":   35472004\n",
       ":   39072005\n",
       ":   43422006\n",
       ":   54452007\n",
       ":   56992008\n",
       ":   64052009\n",
       ":   83332010\n",
       ":   88632011\n",
       ":   90382012\n",
       ":   9738\n",
       "\n"
      ],
      "text/plain": [
       "1999 2000 2001 2002 2003 2004 2005 2006 2007 2008 2009 2010 2011 2012 \n",
       "2359 2169 2976 3338 3547 3907 4342 5445 5699 6405 8333 8863 9038 9738 "
      ]
     },
     "metadata": {},
     "output_type": "display_data"
    }
   ],
   "source": [
    "library(XML)\n",
    "\n",
    "extractResTable =\n",
    "  #\n",
    "  # Retrieve data from web site, \n",
    "  # find the preformatted text,\n",
    "  # and write lines or return as a character vector.\n",
    "  #\n",
    "  function(url = \"http://www.cherryblossom.org/results/1999/cb99m.html\",\n",
    "           year = 1999, sex = \"male\", file = NULL)\n",
    "  {\n",
    "    #added encoding for windows users who get an \"A\" symbol\n",
    "    doc = htmlParse(url, encoding=\"UTF-8\")\n",
    "\n",
    "    if (year == 2000) {\n",
    "      # Get preformatted text from 4th font element\n",
    "      # The top file is ill formed so the <pre> search doesn't work.\n",
    "      ff = getNodeSet(doc, \"//font\")\n",
    "      txt = xmlValue(ff[[4]])\n",
    "      els = strsplit(txt, \"\\r\\n\")[[1]]\n",
    "    }\n",
    "    else if (year == 2009 & sex == \"male\") {\n",
    "      # Get preformatted text from <div class=\"Section1\"> element\n",
    "      # Each line of results is in a <pre> element\n",
    "      div1 = getNodeSet(doc, \"//div[@class='Section1']\")\n",
    "      pres = getNodeSet(div1[[1]], \"//pre\")\n",
    "      els = sapply(pres, xmlValue)\n",
    "    }\n",
    "    else if (year == 1999){\n",
    "      # Get preformatted text from <pre> elements\n",
    "      pres = getNodeSet(doc, \"//pre\")\n",
    "      txt = xmlValue(pres[[1]])\n",
    "      els = strsplit(txt, \"\\n\")[[1]]   \n",
    "    } \n",
    "    else {\n",
    "      # Get preformatted text from <pre> elements\n",
    "      pres = getNodeSet(doc, \"//pre\")\n",
    "      txt = xmlValue(pres[[1]])\n",
    "      els = strsplit(txt, \"\\r\\n\")[[1]]   \n",
    "    } \n",
    "    \n",
    "    if (is.null(file)) return(els)\n",
    "    # Write the lines as a text file.\n",
    "    writeLines(els, con = file)\n",
    "  }\n",
    "\n",
    "\n",
    "years = 1999:2012\n",
    "menTables = mapply(extractResTable, url = urlsMen, year = years)\n",
    "names(menTables) = years\n",
    "sapply(menTables, length)\n",
    "\n",
    "womenTables = mapply(extractResTable, url = urlsWomen, \n",
    "                       year = years, sex = rep(\"female\", 14))\n",
    "names(womenTables) = years\n",
    "sapply(womenTables, length)\n",
    "\n",
    "\n",
    "save(menTables, file = \"CBMenTextTables.rda\")\n",
    "save(womenTables, file = \"CBWomenTextTables.rda\")"
   ]
  },
  {
   "cell_type": "markdown",
   "metadata": {},
   "source": [
    "#### Beginning of 2.3 code from the text - Reading tables into R"
   ]
  },
  {
   "cell_type": "code",
   "execution_count": 3,
   "metadata": {},
   "outputs": [
    {
     "data": {
      "text/html": [
       "<ol class=list-inline>\n",
       "\t<li>''</li>\n",
       "\t<li><span style=white-space:pre-wrap>'                 Credit Union Cherry Blossom Ten Mile Run'</span></li>\n",
       "\t<li><span style=white-space:pre-wrap>'                 Washington, DC     Sunday, April 1, 2012'</span></li>\n",
       "\t<li>''</li>\n",
       "\t<li><span style=white-space:pre-wrap>'                Official Male Results (Sorted By Net Time)'</span></li>\n",
       "\t<li>''</li>\n",
       "\t<li><span style=white-space:pre-wrap>'Place Div  /Tot   Num    Name                   Ag Hometown             5 Mile  Time    Pace  '</span></li>\n",
       "\t<li>'===== =========== ====== ====================== == ==================== ======= ======= ===== '</li>\n",
       "\t<li><span style=white-space:pre-wrap>'    1     1/347        9 Allan Kiprono          22 Kenya                  22:32   45:15  4:32 '</span></li>\n",
       "\t<li><span style=white-space:pre-wrap>'    2     2/347       11 Lani Kiplagat          23 Kenya                  22:38   46:28  4:39 '</span></li>\n",
       "</ol>\n"
      ],
      "text/latex": [
       "\\begin{enumerate*}\n",
       "\\item ''\n",
       "\\item '                 Credit Union Cherry Blossom Ten Mile Run'\n",
       "\\item '                 Washington, DC     Sunday, April 1, 2012'\n",
       "\\item ''\n",
       "\\item '                Official Male Results (Sorted By Net Time)'\n",
       "\\item ''\n",
       "\\item 'Place Div  /Tot   Num    Name                   Ag Hometown             5 Mile  Time    Pace  '\n",
       "\\item '===== =========== ====== ====================== == ==================== ======= ======= ===== '\n",
       "\\item '    1     1/347        9 Allan Kiprono          22 Kenya                  22:32   45:15  4:32 '\n",
       "\\item '    2     2/347       11 Lani Kiplagat          23 Kenya                  22:38   46:28  4:39 '\n",
       "\\end{enumerate*}\n"
      ],
      "text/markdown": [
       "1. ''\n",
       "2. <span style=white-space:pre-wrap>'                 Credit Union Cherry Blossom Ten Mile Run'</span>\n",
       "3. <span style=white-space:pre-wrap>'                 Washington, DC     Sunday, April 1, 2012'</span>\n",
       "4. ''\n",
       "5. <span style=white-space:pre-wrap>'                Official Male Results (Sorted By Net Time)'</span>\n",
       "6. ''\n",
       "7. <span style=white-space:pre-wrap>'Place Div  /Tot   Num    Name                   Ag Hometown             5 Mile  Time    Pace  '</span>\n",
       "8. '===== =========== ====== ====================== == ==================== ======= ======= ===== '\n",
       "9. <span style=white-space:pre-wrap>'    1     1/347        9 Allan Kiprono          22 Kenya                  22:32   45:15  4:32 '</span>\n",
       "10. <span style=white-space:pre-wrap>'    2     2/347       11 Lani Kiplagat          23 Kenya                  22:38   46:28  4:39 '</span>\n",
       "\n",
       "\n"
      ],
      "text/plain": [
       " [1] \"\"                                                                                              \n",
       " [2] \"                 Credit Union Cherry Blossom Ten Mile Run\"                                     \n",
       " [3] \"                 Washington, DC     Sunday, April 1, 2012\"                                     \n",
       " [4] \"\"                                                                                              \n",
       " [5] \"                Official Male Results (Sorted By Net Time)\"                                    \n",
       " [6] \"\"                                                                                              \n",
       " [7] \"Place Div  /Tot   Num    Name                   Ag Hometown             5 Mile  Time    Pace  \"\n",
       " [8] \"===== =========== ====== ====================== == ==================== ======= ======= ===== \"\n",
       " [9] \"    1     1/347        9 Allan Kiprono          22 Kenya                  22:32   45:15  4:32 \"\n",
       "[10] \"    2     2/347       11 Lani Kiplagat          23 Kenya                  22:38   46:28  4:39 \""
      ]
     },
     "metadata": {},
     "output_type": "display_data"
    }
   ],
   "source": [
    "#Begining of 2.3 from the text\n",
    "\n",
    "els = readLines(\"MenTxt/2012.txt\")\n",
    "\n",
    "els[1:10]"
   ]
  },
  {
   "cell_type": "code",
   "execution_count": 4,
   "metadata": {},
   "outputs": [
    {
     "data": {
      "text/html": [
       "<ol class=list-inline>\n",
       "\t<li>''</li>\n",
       "\t<li><span style=white-space:pre-wrap>'                 Credit Union Cherry Blossom Ten Mile Run'</span></li>\n",
       "\t<li><span style=white-space:pre-wrap>'                 Washington, DC     Sunday, April 3, 2011'</span></li>\n",
       "\t<li>''</li>\n",
       "\t<li><span style=white-space:pre-wrap>'                           Official Male Results'</span></li>\n",
       "\t<li>''</li>\n",
       "\t<li><span style=white-space:pre-wrap>'Place Div  /Tot   Num    Name                   Ag Hometown             5 Mile  Gun Tim Net Tim Pace  '</span></li>\n",
       "\t<li>'===== =========== ====== ====================== == ==================== ======= ======= ======= ===== '</li>\n",
       "\t<li><span style=white-space:pre-wrap>'    1     1/401        3 Lelisa Desisa          21 Ethiopia                       45:36   45:36  4:34 '</span></li>\n",
       "\t<li><span style=white-space:pre-wrap>'    2     2/401       13 Allan Kiprono          21 Kenya                  23:08   45:41   45:41  4:35 '</span></li>\n",
       "</ol>\n"
      ],
      "text/latex": [
       "\\begin{enumerate*}\n",
       "\\item ''\n",
       "\\item '                 Credit Union Cherry Blossom Ten Mile Run'\n",
       "\\item '                 Washington, DC     Sunday, April 3, 2011'\n",
       "\\item ''\n",
       "\\item '                           Official Male Results'\n",
       "\\item ''\n",
       "\\item 'Place Div  /Tot   Num    Name                   Ag Hometown             5 Mile  Gun Tim Net Tim Pace  '\n",
       "\\item '===== =========== ====== ====================== == ==================== ======= ======= ======= ===== '\n",
       "\\item '    1     1/401        3 Lelisa Desisa          21 Ethiopia                       45:36   45:36  4:34 '\n",
       "\\item '    2     2/401       13 Allan Kiprono          21 Kenya                  23:08   45:41   45:41  4:35 '\n",
       "\\end{enumerate*}\n"
      ],
      "text/markdown": [
       "1. ''\n",
       "2. <span style=white-space:pre-wrap>'                 Credit Union Cherry Blossom Ten Mile Run'</span>\n",
       "3. <span style=white-space:pre-wrap>'                 Washington, DC     Sunday, April 3, 2011'</span>\n",
       "4. ''\n",
       "5. <span style=white-space:pre-wrap>'                           Official Male Results'</span>\n",
       "6. ''\n",
       "7. <span style=white-space:pre-wrap>'Place Div  /Tot   Num    Name                   Ag Hometown             5 Mile  Gun Tim Net Tim Pace  '</span>\n",
       "8. '===== =========== ====== ====================== == ==================== ======= ======= ======= ===== '\n",
       "9. <span style=white-space:pre-wrap>'    1     1/401        3 Lelisa Desisa          21 Ethiopia                       45:36   45:36  4:34 '</span>\n",
       "10. <span style=white-space:pre-wrap>'    2     2/401       13 Allan Kiprono          21 Kenya                  23:08   45:41   45:41  4:35 '</span>\n",
       "\n",
       "\n"
      ],
      "text/plain": [
       " [1] \"\"                                                                                                      \n",
       " [2] \"                 Credit Union Cherry Blossom Ten Mile Run\"                                             \n",
       " [3] \"                 Washington, DC     Sunday, April 3, 2011\"                                             \n",
       " [4] \"\"                                                                                                      \n",
       " [5] \"                           Official Male Results\"                                                      \n",
       " [6] \"\"                                                                                                      \n",
       " [7] \"Place Div  /Tot   Num    Name                   Ag Hometown             5 Mile  Gun Tim Net Tim Pace  \"\n",
       " [8] \"===== =========== ====== ====================== == ==================== ======= ======= ======= ===== \"\n",
       " [9] \"    1     1/401        3 Lelisa Desisa          21 Ethiopia                       45:36   45:36  4:34 \"\n",
       "[10] \"    2     2/401       13 Allan Kiprono          21 Kenya                  23:08   45:41   45:41  4:35 \""
      ]
     },
     "metadata": {},
     "output_type": "display_data"
    }
   ],
   "source": [
    "els2011 = readLines(\"MenTxt/2011.txt\")\n",
    "els2011[1:10]"
   ]
  },
  {
   "cell_type": "code",
   "execution_count": 5,
   "metadata": {},
   "outputs": [
    {
     "data": {
      "text/html": [
       "8"
      ],
      "text/latex": [
       "8"
      ],
      "text/markdown": [
       "8"
      ],
      "text/plain": [
       "[1] 8"
      ]
     },
     "metadata": {},
     "output_type": "display_data"
    }
   ],
   "source": [
    "eqIndex = grep(\"^===\", els)\n",
    "eqIndex"
   ]
  },
  {
   "cell_type": "code",
   "execution_count": 6,
   "metadata": {},
   "outputs": [
    {
     "data": {
      "text/html": [
       "8"
      ],
      "text/latex": [
       "8"
      ],
      "text/markdown": [
       "8"
      ],
      "text/plain": [
       "[1] 8"
      ]
     },
     "metadata": {},
     "output_type": "display_data"
    }
   ],
   "source": [
    "first3 = substr(els, 1, 3)\n",
    "which(first3 == \"===\")"
   ]
  },
  {
   "cell_type": "code",
   "execution_count": 30,
   "metadata": {},
   "outputs": [
    {
     "data": {
      "text/html": [
       "49"
      ],
      "text/latex": [
       "49"
      ],
      "text/markdown": [
       "49"
      ],
      "text/plain": [
       "[1] 49\n",
       "attr(,\"match.length\")\n",
       "[1] 2\n",
       "attr(,\"index.type\")\n",
       "[1] \"chars\"\n",
       "attr(,\"useBytes\")\n",
       "[1] TRUE"
      ]
     },
     "metadata": {},
     "output_type": "display_data"
    }
   ],
   "source": [
    "spacerRow = els[eqIndex]\n",
    "headerRow = els[eqIndex - 1]\n",
    "body = els[ -(1:eqIndex) ]\n",
    "headerRow = tolower(headerRow)\n",
    "ageStart = regexpr(\"ag\", headerRow)\n",
    "ageStart"
   ]
  },
  {
   "cell_type": "code",
   "execution_count": 11,
   "metadata": {},
   "outputs": [
    {
     "data": {
      "text/html": [
       "<ol class=list-inline>\n",
       "\t<li>'22'</li>\n",
       "\t<li>'23'</li>\n",
       "\t<li>'36'</li>\n",
       "\t<li>'27'</li>\n",
       "\t<li>'24'</li>\n",
       "\t<li>'31'</li>\n",
       "</ol>\n"
      ],
      "text/latex": [
       "\\begin{enumerate*}\n",
       "\\item '22'\n",
       "\\item '23'\n",
       "\\item '36'\n",
       "\\item '27'\n",
       "\\item '24'\n",
       "\\item '31'\n",
       "\\end{enumerate*}\n"
      ],
      "text/markdown": [
       "1. '22'\n",
       "2. '23'\n",
       "3. '36'\n",
       "4. '27'\n",
       "5. '24'\n",
       "6. '31'\n",
       "\n",
       "\n"
      ],
      "text/plain": [
       "[1] \"22\" \"23\" \"36\" \"27\" \"24\" \"31\""
      ]
     },
     "metadata": {},
     "output_type": "display_data"
    },
    {
     "data": {
      "text/plain": [
       "   Min. 1st Qu.  Median    Mean 3rd Qu.    Max.    NA's \n",
       "   9.00   29.00   35.00   37.75   45.00   89.00       1 "
      ]
     },
     "metadata": {},
     "output_type": "display_data"
    }
   ],
   "source": [
    "age = substr(body, start = ageStart, stop = ageStart + 1)\n",
    "head(age)\n",
    "summary(as.numeric(age))"
   ]
  },
  {
   "cell_type": "code",
   "execution_count": 12,
   "metadata": {},
   "outputs": [
    {
     "data": {
      "text/html": [
       "<ol>\n",
       "\t<li><ol class=list-inline>\n",
       "\t<li>6</li>\n",
       "\t<li>18</li>\n",
       "\t<li>25</li>\n",
       "\t<li>48</li>\n",
       "\t<li>51</li>\n",
       "\t<li>72</li>\n",
       "\t<li>80</li>\n",
       "\t<li>88</li>\n",
       "\t<li>94</li>\n",
       "</ol>\n",
       "</li>\n",
       "</ol>\n"
      ],
      "text/latex": [
       "\\begin{enumerate}\n",
       "\\item \\begin{enumerate*}\n",
       "\\item 6\n",
       "\\item 18\n",
       "\\item 25\n",
       "\\item 48\n",
       "\\item 51\n",
       "\\item 72\n",
       "\\item 80\n",
       "\\item 88\n",
       "\\item 94\n",
       "\\end{enumerate*}\n",
       "\n",
       "\\end{enumerate}\n"
      ],
      "text/markdown": [
       "1. 1. 6\n",
       "2. 18\n",
       "3. 25\n",
       "4. 48\n",
       "5. 51\n",
       "6. 72\n",
       "7. 80\n",
       "8. 88\n",
       "9. 94\n",
       "\n",
       "\n",
       "\n",
       "\n",
       "\n"
      ],
      "text/plain": [
       "[[1]]\n",
       "[1]  6 18 25 48 51 72 80 88 94\n",
       "attr(,\"match.length\")\n",
       "[1] 1 1 1 1 1 1 1 1 1\n",
       "attr(,\"index.type\")\n",
       "[1] \"chars\"\n",
       "attr(,\"useBytes\")\n",
       "[1] TRUE\n"
      ]
     },
     "metadata": {},
     "output_type": "display_data"
    }
   ],
   "source": [
    "blankLocs = gregexpr(\" \", spacerRow)\n",
    "blankLocs"
   ]
  },
  {
   "cell_type": "code",
   "execution_count": 31,
   "metadata": {},
   "outputs": [],
   "source": [
    "searchLocs = c(0, blankLocs[[1]])\n",
    "\n",
    "Values = mapply(substr, list(body), \n",
    "                start = searchLocs[ -length(searchLocs)] + 1, \n",
    "                stop = searchLocs[ -1 ] - 1)\n",
    "\n",
    "findColLocs = function(spacerRow) {\n",
    "\n",
    "  spaceLocs = gregexpr(\" \", spacerRow)[[1]]\n",
    "  rowLength = nchar(spacerRow)\n",
    "\n",
    "  if (substring(spacerRow, rowLength, rowLength) != \" \")\n",
    "    return( c(0, spaceLocs, rowLength + 1))\n",
    "  else return(c(0, spaceLocs))\n",
    "}\n",
    "\n",
    "selectCols = \n",
    "function(colNames, headerRow, searchLocs) \n",
    "{\n",
    "  sapply(colNames, \n",
    "         function(name, headerRow, searchLocs)\n",
    "         {\n",
    "           startPos = regexpr(name, headerRow)[[1]]\n",
    "           if (startPos == -1) \n",
    "             return( c(NA, NA) )\n",
    "    \n",
    "           index = sum(startPos >= searchLocs)\n",
    "           c(searchLocs[index] + 1, searchLocs[index + 1] - 1)\n",
    "         },\n",
    "         headerRow = headerRow, searchLocs = searchLocs )\n",
    "}\n"
   ]
  },
  {
   "cell_type": "code",
   "execution_count": 32,
   "metadata": {},
   "outputs": [
    {
     "data": {
      "text/plain": [
       "   Min. 1st Qu.  Median    Mean 3rd Qu.    Max.    NA's \n",
       "   9.00   29.00   35.00   37.75   45.00   89.00       1 "
      ]
     },
     "metadata": {},
     "output_type": "display_data"
    }
   ],
   "source": [
    "searchLocs = findColLocs(spacerRow)\n",
    "ageLoc = selectCols(\"ag\", headerRow, searchLocs) \n",
    "ages = mapply(substr, list(body), \n",
    "              start = ageLoc[1,], stop = ageLoc[2, ])\n",
    "\n",
    "summary(as.numeric(ages))"
   ]
  },
  {
   "cell_type": "code",
   "execution_count": 20,
   "metadata": {},
   "outputs": [],
   "source": [
    "shortColNames = c(\"name\", \"home\", \"ag\", \"gun\", \"net\", \"time\")"
   ]
  },
  {
   "cell_type": "code",
   "execution_count": 33,
   "metadata": {},
   "outputs": [
    {
     "data": {
      "text/html": [
       "<table>\n",
       "<caption>A matrix: 6 × 6 of type chr</caption>\n",
       "<thead>\n",
       "\t<tr><th scope=col>name</th><th scope=col>home</th><th scope=col>ag</th><th scope=col>gun</th><th scope=col>net</th><th scope=col>time</th></tr>\n",
       "</thead>\n",
       "<tbody>\n",
       "\t<tr><td>Allan Kiprono         </td><td>Kenya               </td><td>22</td><td>NA</td><td>NA</td><td>  45:15</td></tr>\n",
       "\t<tr><td>Lani Kiplagat         </td><td>Kenya               </td><td>23</td><td>NA</td><td>NA</td><td>  46:28</td></tr>\n",
       "\t<tr><td>John Korir            </td><td>Kenya               </td><td>36</td><td>NA</td><td>NA</td><td>  47:33</td></tr>\n",
       "\t<tr><td>Ian Burrell           </td><td>Tucson AZ           </td><td>27</td><td>NA</td><td>NA</td><td>  47:34</td></tr>\n",
       "\t<tr><td>Jesse Cherry          </td><td>Blowing Rock NC     </td><td>24</td><td>NA</td><td>NA</td><td>  47:40</td></tr>\n",
       "\t<tr><td>Ketema Nugusse        </td><td>Ethiopia            </td><td>31</td><td>NA</td><td>NA</td><td>  47:50</td></tr>\n",
       "</tbody>\n",
       "</table>\n"
      ],
      "text/latex": [
       "A matrix: 6 × 6 of type chr\n",
       "\\begin{tabular}{llllll}\n",
       " name & home & ag & gun & net & time\\\\\n",
       "\\hline\n",
       "\t Allan Kiprono          & Kenya                & 22 & NA & NA &   45:15\\\\\n",
       "\t Lani Kiplagat          & Kenya                & 23 & NA & NA &   46:28\\\\\n",
       "\t John Korir             & Kenya                & 36 & NA & NA &   47:33\\\\\n",
       "\t Ian Burrell            & Tucson AZ            & 27 & NA & NA &   47:34\\\\\n",
       "\t Jesse Cherry           & Blowing Rock NC      & 24 & NA & NA &   47:40\\\\\n",
       "\t Ketema Nugusse         & Ethiopia             & 31 & NA & NA &   47:50\\\\\n",
       "\\end{tabular}\n"
      ],
      "text/markdown": [
       "\n",
       "A matrix: 6 × 6 of type chr\n",
       "\n",
       "| name | home | ag | gun | net | time |\n",
       "|---|---|---|---|---|---|\n",
       "| Allan Kiprono          | Kenya                | 22 | NA | NA |   45:15 |\n",
       "| Lani Kiplagat          | Kenya                | 23 | NA | NA |   46:28 |\n",
       "| John Korir             | Kenya                | 36 | NA | NA |   47:33 |\n",
       "| Ian Burrell            | Tucson AZ            | 27 | NA | NA |   47:34 |\n",
       "| Jesse Cherry           | Blowing Rock NC      | 24 | NA | NA |   47:40 |\n",
       "| Ketema Nugusse         | Ethiopia             | 31 | NA | NA |   47:50 |\n",
       "\n"
      ],
      "text/plain": [
       "     name                   home                 ag gun net time   \n",
       "[1,] Allan Kiprono          Kenya                22 NA  NA    45:15\n",
       "[2,] Lani Kiplagat          Kenya                23 NA  NA    46:28\n",
       "[3,] John Korir             Kenya                36 NA  NA    47:33\n",
       "[4,] Ian Burrell            Tucson AZ            27 NA  NA    47:34\n",
       "[5,] Jesse Cherry           Blowing Rock NC      24 NA  NA    47:40\n",
       "[6,] Ketema Nugusse         Ethiopia             31 NA  NA    47:50"
      ]
     },
     "metadata": {},
     "output_type": "display_data"
    }
   ],
   "source": [
    "locCols = selectCols(shortColNames, headerRow, searchLocs)\n",
    "\n",
    "Values = mapply(substr, list(body), start = locCols[1, ], \n",
    "                stop = locCols[2, ])\n",
    "\n",
    "colnames(Values) = shortColNames\n",
    "head(Values)"
   ]
  },
  {
   "cell_type": "code",
   "execution_count": 24,
   "metadata": {},
   "outputs": [
    {
     "data": {
      "text/html": [
       "<table>\n",
       "<caption>A matrix: 6 × 3 of type chr</caption>\n",
       "<thead>\n",
       "\t<tr><th></th><th scope=col>name</th><th scope=col>home</th><th scope=col>ag</th></tr>\n",
       "</thead>\n",
       "<tbody>\n",
       "\t<tr><th scope=row>[7188,]</th><td>Dana Brown            </td><td>Randallstown MD     </td><td>41</td></tr>\n",
       "\t<tr><th scope=row>[7189,]</th><td>Jurek Grabowski       </td><td>Fairfax VA          </td><td>39</td></tr>\n",
       "\t<tr><th scope=row>[7190,]</th><td>Larry Hume            </td><td>Arlington VA        </td><td>56</td></tr>\n",
       "\t<tr><th scope=row>[7191,]</th><td>Sean-Patrick Alexander</td><td>Alexandria VA       </td><td>35</td></tr>\n",
       "\t<tr><th scope=row>[7192,]</th><td>Joseph White          </td><td>Forestville MD      </td><td>  </td></tr>\n",
       "\t<tr><th scope=row>[7193,]</th><td>Lee Jordan            </td><td>Herndon VA          </td><td>48</td></tr>\n",
       "</tbody>\n",
       "</table>\n"
      ],
      "text/latex": [
       "A matrix: 6 × 3 of type chr\n",
       "\\begin{tabular}{r|lll}\n",
       "  & name & home & ag\\\\\n",
       "\\hline\n",
       "\t{[}7188,{]} & Dana Brown             & Randallstown MD      & 41\\\\\n",
       "\t{[}7189,{]} & Jurek Grabowski        & Fairfax VA           & 39\\\\\n",
       "\t{[}7190,{]} & Larry Hume             & Arlington VA         & 56\\\\\n",
       "\t{[}7191,{]} & Sean-Patrick Alexander & Alexandria VA        & 35\\\\\n",
       "\t{[}7192,{]} & Joseph White           & Forestville MD       &   \\\\\n",
       "\t{[}7193,{]} & Lee Jordan             & Herndon VA           & 48\\\\\n",
       "\\end{tabular}\n"
      ],
      "text/markdown": [
       "\n",
       "A matrix: 6 × 3 of type chr\n",
       "\n",
       "| <!--/--> | name | home | ag |\n",
       "|---|---|---|---|\n",
       "| [7188,] | Dana Brown             | Randallstown MD      | 41 |\n",
       "| [7189,] | Jurek Grabowski        | Fairfax VA           | 39 |\n",
       "| [7190,] | Larry Hume             | Arlington VA         | 56 |\n",
       "| [7191,] | Sean-Patrick Alexander | Alexandria VA        | 35 |\n",
       "| [7192,] | Joseph White           | Forestville MD       | <!----> |\n",
       "| [7193,] | Lee Jordan             | Herndon VA           | 48 |\n",
       "\n"
      ],
      "text/plain": [
       "        name                   home                 ag\n",
       "[7188,] Dana Brown             Randallstown MD      41\n",
       "[7189,] Jurek Grabowski        Fairfax VA           39\n",
       "[7190,] Larry Hume             Arlington VA         56\n",
       "[7191,] Sean-Patrick Alexander Alexandria VA        35\n",
       "[7192,] Joseph White           Forestville MD         \n",
       "[7193,] Lee Jordan             Herndon VA           48"
      ]
     },
     "metadata": {},
     "output_type": "display_data"
    }
   ],
   "source": [
    "tail(Values)[ , 1:3]"
   ]
  },
  {
   "cell_type": "code",
   "execution_count": 34,
   "metadata": {},
   "outputs": [
    {
     "data": {
      "text/html": [
       "14"
      ],
      "text/latex": [
       "14"
      ],
      "text/markdown": [
       "14"
      ],
      "text/plain": [
       "[1] 14"
      ]
     },
     "metadata": {},
     "output_type": "display_data"
    }
   ],
   "source": [
    "extractVariables = \n",
    "  function(file, varNames =c(\"name\", \"home\", \"ag\", \"gun\",\n",
    "                             \"net\", \"time\"))\n",
    "{\n",
    "       # Find the index of the row with =s\n",
    "  eqIndex = grep(\"^===\", file)\n",
    "       # Extract the two key rows and the data\n",
    "  spacerRow = file[eqIndex] \n",
    "  headerRow = tolower(file[ eqIndex - 1 ])\n",
    "  body = file[ -(1 : eqIndex) ]\n",
    "       \n",
    "       # Obtain the starting and ending positions of variables\n",
    "  searchLocs = findColLocs(spacerRow)\n",
    "  locCols = selectCols(varNames, headerRow, searchLocs)\n",
    "\n",
    "  Values = mapply(substr, list(body), start = locCols[1, ], \n",
    "                  stop = locCols[2, ])\n",
    "  colnames(Values) = varNames\n",
    "  \n",
    "  invisible(Values)\n",
    "}\n",
    "\n",
    "mfilenames = paste(\"MenTxt/\", 1999:2012, \".txt\", sep = \"\")\n",
    "menFiles = lapply(mfilenames, readLines)\n",
    "names(menFiles) = 1999:2012\n",
    "\n",
    "menResMat = lapply(menFiles, extractVariables)\n",
    "length(menResMat)"
   ]
  },
  {
   "cell_type": "code",
   "execution_count": 28,
   "metadata": {},
   "outputs": [
    {
     "data": {
      "text/html": [
       "<dl class=dl-horizontal>\n",
       "\t<dt>1999</dt>\n",
       "\t\t<dd>3190</dd>\n",
       "\t<dt>2000</dt>\n",
       "\t\t<dd>3017</dd>\n",
       "\t<dt>2001</dt>\n",
       "\t\t<dd>3622</dd>\n",
       "\t<dt>2002</dt>\n",
       "\t\t<dd>3724</dd>\n",
       "\t<dt>2003</dt>\n",
       "\t\t<dd>3948</dd>\n",
       "\t<dt>2004</dt>\n",
       "\t\t<dd>4156</dd>\n",
       "\t<dt>2005</dt>\n",
       "\t\t<dd>4327</dd>\n",
       "\t<dt>2006</dt>\n",
       "\t\t<dd>5237</dd>\n",
       "\t<dt>2007</dt>\n",
       "\t\t<dd>5276</dd>\n",
       "\t<dt>2008</dt>\n",
       "\t\t<dd>5905</dd>\n",
       "\t<dt>2009</dt>\n",
       "\t\t<dd>6651</dd>\n",
       "\t<dt>2010</dt>\n",
       "\t\t<dd>6911</dd>\n",
       "\t<dt>2011</dt>\n",
       "\t\t<dd>7011</dd>\n",
       "\t<dt>2012</dt>\n",
       "\t\t<dd>7193</dd>\n",
       "</dl>\n"
      ],
      "text/latex": [
       "\\begin{description*}\n",
       "\\item[1999] 3190\n",
       "\\item[2000] 3017\n",
       "\\item[2001] 3622\n",
       "\\item[2002] 3724\n",
       "\\item[2003] 3948\n",
       "\\item[2004] 4156\n",
       "\\item[2005] 4327\n",
       "\\item[2006] 5237\n",
       "\\item[2007] 5276\n",
       "\\item[2008] 5905\n",
       "\\item[2009] 6651\n",
       "\\item[2010] 6911\n",
       "\\item[2011] 7011\n",
       "\\item[2012] 7193\n",
       "\\end{description*}\n"
      ],
      "text/markdown": [
       "1999\n",
       ":   31902000\n",
       ":   30172001\n",
       ":   36222002\n",
       ":   37242003\n",
       ":   39482004\n",
       ":   41562005\n",
       ":   43272006\n",
       ":   52372007\n",
       ":   52762008\n",
       ":   59052009\n",
       ":   66512010\n",
       ":   69112011\n",
       ":   70112012\n",
       ":   7193\n",
       "\n"
      ],
      "text/plain": [
       "1999 2000 2001 2002 2003 2004 2005 2006 2007 2008 2009 2010 2011 2012 \n",
       "3190 3017 3622 3724 3948 4156 4327 5237 5276 5905 6651 6911 7011 7193 "
      ]
     },
     "metadata": {},
     "output_type": "display_data"
    }
   ],
   "source": [
    "sapply(menResMat, nrow)"
   ]
  },
  {
   "cell_type": "code",
   "execution_count": 29,
   "metadata": {},
   "outputs": [
    {
     "data": {
      "text/html": [
       "<ol class=list-inline>\n",
       "\t<li>''</li>\n",
       "\t<li><span style=white-space:pre-wrap>'                                                                 '</span></li>\n",
       "\t<li><span style=white-space:pre-wrap>'                      '</span></li>\n",
       "\t<li><span style=white-space:pre-wrap>'    1  6002 Elana MEYER           34 Rep Of S.africa      52:15   52:16#'</span></li>\n",
       "\t<li><span style=white-space:pre-wrap>'    2  6004 Lydia GRIGORIEVA      27 Russia               53:12   53:15#'</span></li>\n",
       "</ol>\n"
      ],
      "text/latex": [
       "\\begin{enumerate*}\n",
       "\\item ''\n",
       "\\item '                                                                 '\n",
       "\\item '                      '\n",
       "\\item '    1  6002 Elana MEYER           34 Rep Of S.africa      52:15   52:16\\#'\n",
       "\\item '    2  6004 Lydia GRIGORIEVA      27 Russia               53:12   53:15\\#'\n",
       "\\end{enumerate*}\n"
      ],
      "text/markdown": [
       "1. ''\n",
       "2. <span style=white-space:pre-wrap>'                                                                 '</span>\n",
       "3. <span style=white-space:pre-wrap>'                      '</span>\n",
       "4. <span style=white-space:pre-wrap>'    1  6002 Elana MEYER           34 Rep Of S.africa      52:15   52:16#'</span>\n",
       "5. <span style=white-space:pre-wrap>'    2  6004 Lydia GRIGORIEVA      27 Russia               53:12   53:15#'</span>\n",
       "\n",
       "\n"
      ],
      "text/plain": [
       "[1] \"\"                                                                        \n",
       "[2] \"                                                                 \"       \n",
       "[3] \"                      \"                                                  \n",
       "[4] \"    1  6002 Elana MEYER           34 Rep Of S.africa      52:15   52:16#\"\n",
       "[5] \"    2  6004 Lydia GRIGORIEVA      27 Russia               53:12   53:15#\""
      ]
     },
     "metadata": {},
     "output_type": "display_data"
    },
    {
     "ename": "ERROR",
     "evalue": "Error in 1:eqIndex: argument of length 0\n",
     "output_type": "error",
     "traceback": [
      "Error in 1:eqIndex: argument of length 0\nTraceback:\n",
      "1. lapply(womenTables, extractVariables)",
      "2. FUN(X[[i]], ...)"
     ]
    }
   ],
   "source": [
    "#Do the same thing for the women's files - this code is from the website (not the book)\n",
    "\n",
    "wfilenames = paste(\"WomenTxt/\", 1999:2012, \".txt\", sep = \"\")\n",
    "womenTables = lapply(wfilenames, readLines)\n",
    "\n",
    "womenTables[[3]][1:5]\n",
    "\n",
    "names(womenTables) = 1999:2012\n",
    "womenResMat = lapply(womenTables, extractVariables)\n",
    "head(womenResMat[[3]], 10)\n",
    "tail(womenResMat[[3]], 10)"
   ]
  },
  {
   "cell_type": "code",
   "execution_count": null,
   "metadata": {},
   "outputs": [],
   "source": []
  },
  {
   "cell_type": "code",
   "execution_count": null,
   "metadata": {},
   "outputs": [],
   "source": []
  },
  {
   "cell_type": "code",
   "execution_count": null,
   "metadata": {},
   "outputs": [],
   "source": []
  },
  {
   "cell_type": "code",
   "execution_count": null,
   "metadata": {},
   "outputs": [],
   "source": []
  },
  {
   "cell_type": "code",
   "execution_count": null,
   "metadata": {},
   "outputs": [],
   "source": []
  },
  {
   "cell_type": "code",
   "execution_count": null,
   "metadata": {},
   "outputs": [],
   "source": [
    "#code still needing edit \n",
    "age = as.numeric(menResMat[['2012']][ , 'ag'])\n",
    "\n",
    "tail(age)\n",
    "\n",
    "age = sapply(menResMat,\n",
    "             function(x) as.numeric(x[ , 'ag']))\n",
    "\n",
    "\n",
    "pdf(\"CB_BoxplotAgeByYr.pdf\", width = 8, height = 5)\n",
    "oldPar = par(mar = c(4.1, 4.1, 1, 1))\n",
    "\n",
    "boxplot(age, ylab = \"Age\", xlab = \"Year\")\n",
    "\n",
    "par(oldPar)\n",
    "dev.off()\n",
    "\n",
    "head(menFiles[['2003']])\n",
    "\n",
    "menFiles[['2006']][2200:2205]\n",
    "\n",
    "selectCols = function(shortColNames, headerRow, searchLocs) {\n",
    "  sapply(shortColNames, function(shortName, headerRow, searchLocs){\n",
    "    startPos = regexpr(shortName, headerRow)[[1]]\n",
    "    if (startPos == -1) return( c(NA, NA) )\n",
    "    index = sum(startPos >= searchLocs)\n",
    "    c(searchLocs[index] + 1, searchLocs[index + 1])\n",
    "  }, headerRow = headerRow, searchLocs = searchLocs )\n",
    "}\n",
    "\n",
    "menResMat = lapply(menFiles, extractVariables)\n",
    "#womenResMat = lapply(womenFiles, extractVariables)\n",
    "\n",
    "age = sapply(menResMat, \n",
    "             function(x) as.numeric(x[ , 'ag']))\n",
    "\n",
    "pdf(\"CB_BoxplotAgeByYrRevised.pdf\", width = 8, height = 5)\n",
    "oldPar = par(mar = c(4.1, 4.1, 1, 1))\n",
    "boxplot(age, ylab = \"Age\", xlab = \"Year\")\n",
    "par(oldPar)\n",
    "dev.off()\n",
    "\n",
    "sapply(age,  function(x) sum(is.na(x)))\n",
    "\n",
    "age2001 = age[[\"2001\"]]\n",
    "\n",
    "grep(\"^===\", menFiles[['2001']])\n",
    "\n",
    "badAgeIndex = which(is.na(age2001)) + 5\n",
    "menFiles[['2001']][ badAgeIndex ]\n",
    " \n",
    "badAgeIndex\n",
    "       \n",
    "extractVariables = \n",
    "function(file, varNames =c(\"name\", \"home\", \"ag\", \"gun\",\n",
    "                           \"net\", \"time\"))\n",
    "{\n",
    "  \n",
    "  # Find the index of the row with =s\n",
    "  eqIndex = grep(\"^===\", file)\n",
    "  # Extract the two key rows and the data \n",
    "  spacerRow = file[eqIndex] \n",
    "  headerRow = tolower(file[ eqIndex - 1 ])\n",
    "  body = file[ -(1 : eqIndex) ]\n",
    "       # Remove footnotes and blank rows\n",
    "  footnotes = grep(\"^[[:blank:]]*(\\\\*|\\\\#)\", body)\n",
    "  if ( length(footnotes) > 0 ) body = body[ -footnotes ]\n",
    "  blanks = grep(\"^[[:blank:]]*$\", body)\n",
    "  if (length(blanks) > 0 ) body = body[ -blanks ]\n",
    "  \n",
    "  \n",
    "  # Obtain the starting and ending positions of variables   \n",
    "  searchLocs = findColLocs(spacerRow)\n",
    "  locCols = selectCols(varNames, headerRow, searchLocs)\n",
    "  \n",
    "  Values = mapply(substr, list(body), start = locCols[1, ], \n",
    "                  stop = locCols[2, ])\n",
    "  colnames(Values) = varNames\n",
    "  \n",
    "  return(Values)\n",
    "}\n",
    "\n",
    "menResMat = lapply(menFiles, extractVariables)\n",
    "#womenResMat = lapply(womenFiles, extractVariables\n",
    "       \n",
    "which(age2001 < 5)\n",
    "\n",
    "menFiles[['2001']][ which(age2001 < 5) + 5 ]\n",
    "\n",
    "charTime = menResMat[['2012']][, 'time']\n",
    "head(charTime, 5)\n",
    "\n",
    "tail(charTime, 5)\n",
    "\n",
    "timePieces = strsplit(charTime, \":\")\n",
    "\n",
    "timePieces[[1]]\n",
    "\n",
    "tail(timePieces, 1)\n",
    "\n",
    "timePieces = sapply(timePieces, as.numeric)\n",
    "\n",
    "runTime = sapply(timePieces, \n",
    "                 function(x) {\n",
    "                   if (length(x) == 2) x[1] + x[2]/60\n",
    "                   else 60*x[1] + x[2] + x[3]/60\n",
    "                 })\n",
    "\n",
    "summary(runTime)\n",
    "       \n",
    "convertTime = function(time) {\n",
    "  timePieces = strsplit(time, \":\")\n",
    "  timePieces = sapply(timePieces, as.numeric)\n",
    "  sapply(timePieces, function(x) {\n",
    "                      if (length(x) == 2) x[1] + x[2]/60\n",
    "                      else 60*x[1] + x[2] + x[3]/60\n",
    "                      })\n",
    "}\n",
    "\n",
    "createDF = function(Res, year, sex) \n",
    "{\n",
    "  # Determine which time to use\n",
    "  if ( !is.na(Res[1, 'net']) ) useTime = Res[ , 'net']\n",
    "  else if ( !is.na(Res[1, 'gun']) ) useTime = Res[ , 'gun']\n",
    "  else useTime = Res[ , 'time']\n",
    "  \n",
    "  # Remove # and * and blanks from time\n",
    "  useTime = gsub(\"[#\\\\*[:blank:]]\", \"\", useTime)\n",
    "  runTime = convertTime(useTime[ useTime != \"\" ])\n",
    "  \n",
    "  # Drop rows with no time\n",
    "  Res = Res[ useTime != \"\", ]\n",
    "  \n",
    "  Results = data.frame(year = rep(year, nrow(Res)),\n",
    "                       sex = rep(sex, nrow(Res)),\n",
    "                       name = Res[ , 'name'], home = Res[ , 'home'],\n",
    "                       age = as.numeric(Res[, 'ag']), \n",
    "                       runTime = runTime,\n",
    "                       stringsAsFactors = FALSE)\n",
    "  invisible(Results)\n",
    "}\n",
    "\n",
    "menDF = mapply(createDF, menResMat, year = 1999:2012,\n",
    "               sex = rep(\"M\", 14), SIMPLIFY = FALSE)\n",
    "\n",
    "warnings()[ c(1:2, 49:50) ]\n",
    "\n",
    "sapply(menDF, function(x) sum(is.na(x$runTime)))\n",
    "       \n",
    "separatorIdx = grep(\"^===\", menFiles[[\"2006\"]])\n",
    "separatorRow = menFiles[['2006']][separatorIdx]\n",
    "separatorRowX = paste(substring(separatorRow, 1, 63), \" \", \n",
    "                      substring(separatorRow, 65, nchar(separatorRow)), \n",
    "                      sep = \"\")\n",
    "menFiles[['2006']][separatorIdx] = separatorRowX\n",
    "\n",
    "menResMat = sapply(menFiles, extractVariables)\n",
    "menDF = mapply(createDF, menResMat, year = 1999:2012,\n",
    "               sex = rep(\"M\", 14), SIMPLIFY = FALSE)\n",
    "\n",
    "#separatorIdx = grep(\"^===\", womenFiles[[\"2006\"]])\n",
    "#separatorRow = womenFiles[['2006']][separatorIdx]\n",
    "#separatorRowX = paste(substring(separatorRow, 1, 63), \" \", \n",
    "#                      substring(separatorRow, 65, nchar(separatorRow)), \n",
    "#                      sep = \"\")\n",
    "#womenFiles[['2006']][separatorIdx] = separatorRowX\n",
    "\n",
    "#womenResMat = sapply(womenFiles, extractVariables)\n",
    "#womenDF = mapply(createDF, womenResMat, year = 1999:2012,\n",
    "#               sex = rep(\"W\", 14), SIMPLIFY = FALSE)\n",
    "\n",
    "pdf(\"CB_BoxplotTimeByYr.pdf\", width = 8, height = 5)\n",
    "boxplot(sapply(menDF, function(x) x$runTime), \n",
    "        xlab = \"Year\", ylab = \"Run Time (min)\")\n",
    "dev.off()\n",
    "\n",
    "cbMen = do.call(rbind, menDF)\n",
    "save(cbMen, file = \"cbMen.rda\")\n",
    "\n",
    "dim(cbMen)"
   ]
  }
 ],
 "metadata": {
  "kernelspec": {
   "display_name": "R",
   "language": "R",
   "name": "ir"
  },
  "language_info": {
   "codemirror_mode": "r",
   "file_extension": ".r",
   "mimetype": "text/x-r-source",
   "name": "R",
   "pygments_lexer": "r",
   "version": "3.5.1"
  }
 },
 "nbformat": 4,
 "nbformat_minor": 2
}
