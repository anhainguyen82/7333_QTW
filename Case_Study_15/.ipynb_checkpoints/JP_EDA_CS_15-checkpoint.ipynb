{
 "cells": [
  {
   "cell_type": "code",
   "execution_count": 1,
   "metadata": {},
   "outputs": [],
   "source": [
    "import tkinter\n",
    "import matplotlib\n",
    "matplotlib.use('TkAgg')\n",
    "import matplotlib.pyplot as plt\n",
    "#import tensorflow as tf\n",
    "#from tensorflow.keras import layers\n",
    "#from tensorflow.keras import metrics\n",
    "from sklearn import datasets\n",
    "import pandas as pd\n",
    "import numpy as np\n",
    "import pandas_profiling as pp\n",
    "import re"
   ]
  },
  {
   "cell_type": "markdown",
   "metadata": {},
   "source": [
    "## Load and Clean Data"
   ]
  },
  {
   "cell_type": "code",
   "execution_count": 2,
   "metadata": {},
   "outputs": [
    {
     "name": "stdout",
     "output_type": "stream",
     "text": [
      "160000\n"
     ]
    }
   ],
   "source": [
    "# Read in CSV\n",
    "df = pd.read_csv(\"final_project.csv\")\n",
    "print(len(df))"
   ]
  },
  {
   "cell_type": "code",
   "execution_count": 3,
   "metadata": {},
   "outputs": [],
   "source": [
    "# Rename obvious columns\n",
    "df.rename(columns={'x24': 'continent', 'x29': 'month', 'x30': 'day'}, inplace = True)\n",
    "#list(df.columns) "
   ]
  },
  {
   "cell_type": "code",
   "execution_count": 4,
   "metadata": {},
   "outputs": [
    {
     "name": "stdout",
     "output_type": "stream",
     "text": [
      "['europe' 'asia' 'america' 'other']\n",
      "['7' '8' '6' '5' '9' '4' '11' '10' '0' '3' '2' '12' '1']\n",
      "['tuesday' 'wednesday' 'thursday' 'monday' 'friday' 'other']\n"
     ]
    }
   ],
   "source": [
    "# Correct misspellings and standardize values in labeled columns\n",
    "df['continent'].replace('euorpe', 'europe',inplace=True)\n",
    "df['month'].replace('Dev', '12',inplace=True)\n",
    "df['month'].replace('Aug', '8',inplace=True)\n",
    "df['month'].replace('Jun', '6',inplace=True)\n",
    "df['month'].replace('Apr', '4',inplace=True)\n",
    "df['month'].replace('Nov', '11',inplace=True)\n",
    "df['month'].replace('sept.', '9',inplace=True)\n",
    "df['month'].replace('Oct', '10',inplace=True)\n",
    "df['month'].replace('Mar', '3',inplace=True)\n",
    "df['month'].replace('January', '1',inplace=True)\n",
    "df['month'].replace('Feb', '2',inplace=True)\n",
    "df['month'].replace('May', '5',inplace=True)\n",
    "df['month'].replace('July', '7',inplace=True)\n",
    "df['month'].replace('December', '12',inplace=True)\n",
    "df['month'].replace('August', '8',inplace=True)\n",
    "df['month'].replace('June', '6',inplace=True)\n",
    "df['month'].replace('April', '4',inplace=True)\n",
    "df['month'].replace('November', '11',inplace=True)\n",
    "df['month'].replace('September', '9',inplace=True)\n",
    "df['month'].replace('October', '10',inplace=True)\n",
    "df['month'].replace('March', '3',inplace=True)\n",
    "df['day'].replace('thurday', 'thursday',inplace=True)\n",
    "\n",
    "\n",
    "# Fill NA with 'other' in labeled columns\n",
    "df['continent'] = df['continent'].fillna('other')\n",
    "df['month'] = df['month'].fillna('other')\n",
    "df['day'] = df['day'].fillna('other')\n",
    "df['month'].replace('other','0', inplace=True)\n",
    "\n",
    "# check unique values in labeled columns\n",
    "print (df['continent'].unique())\n",
    "print (df['month'].unique())\n",
    "print (df['day'].unique())"
   ]
  },
  {
   "cell_type": "code",
   "execution_count": 5,
   "metadata": {},
   "outputs": [],
   "source": [
    "# initialize temp for x37 column\n",
    "temp_x37 = []\n",
    "\n",
    "# Remove $ ) , characters and replace '(' with '-' \n",
    "for i in range (0,len(df)) :\n",
    "    try :\n",
    "        n = df['x37'][i]\n",
    "        nstr = re.sub(r'[$|,|)]',r'', n)\n",
    "        nstr = re.sub(r'[(]',r'-',nstr)\n",
    "        #nstr= float(nstr)\n",
    "        temp_x37.append(nstr)\n",
    "    except :\n",
    "        nstr = ''\n",
    "        temp_x37.append(nstr)"
   ]
  },
  {
   "cell_type": "code",
   "execution_count": 6,
   "metadata": {},
   "outputs": [
    {
     "name": "stdout",
     "output_type": "stream",
     "text": [
      "160000\n",
      "160000\n"
     ]
    },
    {
     "data": {
      "text/plain": [
       "0         1313.96\n",
       "1         1962.78\n",
       "2          430.47\n",
       "3        -2366.29\n",
       "4         -620.66\n",
       "           ...   \n",
       "159995    -891.96\n",
       "159996    1588.65\n",
       "159997     687.46\n",
       "159998     439.21\n",
       "159999   -1229.34\n",
       "Name: x37, Length: 160000, dtype: float64"
      ]
     },
     "execution_count": 6,
     "metadata": {},
     "output_type": "execute_result"
    }
   ],
   "source": [
    "# Verify len of both x37 matches\n",
    "print(len(df['x37']))\n",
    "print(len(temp_x37))\n",
    "\n",
    "# Replace 'x37' with new values and convert to numeric\n",
    "df['x37'] = temp_x37\n",
    "df[\"x37\"] = pd.to_numeric(df[\"x37\"])\n",
    "df['x37']"
   ]
  },
  {
   "cell_type": "code",
   "execution_count": 7,
   "metadata": {},
   "outputs": [
    {
     "name": "stdout",
     "output_type": "stream",
     "text": [
      "asia length is 138965\n",
      "america length is 4469\n",
      "europe length is 16538\n",
      "other length is 28\n"
     ]
    }
   ],
   "source": [
    "# Subsetting data set by continent and print length of each\n",
    "cont = ['asia', 'america','europe', 'other']\n",
    "\n",
    "for n in cont :\n",
    "    temp = df['continent'] == n\n",
    "    df_temp = df[temp]\n",
    "    #df_[n] = df_temp\n",
    "    print (n, 'length is', len(df_temp))\n",
    "\n",
    "# Subsetting by continent    \n",
    "is_asia = df['continent']=='asia'\n",
    "df_asia = df[is_asia]\n",
    "\n",
    "is_europe = df['continent']=='europe'\n",
    "df_europe = df[is_europe]\n",
    "\n",
    "is_america = df['continent']=='america'\n",
    "df_america = df[is_america]\n",
    "\n",
    "is_other = df['continent']=='other'\n",
    "df_other = df[is_other]"
   ]
  },
  {
   "cell_type": "markdown",
   "metadata": {},
   "source": [
    "## Explore Data"
   ]
  },
  {
   "cell_type": "code",
   "execution_count": 8,
   "metadata": {},
   "outputs": [],
   "source": [
    "#Create new column for sum of all rows\n",
    "df['Total']=df[['x0','x1','x2','x3','x4','x5','x6','x7','x8','x9','x10','x11','x12','x13','x14','x15','x16','x17','x18','x19','x20','x21','x22','x23','x25','x26','x27','x28','x31','x33','x34','x35','x36','x38','x39','x40','x41','x42','x43','x44','x45','x46','x47','x48','x49']].sum(axis=1)"
   ]
  },
  {
   "cell_type": "code",
   "execution_count": 9,
   "metadata": {},
   "outputs": [
    {
     "data": {
      "text/html": [
       "<div>\n",
       "<style scoped>\n",
       "    .dataframe tbody tr th:only-of-type {\n",
       "        vertical-align: middle;\n",
       "    }\n",
       "\n",
       "    .dataframe tbody tr th {\n",
       "        vertical-align: top;\n",
       "    }\n",
       "\n",
       "    .dataframe thead th {\n",
       "        text-align: right;\n",
       "    }\n",
       "</style>\n",
       "<table border=\"1\" class=\"dataframe\">\n",
       "  <thead>\n",
       "    <tr style=\"text-align: right;\">\n",
       "      <th></th>\n",
       "      <th>x0</th>\n",
       "      <th>x1</th>\n",
       "      <th>x2</th>\n",
       "      <th>x3</th>\n",
       "      <th>x4</th>\n",
       "      <th>x5</th>\n",
       "      <th>x6</th>\n",
       "      <th>x7</th>\n",
       "      <th>x8</th>\n",
       "      <th>x9</th>\n",
       "      <th>...</th>\n",
       "      <th>x42</th>\n",
       "      <th>x43</th>\n",
       "      <th>x44</th>\n",
       "      <th>x45</th>\n",
       "      <th>x46</th>\n",
       "      <th>x47</th>\n",
       "      <th>x48</th>\n",
       "      <th>x49</th>\n",
       "      <th>y</th>\n",
       "      <th>Total</th>\n",
       "    </tr>\n",
       "  </thead>\n",
       "  <tbody>\n",
       "    <tr>\n",
       "      <th>0</th>\n",
       "      <td>-0.166563</td>\n",
       "      <td>-3.961588</td>\n",
       "      <td>4.621113</td>\n",
       "      <td>2.481908</td>\n",
       "      <td>-1.800135</td>\n",
       "      <td>0.804684</td>\n",
       "      <td>6.718751</td>\n",
       "      <td>-14.789997</td>\n",
       "      <td>-1.040673</td>\n",
       "      <td>-4.204950</td>\n",
       "      <td>...</td>\n",
       "      <td>5.414063</td>\n",
       "      <td>-2.325655</td>\n",
       "      <td>1.674827</td>\n",
       "      <td>-0.264332</td>\n",
       "      <td>60.781427</td>\n",
       "      <td>-7.689696</td>\n",
       "      <td>0.151589</td>\n",
       "      <td>-8.040166</td>\n",
       "      <td>0</td>\n",
       "      <td>39.629492</td>\n",
       "    </tr>\n",
       "    <tr>\n",
       "      <th>1</th>\n",
       "      <td>-0.149894</td>\n",
       "      <td>-0.585676</td>\n",
       "      <td>27.839856</td>\n",
       "      <td>4.152333</td>\n",
       "      <td>6.426802</td>\n",
       "      <td>-2.426943</td>\n",
       "      <td>40.477058</td>\n",
       "      <td>-6.725709</td>\n",
       "      <td>0.896421</td>\n",
       "      <td>0.330165</td>\n",
       "      <td>...</td>\n",
       "      <td>4.490915</td>\n",
       "      <td>0.762561</td>\n",
       "      <td>6.526662</td>\n",
       "      <td>1.007927</td>\n",
       "      <td>15.805696</td>\n",
       "      <td>-4.896678</td>\n",
       "      <td>-0.320283</td>\n",
       "      <td>16.719974</td>\n",
       "      <td>0</td>\n",
       "      <td>149.249956</td>\n",
       "    </tr>\n",
       "    <tr>\n",
       "      <th>2</th>\n",
       "      <td>-0.321707</td>\n",
       "      <td>-1.429819</td>\n",
       "      <td>12.251561</td>\n",
       "      <td>6.586874</td>\n",
       "      <td>-5.304647</td>\n",
       "      <td>-11.311090</td>\n",
       "      <td>17.812850</td>\n",
       "      <td>11.060572</td>\n",
       "      <td>5.325880</td>\n",
       "      <td>-2.632984</td>\n",
       "      <td>...</td>\n",
       "      <td>9.088864</td>\n",
       "      <td>-0.689886</td>\n",
       "      <td>-2.731118</td>\n",
       "      <td>0.754200</td>\n",
       "      <td>30.856417</td>\n",
       "      <td>-7.428573</td>\n",
       "      <td>-2.090804</td>\n",
       "      <td>-7.869421</td>\n",
       "      <td>0</td>\n",
       "      <td>56.054797</td>\n",
       "    </tr>\n",
       "  </tbody>\n",
       "</table>\n",
       "<p>3 rows × 52 columns</p>\n",
       "</div>"
      ],
      "text/plain": [
       "         x0        x1         x2        x3        x4         x5         x6  \\\n",
       "0 -0.166563 -3.961588   4.621113  2.481908 -1.800135   0.804684   6.718751   \n",
       "1 -0.149894 -0.585676  27.839856  4.152333  6.426802  -2.426943  40.477058   \n",
       "2 -0.321707 -1.429819  12.251561  6.586874 -5.304647 -11.311090  17.812850   \n",
       "\n",
       "          x7        x8        x9  ...       x42       x43       x44       x45  \\\n",
       "0 -14.789997 -1.040673 -4.204950  ...  5.414063 -2.325655  1.674827 -0.264332   \n",
       "1  -6.725709  0.896421  0.330165  ...  4.490915  0.762561  6.526662  1.007927   \n",
       "2  11.060572  5.325880 -2.632984  ...  9.088864 -0.689886 -2.731118  0.754200   \n",
       "\n",
       "         x46       x47       x48        x49  y       Total  \n",
       "0  60.781427 -7.689696  0.151589  -8.040166  0   39.629492  \n",
       "1  15.805696 -4.896678 -0.320283  16.719974  0  149.249956  \n",
       "2  30.856417 -7.428573 -2.090804  -7.869421  0   56.054797  \n",
       "\n",
       "[3 rows x 52 columns]"
      ]
     },
     "execution_count": 9,
     "metadata": {},
     "output_type": "execute_result"
    }
   ],
   "source": [
    "df.head(3)"
   ]
  },
  {
   "cell_type": "markdown",
   "metadata": {},
   "source": [
    "## Trial 2"
   ]
  },
  {
   "cell_type": "code",
   "execution_count": 10,
   "metadata": {},
   "outputs": [
    {
     "name": "stderr",
     "output_type": "stream",
     "text": [
      "C:\\Users\\jodip\\Anaconda3\\envs\\QTWFinal\\lib\\site-packages\\pandas\\core\\generic.py:5209: SettingWithCopyWarning: \n",
      "A value is trying to be set on a copy of a slice from a DataFrame.\n",
      "Try using .loc[row_indexer,col_indexer] = value instead\n",
      "\n",
      "See the caveats in the documentation: http://pandas.pydata.org/pandas-docs/stable/user_guide/indexing.html#returning-a-view-versus-a-copy\n",
      "  self[name] = value\n"
     ]
    }
   ],
   "source": [
    "newdf=df[['continent', 'month', 'day', 'x32', 'x37', 'y', 'Total']]\n",
    "newdf.x32=newdf.x32.str.rstrip('%').astype('float')/100.0\n",
    "newdf.month=newdf.month.astype('str').astype('int')"
   ]
  },
  {
   "cell_type": "code",
   "execution_count": 11,
   "metadata": {},
   "outputs": [
    {
     "name": "stdout",
     "output_type": "stream",
     "text": [
      "<class 'pandas.core.frame.DataFrame'>\n",
      "RangeIndex: 160000 entries, 0 to 159999\n",
      "Data columns (total 7 columns):\n",
      "continent    160000 non-null object\n",
      "month        160000 non-null int32\n",
      "day          160000 non-null object\n",
      "x32          159969 non-null float64\n",
      "x37          159977 non-null float64\n",
      "y            160000 non-null int64\n",
      "Total        160000 non-null float64\n",
      "dtypes: float64(3), int32(1), int64(1), object(2)\n",
      "memory usage: 7.9+ MB\n"
     ]
    }
   ],
   "source": [
    "newdf.info()"
   ]
  },
  {
   "cell_type": "code",
   "execution_count": 14,
   "metadata": {
    "collapsed": true
   },
   "outputs": [
    {
     "data": {
      "text/html": [
       "<div>\n",
       "<style scoped>\n",
       "    .dataframe tbody tr th:only-of-type {\n",
       "        vertical-align: middle;\n",
       "    }\n",
       "\n",
       "    .dataframe tbody tr th {\n",
       "        vertical-align: top;\n",
       "    }\n",
       "\n",
       "    .dataframe thead th {\n",
       "        text-align: right;\n",
       "    }\n",
       "</style>\n",
       "<table border=\"1\" class=\"dataframe\">\n",
       "  <thead>\n",
       "    <tr style=\"text-align: right;\">\n",
       "      <th></th>\n",
       "      <th>month</th>\n",
       "      <th>x32</th>\n",
       "      <th>x37</th>\n",
       "      <th>y</th>\n",
       "      <th>Total</th>\n",
       "    </tr>\n",
       "  </thead>\n",
       "  <tbody>\n",
       "    <tr>\n",
       "      <th>month</th>\n",
       "      <td>1.000000</td>\n",
       "      <td>-0.002892</td>\n",
       "      <td>0.001102</td>\n",
       "      <td>-0.000853</td>\n",
       "      <td>0.003646</td>\n",
       "    </tr>\n",
       "    <tr>\n",
       "      <th>x32</th>\n",
       "      <td>-0.002892</td>\n",
       "      <td>1.000000</td>\n",
       "      <td>-0.325329</td>\n",
       "      <td>-0.005803</td>\n",
       "      <td>-0.330493</td>\n",
       "    </tr>\n",
       "    <tr>\n",
       "      <th>x37</th>\n",
       "      <td>0.001102</td>\n",
       "      <td>-0.325329</td>\n",
       "      <td>1.000000</td>\n",
       "      <td>0.055002</td>\n",
       "      <td>0.612699</td>\n",
       "    </tr>\n",
       "    <tr>\n",
       "      <th>y</th>\n",
       "      <td>-0.000853</td>\n",
       "      <td>-0.005803</td>\n",
       "      <td>0.055002</td>\n",
       "      <td>1.000000</td>\n",
       "      <td>0.054696</td>\n",
       "    </tr>\n",
       "    <tr>\n",
       "      <th>Total</th>\n",
       "      <td>0.003646</td>\n",
       "      <td>-0.330493</td>\n",
       "      <td>0.612699</td>\n",
       "      <td>0.054696</td>\n",
       "      <td>1.000000</td>\n",
       "    </tr>\n",
       "  </tbody>\n",
       "</table>\n",
       "</div>"
      ],
      "text/plain": [
       "          month       x32       x37         y     Total\n",
       "month  1.000000 -0.002892  0.001102 -0.000853  0.003646\n",
       "x32   -0.002892  1.000000 -0.325329 -0.005803 -0.330493\n",
       "x37    0.001102 -0.325329  1.000000  0.055002  0.612699\n",
       "y     -0.000853 -0.005803  0.055002  1.000000  0.054696\n",
       "Total  0.003646 -0.330493  0.612699  0.054696  1.000000"
      ]
     },
     "execution_count": 14,
     "metadata": {},
     "output_type": "execute_result"
    }
   ],
   "source": [
    "newdf.corr(method='pearson')"
   ]
  },
  {
   "cell_type": "code",
   "execution_count": 22,
   "metadata": {
    "collapsed": true
   },
   "outputs": [
    {
     "name": "stderr",
     "output_type": "stream",
     "text": [
      "C:\\Users\\jodip\\Anaconda3\\envs\\QTWFinal\\lib\\site-packages\\ipykernel_launcher.py:1: SettingWithCopyWarning: \n",
      "A value is trying to be set on a copy of a slice from a DataFrame.\n",
      "Try using .loc[row_indexer,col_indexer] = value instead\n",
      "\n",
      "See the caveats in the documentation: http://pandas.pydata.org/pandas-docs/stable/user_guide/indexing.html#returning-a-view-versus-a-copy\n",
      "  \"\"\"Entry point for launching an IPython kernel.\n"
     ]
    },
    {
     "data": {
      "text/html": [
       "<div>\n",
       "<style scoped>\n",
       "    .dataframe tbody tr th:only-of-type {\n",
       "        vertical-align: middle;\n",
       "    }\n",
       "\n",
       "    .dataframe tbody tr th {\n",
       "        vertical-align: top;\n",
       "    }\n",
       "\n",
       "    .dataframe thead th {\n",
       "        text-align: right;\n",
       "    }\n",
       "</style>\n",
       "<table border=\"1\" class=\"dataframe\">\n",
       "  <thead>\n",
       "    <tr style=\"text-align: right;\">\n",
       "      <th></th>\n",
       "      <th>continent</th>\n",
       "      <th>month</th>\n",
       "      <th>day</th>\n",
       "      <th>x32</th>\n",
       "      <th>x37</th>\n",
       "      <th>y</th>\n",
       "      <th>Total</th>\n",
       "      <th>CalculatedTotal</th>\n",
       "    </tr>\n",
       "  </thead>\n",
       "  <tbody>\n",
       "    <tr>\n",
       "      <th>30306</th>\n",
       "      <td>asia</td>\n",
       "      <td>8</td>\n",
       "      <td>wednesday</td>\n",
       "      <td>-0.0000</td>\n",
       "      <td>-333.86</td>\n",
       "      <td>0</td>\n",
       "      <td>-77.177412</td>\n",
       "      <td>-411.037412</td>\n",
       "    </tr>\n",
       "    <tr>\n",
       "      <th>69534</th>\n",
       "      <td>asia</td>\n",
       "      <td>6</td>\n",
       "      <td>thursday</td>\n",
       "      <td>0.0002</td>\n",
       "      <td>-16.67</td>\n",
       "      <td>1</td>\n",
       "      <td>13.230826</td>\n",
       "      <td>-3.439174</td>\n",
       "    </tr>\n",
       "    <tr>\n",
       "      <th>35719</th>\n",
       "      <td>asia</td>\n",
       "      <td>9</td>\n",
       "      <td>tuesday</td>\n",
       "      <td>-0.0001</td>\n",
       "      <td>74.31</td>\n",
       "      <td>0</td>\n",
       "      <td>29.701826</td>\n",
       "      <td>104.011826</td>\n",
       "    </tr>\n",
       "  </tbody>\n",
       "</table>\n",
       "</div>"
      ],
      "text/plain": [
       "      continent  month        day     x32     x37  y      Total  \\\n",
       "30306      asia      8  wednesday -0.0000 -333.86  0 -77.177412   \n",
       "69534      asia      6   thursday  0.0002  -16.67  1  13.230826   \n",
       "35719      asia      9    tuesday -0.0001   74.31  0  29.701826   \n",
       "\n",
       "       CalculatedTotal  \n",
       "30306      -411.037412  \n",
       "69534        -3.439174  \n",
       "35719       104.011826  "
      ]
     },
     "execution_count": 22,
     "metadata": {},
     "output_type": "execute_result"
    }
   ],
   "source": [
    "newdf['CalculatedTotal']=newdf.x37+newdf.Total\n",
    "newdf.sample(3)"
   ]
  },
  {
   "cell_type": "code",
   "execution_count": 23,
   "metadata": {
    "collapsed": true
   },
   "outputs": [
    {
     "data": {
      "text/html": [
       "<div>\n",
       "<style scoped>\n",
       "    .dataframe tbody tr th:only-of-type {\n",
       "        vertical-align: middle;\n",
       "    }\n",
       "\n",
       "    .dataframe tbody tr th {\n",
       "        vertical-align: top;\n",
       "    }\n",
       "\n",
       "    .dataframe thead th {\n",
       "        text-align: right;\n",
       "    }\n",
       "</style>\n",
       "<table border=\"1\" class=\"dataframe\">\n",
       "  <thead>\n",
       "    <tr style=\"text-align: right;\">\n",
       "      <th></th>\n",
       "      <th>month</th>\n",
       "      <th>x32</th>\n",
       "      <th>x37</th>\n",
       "      <th>y</th>\n",
       "      <th>Total</th>\n",
       "      <th>CalculatedTotal</th>\n",
       "    </tr>\n",
       "  </thead>\n",
       "  <tbody>\n",
       "    <tr>\n",
       "      <th>month</th>\n",
       "      <td>1.000000</td>\n",
       "      <td>-0.002892</td>\n",
       "      <td>0.001102</td>\n",
       "      <td>-0.000853</td>\n",
       "      <td>0.003646</td>\n",
       "      <td>0.001312</td>\n",
       "    </tr>\n",
       "    <tr>\n",
       "      <th>x32</th>\n",
       "      <td>-0.002892</td>\n",
       "      <td>1.000000</td>\n",
       "      <td>-0.325329</td>\n",
       "      <td>-0.005803</td>\n",
       "      <td>-0.330493</td>\n",
       "      <td>-0.334341</td>\n",
       "    </tr>\n",
       "    <tr>\n",
       "      <th>x37</th>\n",
       "      <td>0.001102</td>\n",
       "      <td>-0.325329</td>\n",
       "      <td>1.000000</td>\n",
       "      <td>0.055002</td>\n",
       "      <td>0.612699</td>\n",
       "      <td>0.998342</td>\n",
       "    </tr>\n",
       "    <tr>\n",
       "      <th>y</th>\n",
       "      <td>-0.000853</td>\n",
       "      <td>-0.005803</td>\n",
       "      <td>0.055002</td>\n",
       "      <td>1.000000</td>\n",
       "      <td>0.054696</td>\n",
       "      <td>0.056439</td>\n",
       "    </tr>\n",
       "    <tr>\n",
       "      <th>Total</th>\n",
       "      <td>0.003646</td>\n",
       "      <td>-0.330493</td>\n",
       "      <td>0.612699</td>\n",
       "      <td>0.054696</td>\n",
       "      <td>1.000000</td>\n",
       "      <td>0.657168</td>\n",
       "    </tr>\n",
       "    <tr>\n",
       "      <th>CalculatedTotal</th>\n",
       "      <td>0.001312</td>\n",
       "      <td>-0.334341</td>\n",
       "      <td>0.998342</td>\n",
       "      <td>0.056439</td>\n",
       "      <td>0.657168</td>\n",
       "      <td>1.000000</td>\n",
       "    </tr>\n",
       "  </tbody>\n",
       "</table>\n",
       "</div>"
      ],
      "text/plain": [
       "                    month       x32       x37         y     Total  \\\n",
       "month            1.000000 -0.002892  0.001102 -0.000853  0.003646   \n",
       "x32             -0.002892  1.000000 -0.325329 -0.005803 -0.330493   \n",
       "x37              0.001102 -0.325329  1.000000  0.055002  0.612699   \n",
       "y               -0.000853 -0.005803  0.055002  1.000000  0.054696   \n",
       "Total            0.003646 -0.330493  0.612699  0.054696  1.000000   \n",
       "CalculatedTotal  0.001312 -0.334341  0.998342  0.056439  0.657168   \n",
       "\n",
       "                 CalculatedTotal  \n",
       "month                   0.001312  \n",
       "x32                    -0.334341  \n",
       "x37                     0.998342  \n",
       "y                       0.056439  \n",
       "Total                   0.657168  \n",
       "CalculatedTotal         1.000000  "
      ]
     },
     "execution_count": 23,
     "metadata": {},
     "output_type": "execute_result"
    }
   ],
   "source": [
    "newdf.corr(method='pearson')"
   ]
  },
  {
   "cell_type": "code",
   "execution_count": 29,
   "metadata": {
    "collapsed": true
   },
   "outputs": [
    {
     "name": "stderr",
     "output_type": "stream",
     "text": [
      "C:\\Users\\jodip\\Anaconda3\\envs\\QTWFinal\\lib\\site-packages\\ipykernel_launcher.py:1: SettingWithCopyWarning: \n",
      "A value is trying to be set on a copy of a slice from a DataFrame.\n",
      "Try using .loc[row_indexer,col_indexer] = value instead\n",
      "\n",
      "See the caveats in the documentation: http://pandas.pydata.org/pandas-docs/stable/user_guide/indexing.html#returning-a-view-versus-a-copy\n",
      "  \"\"\"Entry point for launching an IPython kernel.\n"
     ]
    },
    {
     "data": {
      "text/html": [
       "<div>\n",
       "<style scoped>\n",
       "    .dataframe tbody tr th:only-of-type {\n",
       "        vertical-align: middle;\n",
       "    }\n",
       "\n",
       "    .dataframe tbody tr th {\n",
       "        vertical-align: top;\n",
       "    }\n",
       "\n",
       "    .dataframe thead th {\n",
       "        text-align: right;\n",
       "    }\n",
       "</style>\n",
       "<table border=\"1\" class=\"dataframe\">\n",
       "  <thead>\n",
       "    <tr style=\"text-align: right;\">\n",
       "      <th></th>\n",
       "      <th>continent</th>\n",
       "      <th>month</th>\n",
       "      <th>day</th>\n",
       "      <th>x32</th>\n",
       "      <th>x37</th>\n",
       "      <th>y</th>\n",
       "      <th>Total</th>\n",
       "      <th>CalculatedTotal</th>\n",
       "      <th>37TotalPerc</th>\n",
       "      <th>MultPer</th>\n",
       "    </tr>\n",
       "  </thead>\n",
       "  <tbody>\n",
       "    <tr>\n",
       "      <th>0</th>\n",
       "      <td>europe</td>\n",
       "      <td>7</td>\n",
       "      <td>tuesday</td>\n",
       "      <td>0.0000</td>\n",
       "      <td>1313.96</td>\n",
       "      <td>0</td>\n",
       "      <td>39.629492</td>\n",
       "      <td>1353.589492</td>\n",
       "      <td>0.030160</td>\n",
       "      <td>0.000000</td>\n",
       "    </tr>\n",
       "    <tr>\n",
       "      <th>1</th>\n",
       "      <td>asia</td>\n",
       "      <td>8</td>\n",
       "      <td>wednesday</td>\n",
       "      <td>-0.0002</td>\n",
       "      <td>1962.78</td>\n",
       "      <td>0</td>\n",
       "      <td>149.249956</td>\n",
       "      <td>2112.029956</td>\n",
       "      <td>0.076040</td>\n",
       "      <td>-0.422406</td>\n",
       "    </tr>\n",
       "    <tr>\n",
       "      <th>2</th>\n",
       "      <td>asia</td>\n",
       "      <td>7</td>\n",
       "      <td>wednesday</td>\n",
       "      <td>-0.0001</td>\n",
       "      <td>430.47</td>\n",
       "      <td>0</td>\n",
       "      <td>56.054797</td>\n",
       "      <td>486.524797</td>\n",
       "      <td>0.130218</td>\n",
       "      <td>-0.048652</td>\n",
       "    </tr>\n",
       "  </tbody>\n",
       "</table>\n",
       "</div>"
      ],
      "text/plain": [
       "  continent  month        day     x32      x37  y       Total  \\\n",
       "0    europe      7    tuesday  0.0000  1313.96  0   39.629492   \n",
       "1      asia      8  wednesday -0.0002  1962.78  0  149.249956   \n",
       "2      asia      7  wednesday -0.0001   430.47  0   56.054797   \n",
       "\n",
       "   CalculatedTotal  37TotalPerc   MultPer  \n",
       "0      1353.589492     0.030160  0.000000  \n",
       "1      2112.029956     0.076040 -0.422406  \n",
       "2       486.524797     0.130218 -0.048652  "
      ]
     },
     "execution_count": 29,
     "metadata": {},
     "output_type": "execute_result"
    }
   ],
   "source": [
    "newdf['37TotalPerc']=newdf['Total']/newdf['x37']\n",
    "newdf.head(3)"
   ]
  },
  {
   "cell_type": "code",
   "execution_count": 25,
   "metadata": {
    "collapsed": true
   },
   "outputs": [
    {
     "data": {
      "text/html": [
       "<div>\n",
       "<style scoped>\n",
       "    .dataframe tbody tr th:only-of-type {\n",
       "        vertical-align: middle;\n",
       "    }\n",
       "\n",
       "    .dataframe tbody tr th {\n",
       "        vertical-align: top;\n",
       "    }\n",
       "\n",
       "    .dataframe thead th {\n",
       "        text-align: right;\n",
       "    }\n",
       "</style>\n",
       "<table border=\"1\" class=\"dataframe\">\n",
       "  <thead>\n",
       "    <tr style=\"text-align: right;\">\n",
       "      <th></th>\n",
       "      <th>month</th>\n",
       "      <th>x32</th>\n",
       "      <th>x37</th>\n",
       "      <th>y</th>\n",
       "      <th>Total</th>\n",
       "      <th>CalculatedTotal</th>\n",
       "      <th>37TotalPerc</th>\n",
       "    </tr>\n",
       "  </thead>\n",
       "  <tbody>\n",
       "    <tr>\n",
       "      <th>month</th>\n",
       "      <td>1.000000</td>\n",
       "      <td>-0.002892</td>\n",
       "      <td>0.001102</td>\n",
       "      <td>-0.000853</td>\n",
       "      <td>0.003646</td>\n",
       "      <td>0.001312</td>\n",
       "      <td>-0.003437</td>\n",
       "    </tr>\n",
       "    <tr>\n",
       "      <th>x32</th>\n",
       "      <td>-0.002892</td>\n",
       "      <td>1.000000</td>\n",
       "      <td>-0.325329</td>\n",
       "      <td>-0.005803</td>\n",
       "      <td>-0.330493</td>\n",
       "      <td>-0.334341</td>\n",
       "      <td>-0.000660</td>\n",
       "    </tr>\n",
       "    <tr>\n",
       "      <th>x37</th>\n",
       "      <td>0.001102</td>\n",
       "      <td>-0.325329</td>\n",
       "      <td>1.000000</td>\n",
       "      <td>0.055002</td>\n",
       "      <td>0.612699</td>\n",
       "      <td>0.998342</td>\n",
       "      <td>-0.001158</td>\n",
       "    </tr>\n",
       "    <tr>\n",
       "      <th>y</th>\n",
       "      <td>-0.000853</td>\n",
       "      <td>-0.005803</td>\n",
       "      <td>0.055002</td>\n",
       "      <td>1.000000</td>\n",
       "      <td>0.054696</td>\n",
       "      <td>0.056439</td>\n",
       "      <td>-0.003723</td>\n",
       "    </tr>\n",
       "    <tr>\n",
       "      <th>Total</th>\n",
       "      <td>0.003646</td>\n",
       "      <td>-0.330493</td>\n",
       "      <td>0.612699</td>\n",
       "      <td>0.054696</td>\n",
       "      <td>1.000000</td>\n",
       "      <td>0.657168</td>\n",
       "      <td>-0.001270</td>\n",
       "    </tr>\n",
       "    <tr>\n",
       "      <th>CalculatedTotal</th>\n",
       "      <td>0.001312</td>\n",
       "      <td>-0.334341</td>\n",
       "      <td>0.998342</td>\n",
       "      <td>0.056439</td>\n",
       "      <td>0.657168</td>\n",
       "      <td>1.000000</td>\n",
       "      <td>-0.001197</td>\n",
       "    </tr>\n",
       "    <tr>\n",
       "      <th>37TotalPerc</th>\n",
       "      <td>-0.003437</td>\n",
       "      <td>-0.000660</td>\n",
       "      <td>-0.001158</td>\n",
       "      <td>-0.003723</td>\n",
       "      <td>-0.001270</td>\n",
       "      <td>-0.001197</td>\n",
       "      <td>1.000000</td>\n",
       "    </tr>\n",
       "  </tbody>\n",
       "</table>\n",
       "</div>"
      ],
      "text/plain": [
       "                    month       x32       x37         y     Total  \\\n",
       "month            1.000000 -0.002892  0.001102 -0.000853  0.003646   \n",
       "x32             -0.002892  1.000000 -0.325329 -0.005803 -0.330493   \n",
       "x37              0.001102 -0.325329  1.000000  0.055002  0.612699   \n",
       "y               -0.000853 -0.005803  0.055002  1.000000  0.054696   \n",
       "Total            0.003646 -0.330493  0.612699  0.054696  1.000000   \n",
       "CalculatedTotal  0.001312 -0.334341  0.998342  0.056439  0.657168   \n",
       "37TotalPerc     -0.003437 -0.000660 -0.001158 -0.003723 -0.001270   \n",
       "\n",
       "                 CalculatedTotal  37TotalPerc  \n",
       "month                   0.001312    -0.003437  \n",
       "x32                    -0.334341    -0.000660  \n",
       "x37                     0.998342    -0.001158  \n",
       "y                       0.056439    -0.003723  \n",
       "Total                   0.657168    -0.001270  \n",
       "CalculatedTotal         1.000000    -0.001197  \n",
       "37TotalPerc            -0.001197     1.000000  "
      ]
     },
     "execution_count": 25,
     "metadata": {},
     "output_type": "execute_result"
    }
   ],
   "source": [
    "newdf.corr(method='pearson')"
   ]
  },
  {
   "cell_type": "code",
   "execution_count": 28,
   "metadata": {
    "collapsed": true
   },
   "outputs": [
    {
     "name": "stderr",
     "output_type": "stream",
     "text": [
      "C:\\Users\\jodip\\Anaconda3\\envs\\QTWFinal\\lib\\site-packages\\ipykernel_launcher.py:1: SettingWithCopyWarning: \n",
      "A value is trying to be set on a copy of a slice from a DataFrame.\n",
      "Try using .loc[row_indexer,col_indexer] = value instead\n",
      "\n",
      "See the caveats in the documentation: http://pandas.pydata.org/pandas-docs/stable/user_guide/indexing.html#returning-a-view-versus-a-copy\n",
      "  \"\"\"Entry point for launching an IPython kernel.\n"
     ]
    },
    {
     "data": {
      "text/html": [
       "<div>\n",
       "<style scoped>\n",
       "    .dataframe tbody tr th:only-of-type {\n",
       "        vertical-align: middle;\n",
       "    }\n",
       "\n",
       "    .dataframe tbody tr th {\n",
       "        vertical-align: top;\n",
       "    }\n",
       "\n",
       "    .dataframe thead th {\n",
       "        text-align: right;\n",
       "    }\n",
       "</style>\n",
       "<table border=\"1\" class=\"dataframe\">\n",
       "  <thead>\n",
       "    <tr style=\"text-align: right;\">\n",
       "      <th></th>\n",
       "      <th>continent</th>\n",
       "      <th>month</th>\n",
       "      <th>day</th>\n",
       "      <th>x32</th>\n",
       "      <th>x37</th>\n",
       "      <th>y</th>\n",
       "      <th>Total</th>\n",
       "      <th>CalculatedTotal</th>\n",
       "      <th>37TotalPerc</th>\n",
       "      <th>MultPer</th>\n",
       "    </tr>\n",
       "  </thead>\n",
       "  <tbody>\n",
       "    <tr>\n",
       "      <th>0</th>\n",
       "      <td>europe</td>\n",
       "      <td>7</td>\n",
       "      <td>tuesday</td>\n",
       "      <td>0.0000</td>\n",
       "      <td>1313.96</td>\n",
       "      <td>0</td>\n",
       "      <td>39.629492</td>\n",
       "      <td>1353.589492</td>\n",
       "      <td>0.030160</td>\n",
       "      <td>0.000000</td>\n",
       "    </tr>\n",
       "    <tr>\n",
       "      <th>1</th>\n",
       "      <td>asia</td>\n",
       "      <td>8</td>\n",
       "      <td>wednesday</td>\n",
       "      <td>-0.0002</td>\n",
       "      <td>1962.78</td>\n",
       "      <td>0</td>\n",
       "      <td>149.249956</td>\n",
       "      <td>2112.029956</td>\n",
       "      <td>0.076040</td>\n",
       "      <td>-0.422406</td>\n",
       "    </tr>\n",
       "    <tr>\n",
       "      <th>2</th>\n",
       "      <td>asia</td>\n",
       "      <td>7</td>\n",
       "      <td>wednesday</td>\n",
       "      <td>-0.0001</td>\n",
       "      <td>430.47</td>\n",
       "      <td>0</td>\n",
       "      <td>56.054797</td>\n",
       "      <td>486.524797</td>\n",
       "      <td>0.130218</td>\n",
       "      <td>-0.048652</td>\n",
       "    </tr>\n",
       "  </tbody>\n",
       "</table>\n",
       "</div>"
      ],
      "text/plain": [
       "  continent  month        day     x32      x37  y       Total  \\\n",
       "0    europe      7    tuesday  0.0000  1313.96  0   39.629492   \n",
       "1      asia      8  wednesday -0.0002  1962.78  0  149.249956   \n",
       "2      asia      7  wednesday -0.0001   430.47  0   56.054797   \n",
       "\n",
       "   CalculatedTotal  37TotalPerc   MultPer  \n",
       "0      1353.589492     0.030160  0.000000  \n",
       "1      2112.029956     0.076040 -0.422406  \n",
       "2       486.524797     0.130218 -0.048652  "
      ]
     },
     "execution_count": 28,
     "metadata": {},
     "output_type": "execute_result"
    }
   ],
   "source": [
    "newdf['MultPer']=newdf.CalculatedTotal*newdf.x32\n",
    "newdf.head(3)"
   ]
  },
  {
   "cell_type": "code",
   "execution_count": 22,
   "metadata": {},
   "outputs": [
    {
     "data": {
      "text/html": [
       "<div>\n",
       "<style scoped>\n",
       "    .dataframe tbody tr th:only-of-type {\n",
       "        vertical-align: middle;\n",
       "    }\n",
       "\n",
       "    .dataframe tbody tr th {\n",
       "        vertical-align: top;\n",
       "    }\n",
       "\n",
       "    .dataframe thead th {\n",
       "        text-align: right;\n",
       "    }\n",
       "</style>\n",
       "<table border=\"1\" class=\"dataframe\">\n",
       "  <thead>\n",
       "    <tr style=\"text-align: right;\">\n",
       "      <th></th>\n",
       "      <th>continent</th>\n",
       "      <th>month</th>\n",
       "      <th>day</th>\n",
       "      <th>x32</th>\n",
       "      <th>x37</th>\n",
       "      <th>y</th>\n",
       "      <th>Total</th>\n",
       "      <th>CalculatedTotal</th>\n",
       "      <th>Total37Perc</th>\n",
       "    </tr>\n",
       "  </thead>\n",
       "  <tbody>\n",
       "    <tr>\n",
       "      <th>0</th>\n",
       "      <td>europe</td>\n",
       "      <td>7</td>\n",
       "      <td>tuesday</td>\n",
       "      <td>0.0000</td>\n",
       "      <td>1313.96</td>\n",
       "      <td>0</td>\n",
       "      <td>39.629492</td>\n",
       "      <td>1353.589492</td>\n",
       "      <td>0.030160</td>\n",
       "    </tr>\n",
       "    <tr>\n",
       "      <th>1</th>\n",
       "      <td>asia</td>\n",
       "      <td>8</td>\n",
       "      <td>wednesday</td>\n",
       "      <td>-0.0002</td>\n",
       "      <td>1962.78</td>\n",
       "      <td>0</td>\n",
       "      <td>149.249956</td>\n",
       "      <td>2112.029956</td>\n",
       "      <td>0.076040</td>\n",
       "    </tr>\n",
       "    <tr>\n",
       "      <th>2</th>\n",
       "      <td>asia</td>\n",
       "      <td>7</td>\n",
       "      <td>wednesday</td>\n",
       "      <td>-0.0001</td>\n",
       "      <td>430.47</td>\n",
       "      <td>0</td>\n",
       "      <td>56.054797</td>\n",
       "      <td>486.524797</td>\n",
       "      <td>0.130218</td>\n",
       "    </tr>\n",
       "  </tbody>\n",
       "</table>\n",
       "</div>"
      ],
      "text/plain": [
       "  continent  month        day     x32      x37  y       Total  \\\n",
       "0    europe      7    tuesday  0.0000  1313.96  0   39.629492   \n",
       "1      asia      8  wednesday -0.0002  1962.78  0  149.249956   \n",
       "2      asia      7  wednesday -0.0001   430.47  0   56.054797   \n",
       "\n",
       "   CalculatedTotal  Total37Perc  \n",
       "0      1353.589492     0.030160  \n",
       "1      2112.029956     0.076040  \n",
       "2       486.524797     0.130218  "
      ]
     },
     "execution_count": 22,
     "metadata": {},
     "output_type": "execute_result"
    }
   ],
   "source": [
    "calcdf=newdf.assign(CalculatedTotal=lambda x: newdf['x37']+newdf['Total'],\n",
    "             Total37Perc=lambda x: newdf['Total']/newdf['x37'])\n",
    "calcdf.head(3)"
   ]
  },
  {
   "cell_type": "code",
   "execution_count": 24,
   "metadata": {
    "scrolled": true
   },
   "outputs": [
    {
     "data": {
      "text/html": [
       "<div>\n",
       "<style scoped>\n",
       "    .dataframe tbody tr th:only-of-type {\n",
       "        vertical-align: middle;\n",
       "    }\n",
       "\n",
       "    .dataframe tbody tr th {\n",
       "        vertical-align: top;\n",
       "    }\n",
       "\n",
       "    .dataframe thead th {\n",
       "        text-align: right;\n",
       "    }\n",
       "</style>\n",
       "<table border=\"1\" class=\"dataframe\">\n",
       "  <thead>\n",
       "    <tr style=\"text-align: right;\">\n",
       "      <th></th>\n",
       "      <th>continent</th>\n",
       "      <th>month</th>\n",
       "      <th>day</th>\n",
       "      <th>x32</th>\n",
       "      <th>x37</th>\n",
       "      <th>y</th>\n",
       "      <th>Total</th>\n",
       "      <th>CalculatedTotal</th>\n",
       "      <th>Total37Perc</th>\n",
       "      <th>MultPerc</th>\n",
       "    </tr>\n",
       "  </thead>\n",
       "  <tbody>\n",
       "    <tr>\n",
       "      <th>0</th>\n",
       "      <td>europe</td>\n",
       "      <td>7</td>\n",
       "      <td>tuesday</td>\n",
       "      <td>0.0000</td>\n",
       "      <td>1313.96</td>\n",
       "      <td>0</td>\n",
       "      <td>39.629492</td>\n",
       "      <td>1353.589492</td>\n",
       "      <td>0.030160</td>\n",
       "      <td>0.000000</td>\n",
       "    </tr>\n",
       "    <tr>\n",
       "      <th>1</th>\n",
       "      <td>asia</td>\n",
       "      <td>8</td>\n",
       "      <td>wednesday</td>\n",
       "      <td>-0.0002</td>\n",
       "      <td>1962.78</td>\n",
       "      <td>0</td>\n",
       "      <td>149.249956</td>\n",
       "      <td>2112.029956</td>\n",
       "      <td>0.076040</td>\n",
       "      <td>-0.422406</td>\n",
       "    </tr>\n",
       "    <tr>\n",
       "      <th>2</th>\n",
       "      <td>asia</td>\n",
       "      <td>7</td>\n",
       "      <td>wednesday</td>\n",
       "      <td>-0.0001</td>\n",
       "      <td>430.47</td>\n",
       "      <td>0</td>\n",
       "      <td>56.054797</td>\n",
       "      <td>486.524797</td>\n",
       "      <td>0.130218</td>\n",
       "      <td>-0.048652</td>\n",
       "    </tr>\n",
       "  </tbody>\n",
       "</table>\n",
       "</div>"
      ],
      "text/plain": [
       "  continent  month        day     x32      x37  y       Total  \\\n",
       "0    europe      7    tuesday  0.0000  1313.96  0   39.629492   \n",
       "1      asia      8  wednesday -0.0002  1962.78  0  149.249956   \n",
       "2      asia      7  wednesday -0.0001   430.47  0   56.054797   \n",
       "\n",
       "   CalculatedTotal  Total37Perc  MultPerc  \n",
       "0      1353.589492     0.030160  0.000000  \n",
       "1      2112.029956     0.076040 -0.422406  \n",
       "2       486.524797     0.130218 -0.048652  "
      ]
     },
     "execution_count": 24,
     "metadata": {},
     "output_type": "execute_result"
    }
   ],
   "source": [
    "calc2df=calcdf.assign(MultPerc=lambda x: calcdf['CalculatedTotal']*calcdf['x32'])\n",
    "calc2df.head(3)"
   ]
  },
  {
   "cell_type": "code",
   "execution_count": 25,
   "metadata": {},
   "outputs": [
    {
     "data": {
      "text/html": [
       "<div>\n",
       "<style scoped>\n",
       "    .dataframe tbody tr th:only-of-type {\n",
       "        vertical-align: middle;\n",
       "    }\n",
       "\n",
       "    .dataframe tbody tr th {\n",
       "        vertical-align: top;\n",
       "    }\n",
       "\n",
       "    .dataframe thead th {\n",
       "        text-align: right;\n",
       "    }\n",
       "</style>\n",
       "<table border=\"1\" class=\"dataframe\">\n",
       "  <thead>\n",
       "    <tr style=\"text-align: right;\">\n",
       "      <th></th>\n",
       "      <th>month</th>\n",
       "      <th>x32</th>\n",
       "      <th>x37</th>\n",
       "      <th>y</th>\n",
       "      <th>Total</th>\n",
       "      <th>CalculatedTotal</th>\n",
       "      <th>Total37Perc</th>\n",
       "      <th>MultPerc</th>\n",
       "    </tr>\n",
       "  </thead>\n",
       "  <tbody>\n",
       "    <tr>\n",
       "      <th>month</th>\n",
       "      <td>1.000000</td>\n",
       "      <td>-0.002892</td>\n",
       "      <td>0.001102</td>\n",
       "      <td>-0.000853</td>\n",
       "      <td>0.003646</td>\n",
       "      <td>0.001312</td>\n",
       "      <td>-0.003437</td>\n",
       "      <td>0.002527</td>\n",
       "    </tr>\n",
       "    <tr>\n",
       "      <th>x32</th>\n",
       "      <td>-0.002892</td>\n",
       "      <td>1.000000</td>\n",
       "      <td>-0.325329</td>\n",
       "      <td>-0.005803</td>\n",
       "      <td>-0.330493</td>\n",
       "      <td>-0.334341</td>\n",
       "      <td>-0.000660</td>\n",
       "      <td>0.081212</td>\n",
       "    </tr>\n",
       "    <tr>\n",
       "      <th>x37</th>\n",
       "      <td>0.001102</td>\n",
       "      <td>-0.325329</td>\n",
       "      <td>1.000000</td>\n",
       "      <td>0.055002</td>\n",
       "      <td>0.612699</td>\n",
       "      <td>0.998342</td>\n",
       "      <td>-0.001158</td>\n",
       "      <td>-0.079124</td>\n",
       "    </tr>\n",
       "    <tr>\n",
       "      <th>y</th>\n",
       "      <td>-0.000853</td>\n",
       "      <td>-0.005803</td>\n",
       "      <td>0.055002</td>\n",
       "      <td>1.000000</td>\n",
       "      <td>0.054696</td>\n",
       "      <td>0.056439</td>\n",
       "      <td>-0.003723</td>\n",
       "      <td>-0.039051</td>\n",
       "    </tr>\n",
       "    <tr>\n",
       "      <th>Total</th>\n",
       "      <td>0.003646</td>\n",
       "      <td>-0.330493</td>\n",
       "      <td>0.612699</td>\n",
       "      <td>0.054696</td>\n",
       "      <td>1.000000</td>\n",
       "      <td>0.657168</td>\n",
       "      <td>-0.001270</td>\n",
       "      <td>0.011983</td>\n",
       "    </tr>\n",
       "    <tr>\n",
       "      <th>CalculatedTotal</th>\n",
       "      <td>0.001312</td>\n",
       "      <td>-0.334341</td>\n",
       "      <td>0.998342</td>\n",
       "      <td>0.056439</td>\n",
       "      <td>0.657168</td>\n",
       "      <td>1.000000</td>\n",
       "      <td>-0.001197</td>\n",
       "      <td>-0.074590</td>\n",
       "    </tr>\n",
       "    <tr>\n",
       "      <th>Total37Perc</th>\n",
       "      <td>-0.003437</td>\n",
       "      <td>-0.000660</td>\n",
       "      <td>-0.001158</td>\n",
       "      <td>-0.003723</td>\n",
       "      <td>-0.001270</td>\n",
       "      <td>-0.001197</td>\n",
       "      <td>1.000000</td>\n",
       "      <td>0.000250</td>\n",
       "    </tr>\n",
       "    <tr>\n",
       "      <th>MultPerc</th>\n",
       "      <td>0.002527</td>\n",
       "      <td>0.081212</td>\n",
       "      <td>-0.079124</td>\n",
       "      <td>-0.039051</td>\n",
       "      <td>0.011983</td>\n",
       "      <td>-0.074590</td>\n",
       "      <td>0.000250</td>\n",
       "      <td>1.000000</td>\n",
       "    </tr>\n",
       "  </tbody>\n",
       "</table>\n",
       "</div>"
      ],
      "text/plain": [
       "                    month       x32       x37         y     Total  \\\n",
       "month            1.000000 -0.002892  0.001102 -0.000853  0.003646   \n",
       "x32             -0.002892  1.000000 -0.325329 -0.005803 -0.330493   \n",
       "x37              0.001102 -0.325329  1.000000  0.055002  0.612699   \n",
       "y               -0.000853 -0.005803  0.055002  1.000000  0.054696   \n",
       "Total            0.003646 -0.330493  0.612699  0.054696  1.000000   \n",
       "CalculatedTotal  0.001312 -0.334341  0.998342  0.056439  0.657168   \n",
       "Total37Perc     -0.003437 -0.000660 -0.001158 -0.003723 -0.001270   \n",
       "MultPerc         0.002527  0.081212 -0.079124 -0.039051  0.011983   \n",
       "\n",
       "                 CalculatedTotal  Total37Perc  MultPerc  \n",
       "month                   0.001312    -0.003437  0.002527  \n",
       "x32                    -0.334341    -0.000660  0.081212  \n",
       "x37                     0.998342    -0.001158 -0.079124  \n",
       "y                       0.056439    -0.003723 -0.039051  \n",
       "Total                   0.657168    -0.001270  0.011983  \n",
       "CalculatedTotal         1.000000    -0.001197 -0.074590  \n",
       "Total37Perc            -0.001197     1.000000  0.000250  \n",
       "MultPerc               -0.074590     0.000250  1.000000  "
      ]
     },
     "execution_count": 25,
     "metadata": {},
     "output_type": "execute_result"
    }
   ],
   "source": [
    "calc2df.corr(method='pearson')"
   ]
  },
  {
   "cell_type": "code",
   "execution_count": 28,
   "metadata": {},
   "outputs": [
    {
     "data": {
      "text/plain": [
       "<matplotlib.collections.PathCollection at 0x1d4b22aeb70>"
      ]
     },
     "execution_count": 28,
     "metadata": {},
     "output_type": "execute_result"
    },
    {
     "data": {
      "image/png": "[encoded data removed]",
      "text/plain": [
       "<Figure size 432x288 with 1 Axes>"
      ]
     },
     "metadata": {
      "needs_background": "light"
     },
     "output_type": "display_data"
    }
   ],
   "source": [
    "%matplotlib inline\n",
    "plt.scatter(calc2df.month, calc2df.x37,s=100, c=calc2df.y)"
   ]
  },
  {
   "cell_type": "code",
   "execution_count": 29,
   "metadata": {},
   "outputs": [
    {
     "data": {
      "text/plain": [
       "<matplotlib.collections.PathCollection at 0x1d4b237c320>"
      ]
     },
     "execution_count": 29,
     "metadata": {},
     "output_type": "execute_result"
    },
    {
     "data": {
      "image/png": "[encoded data removed]",
      "text/plain": [
       "<Figure size 432x288 with 1 Axes>"
      ]
     },
     "metadata": {
      "needs_background": "light"
     },
     "output_type": "display_data"
    }
   ],
   "source": [
    "plt.scatter(calc2df.month, calc2df.Total,s=100, c=calc2df.y)"
   ]
  },
  {
   "cell_type": "code",
   "execution_count": 31,
   "metadata": {},
   "outputs": [
    {
     "data": {
      "text/plain": [
       "<matplotlib.collections.PathCollection at 0x1d4b24afe48>"
      ]
     },
     "execution_count": 31,
     "metadata": {},
     "output_type": "execute_result"
    },
    {
     "data": {
      "image/png": "[encoded data removed]",
      "text/plain": [
       "<Figure size 432x288 with 1 Axes>"
      ]
     },
     "metadata": {
      "needs_background": "light"
     },
     "output_type": "display_data"
    }
   ],
   "source": [
    "plt.scatter(calc2df.month, calc2df.x32,s=80, c=calc2df.y)"
   ]
  },
  {
   "cell_type": "code",
   "execution_count": 33,
   "metadata": {},
   "outputs": [
    {
     "data": {
      "text/plain": [
       "<matplotlib.collections.PathCollection at 0x1d4b2565b00>"
      ]
     },
     "execution_count": 33,
     "metadata": {},
     "output_type": "execute_result"
    },
    {
     "data": {
      "image/png": "[encoded data removed]",
      "text/plain": [
       "<Figure size 432x288 with 1 Axes>"
      ]
     },
     "metadata": {
      "needs_background": "light"
     },
     "output_type": "display_data"
    }
   ],
   "source": [
    "plt.scatter(calc2df.CalculatedTotal, calc2df.Total,s=80, c=calc2df.y)"
   ]
  },
  {
   "cell_type": "code",
   "execution_count": 35,
   "metadata": {},
   "outputs": [
    {
     "data": {
      "text/plain": [
       "<matplotlib.collections.PathCollection at 0x1d4b260def0>"
      ]
     },
     "execution_count": 35,
     "metadata": {},
     "output_type": "execute_result"
    },
    {
     "data": {
      "image/png": "[encoded data removed]",
      "text/plain": [
       "<Figure size 432x288 with 1 Axes>"
      ]
     },
     "metadata": {
      "needs_background": "light"
     },
     "output_type": "display_data"
    }
   ],
   "source": [
    "plt.scatter(calc2df.Total37Perc, calc2df.x32,s=80, c=calc2df.y)"
   ]
  },
  {
   "cell_type": "code",
   "execution_count": null,
   "metadata": {},
   "outputs": [],
   "source": []
  }
 ],
 "metadata": {
  "kernelspec": {
   "display_name": "Python 3",
   "language": "python",
   "name": "python3"
  },
  "language_info": {
   "codemirror_mode": {
    "name": "ipython",
    "version": 3
   },
   "file_extension": ".py",
   "mimetype": "text/x-python",
   "name": "python",
   "nbconvert_exporter": "python",
   "pygments_lexer": "ipython3",
   "version": "3.7.3"
  }
 },
 "nbformat": 4,
 "nbformat_minor": 2
}
