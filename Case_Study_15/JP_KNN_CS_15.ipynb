{
 "cells": [
  {
   "cell_type": "code",
   "execution_count": 23,
   "metadata": {},
   "outputs": [],
   "source": [
    "import tkinter\n",
    "import matplotlib\n",
    "matplotlib.use('TkAgg')\n",
    "import matplotlib.pyplot as plt\n",
    "#import tensorflow as tf\n",
    "#from tensorflow.keras import layers\n",
    "#from tensorflow.keras import metrics\n",
    "from sklearn import datasets\n",
    "import pandas as pd\n",
    "import numpy as np\n",
    "#import pandas_profiling as pp\n",
    "import re\n",
    "from sklearn.metrics import classification_report, confusion_matrix\n",
    "from sklearn.model_selection import train_test_split\n",
    "from sklearn.preprocessing import StandardScaler\n",
    "from sklearn.neighbors import KNeighborsClassifier\n",
    "from sklearn import metrics\n",
    "%matplotlib inline"
   ]
  },
  {
   "cell_type": "markdown",
   "metadata": {},
   "source": [
    "## Load and Clean Data"
   ]
  },
  {
   "cell_type": "code",
   "execution_count": 2,
   "metadata": {},
   "outputs": [
    {
     "name": "stdout",
     "output_type": "stream",
     "text": [
      "160000\n"
     ]
    }
   ],
   "source": [
    "# Read in CSV\n",
    "df = pd.read_csv(\"final_project.csv\")\n",
    "print(len(df))"
   ]
  },
  {
   "cell_type": "code",
   "execution_count": 3,
   "metadata": {
    "scrolled": true
   },
   "outputs": [],
   "source": [
    "# Rename obvious columns\n",
    "df.rename(columns={'x24': 'continent', 'x29': 'month', 'x30': 'day'}, inplace = True)\n",
    "#list(df.columns) "
   ]
  },
  {
   "cell_type": "code",
   "execution_count": 4,
   "metadata": {},
   "outputs": [],
   "source": [
    "# initialize temp for x37 column\n",
    "temp_x37 = []\n",
    "\n",
    "# Remove $ ) , characters and replace '(' with '-' \n",
    "for i in range (0,len(df)) :\n",
    "    try :\n",
    "        n = df['x37'][i]\n",
    "        nstr = re.sub(r'[$|,|)]',r'', n)\n",
    "        nstr = re.sub(r'[(]',r'-',nstr)\n",
    "        #nstr= float(nstr)\n",
    "        temp_x37.append(nstr)\n",
    "    except :\n",
    "        nstr = ''\n",
    "        temp_x37.append(nstr)"
   ]
  },
  {
   "cell_type": "code",
   "execution_count": 5,
   "metadata": {},
   "outputs": [
    {
     "name": "stdout",
     "output_type": "stream",
     "text": [
      "160000\n",
      "160000\n"
     ]
    },
    {
     "data": {
      "text/plain": [
       "0         1313.96\n",
       "1         1962.78\n",
       "2          430.47\n",
       "3        -2366.29\n",
       "4         -620.66\n",
       "5         -196.45\n",
       "6         -241.04\n",
       "7          621.35\n",
       "8         -301.89\n",
       "9         -484.09\n",
       "10        -106.65\n",
       "11        -622.76\n",
       "12         545.55\n",
       "13        1019.08\n",
       "14         960.95\n",
       "15         299.52\n",
       "16          72.83\n",
       "17         -12.09\n",
       "18        1074.27\n",
       "19        -426.46\n",
       "20        -710.18\n",
       "21         370.01\n",
       "22       -1199.52\n",
       "23         -12.09\n",
       "24        2158.38\n",
       "25        -464.60\n",
       "26        -526.08\n",
       "27       -1321.42\n",
       "28         771.15\n",
       "29          41.97\n",
       "           ...   \n",
       "159970     954.38\n",
       "159971     621.19\n",
       "159972    1032.85\n",
       "159973     729.11\n",
       "159974    -167.10\n",
       "159975     -33.14\n",
       "159976    -409.63\n",
       "159977    -126.15\n",
       "159978     191.61\n",
       "159979   -1356.91\n",
       "159980     599.35\n",
       "159981    -613.38\n",
       "159982    2251.59\n",
       "159983      -5.87\n",
       "159984     198.30\n",
       "159985   -1788.89\n",
       "159986    -118.39\n",
       "159987      15.62\n",
       "159988     134.18\n",
       "159989    -677.95\n",
       "159990   -1012.45\n",
       "159991   -1720.76\n",
       "159992   -1177.33\n",
       "159993    -818.32\n",
       "159994    -823.35\n",
       "159995    -891.96\n",
       "159996    1588.65\n",
       "159997     687.46\n",
       "159998     439.21\n",
       "159999   -1229.34\n",
       "Name: x37, Length: 160000, dtype: float64"
      ]
     },
     "execution_count": 5,
     "metadata": {},
     "output_type": "execute_result"
    }
   ],
   "source": [
    "# Verify len of both x37 matches\n",
    "print(len(df['x37']))\n",
    "print(len(temp_x37))\n",
    "\n",
    "# Replace 'x37' with new values and convert to numeric\n",
    "df['x37'] = temp_x37\n",
    "df[\"x37\"] = pd.to_numeric(df[\"x37\"])\n",
    "df['x37']"
   ]
  },
  {
   "cell_type": "code",
   "execution_count": 7,
   "metadata": {},
   "outputs": [
    {
     "name": "stdout",
     "output_type": "stream",
     "text": [
      "['europe' 'asia' 'america' nan]\n",
      "['7' '8' '6' '5' '9' '4' '11' '10' nan '3' '2' '12' '1']\n",
      "['tuesday' 'wednesday' 'thursday' 'monday' 'friday' nan]\n"
     ]
    }
   ],
   "source": [
    "# Correct misspellings and standardize values in labeled columns\n",
    "df['continent'].replace('euorpe', 'europe',inplace=True)\n",
    "df['month'].replace('Dev', '12',inplace=True)\n",
    "df['month'].replace('Aug', '8',inplace=True)\n",
    "df['month'].replace('Jun', '6',inplace=True)\n",
    "df['month'].replace('Apr', '4',inplace=True)\n",
    "df['month'].replace('Nov', '11',inplace=True)\n",
    "df['month'].replace('sept.', '9',inplace=True)\n",
    "df['month'].replace('Oct', '10',inplace=True)\n",
    "df['month'].replace('Mar', '3',inplace=True)\n",
    "df['month'].replace('January', '1',inplace=True)\n",
    "df['month'].replace('Feb', '2',inplace=True)\n",
    "df['month'].replace('May', '5',inplace=True)\n",
    "df['month'].replace('July', '7',inplace=True)\n",
    "df['month'].replace('December', '12',inplace=True)\n",
    "df['month'].replace('August', '8',inplace=True)\n",
    "df['month'].replace('June', '6',inplace=True)\n",
    "df['month'].replace('April', '4',inplace=True)\n",
    "df['month'].replace('November', '11',inplace=True)\n",
    "df['month'].replace('September', '9',inplace=True)\n",
    "df['month'].replace('October', '10',inplace=True)\n",
    "df['month'].replace('March', '3',inplace=True)\n",
    "df['day'].replace('thurday', 'thursday',inplace=True)\n",
    "\n",
    "\n",
    "\n",
    "# check unique values in labeled columns\n",
    "print (df['continent'].unique())\n",
    "print (df['month'].unique())\n",
    "print (df['day'].unique())"
   ]
  },
  {
   "cell_type": "code",
   "execution_count": 8,
   "metadata": {},
   "outputs": [],
   "source": [
    "#Remove % sign from x32\n",
    "df['x32']=(df['x32'].str.rstrip('%').astype('float'))"
   ]
  },
  {
   "cell_type": "code",
   "execution_count": 9,
   "metadata": {},
   "outputs": [],
   "source": [
    "# Testing with complete data set - Drop continent, x41, x6 per EDA suggestion.\n",
    "# Need to drop day, month, x32 since it's categorical\n",
    "knn_df = df.drop(['x41', 'x6', 'continent', 'day','x32'], axis=1)\n",
    "\n",
    "#Fill NA with mean\n",
    "knn_df=knn_df.fillna(df.mean())\n",
    "\n",
    "#Drop any row with NA\n",
    "knn_df=knn_df.dropna()"
   ]
  },
  {
   "cell_type": "code",
   "execution_count": 11,
   "metadata": {},
   "outputs": [
    {
     "data": {
      "text/html": [
       "<div>\n",
       "<style scoped>\n",
       "    .dataframe tbody tr th:only-of-type {\n",
       "        vertical-align: middle;\n",
       "    }\n",
       "\n",
       "    .dataframe tbody tr th {\n",
       "        vertical-align: top;\n",
       "    }\n",
       "\n",
       "    .dataframe thead th {\n",
       "        text-align: right;\n",
       "    }\n",
       "</style>\n",
       "<table border=\"1\" class=\"dataframe\">\n",
       "  <thead>\n",
       "    <tr style=\"text-align: right;\">\n",
       "      <th></th>\n",
       "      <th>x0</th>\n",
       "      <th>x1</th>\n",
       "      <th>x2</th>\n",
       "      <th>x3</th>\n",
       "      <th>x4</th>\n",
       "      <th>x5</th>\n",
       "      <th>x7</th>\n",
       "      <th>x8</th>\n",
       "      <th>x9</th>\n",
       "      <th>x10</th>\n",
       "      <th>...</th>\n",
       "      <th>x40</th>\n",
       "      <th>x42</th>\n",
       "      <th>x43</th>\n",
       "      <th>x44</th>\n",
       "      <th>x45</th>\n",
       "      <th>x46</th>\n",
       "      <th>x47</th>\n",
       "      <th>x48</th>\n",
       "      <th>x49</th>\n",
       "      <th>y</th>\n",
       "    </tr>\n",
       "  </thead>\n",
       "  <tbody>\n",
       "    <tr>\n",
       "      <th>0</th>\n",
       "      <td>-0.166563</td>\n",
       "      <td>-3.961588</td>\n",
       "      <td>4.621113</td>\n",
       "      <td>2.481908</td>\n",
       "      <td>-1.800135</td>\n",
       "      <td>0.804684</td>\n",
       "      <td>-14.789997</td>\n",
       "      <td>-1.040673</td>\n",
       "      <td>-4.204950</td>\n",
       "      <td>6.187465</td>\n",
       "      <td>...</td>\n",
       "      <td>-10.612200</td>\n",
       "      <td>5.414063</td>\n",
       "      <td>-2.325655</td>\n",
       "      <td>1.674827</td>\n",
       "      <td>-0.264332</td>\n",
       "      <td>60.781427</td>\n",
       "      <td>-7.689696</td>\n",
       "      <td>0.151589</td>\n",
       "      <td>-8.040166</td>\n",
       "      <td>0</td>\n",
       "    </tr>\n",
       "    <tr>\n",
       "      <th>1</th>\n",
       "      <td>-0.149894</td>\n",
       "      <td>-0.585676</td>\n",
       "      <td>27.839856</td>\n",
       "      <td>4.152333</td>\n",
       "      <td>6.426802</td>\n",
       "      <td>-2.426943</td>\n",
       "      <td>-6.725709</td>\n",
       "      <td>0.896421</td>\n",
       "      <td>0.330165</td>\n",
       "      <td>-11.708859</td>\n",
       "      <td>...</td>\n",
       "      <td>2.147427</td>\n",
       "      <td>4.490915</td>\n",
       "      <td>0.762561</td>\n",
       "      <td>6.526662</td>\n",
       "      <td>1.007927</td>\n",
       "      <td>15.805696</td>\n",
       "      <td>-4.896678</td>\n",
       "      <td>-0.320283</td>\n",
       "      <td>16.719974</td>\n",
       "      <td>0</td>\n",
       "    </tr>\n",
       "    <tr>\n",
       "      <th>2</th>\n",
       "      <td>-0.321707</td>\n",
       "      <td>-1.429819</td>\n",
       "      <td>12.251561</td>\n",
       "      <td>6.586874</td>\n",
       "      <td>-5.304647</td>\n",
       "      <td>-11.311090</td>\n",
       "      <td>11.060572</td>\n",
       "      <td>5.325880</td>\n",
       "      <td>-2.632984</td>\n",
       "      <td>1.572647</td>\n",
       "      <td>...</td>\n",
       "      <td>-0.863137</td>\n",
       "      <td>9.088864</td>\n",
       "      <td>-0.689886</td>\n",
       "      <td>-2.731118</td>\n",
       "      <td>0.754200</td>\n",
       "      <td>30.856417</td>\n",
       "      <td>-7.428573</td>\n",
       "      <td>-2.090804</td>\n",
       "      <td>-7.869421</td>\n",
       "      <td>0</td>\n",
       "    </tr>\n",
       "    <tr>\n",
       "      <th>3</th>\n",
       "      <td>-0.245594</td>\n",
       "      <td>5.076677</td>\n",
       "      <td>-24.149632</td>\n",
       "      <td>3.637307</td>\n",
       "      <td>6.505811</td>\n",
       "      <td>2.290224</td>\n",
       "      <td>-18.913592</td>\n",
       "      <td>-0.337041</td>\n",
       "      <td>-5.568076</td>\n",
       "      <td>-2.000255</td>\n",
       "      <td>...</td>\n",
       "      <td>12.084421</td>\n",
       "      <td>-7.467775</td>\n",
       "      <td>2.940789</td>\n",
       "      <td>-6.424112</td>\n",
       "      <td>0.419776</td>\n",
       "      <td>-72.424569</td>\n",
       "      <td>5.361375</td>\n",
       "      <td>1.806070</td>\n",
       "      <td>-7.670847</td>\n",
       "      <td>0</td>\n",
       "    </tr>\n",
       "    <tr>\n",
       "      <th>4</th>\n",
       "      <td>-0.273366</td>\n",
       "      <td>0.306326</td>\n",
       "      <td>-11.352593</td>\n",
       "      <td>1.676758</td>\n",
       "      <td>2.928441</td>\n",
       "      <td>-0.616824</td>\n",
       "      <td>27.532281</td>\n",
       "      <td>1.199715</td>\n",
       "      <td>-4.309105</td>\n",
       "      <td>6.667530</td>\n",
       "      <td>...</td>\n",
       "      <td>30.004727</td>\n",
       "      <td>-5.229937</td>\n",
       "      <td>1.783928</td>\n",
       "      <td>3.957801</td>\n",
       "      <td>-0.096988</td>\n",
       "      <td>-14.085435</td>\n",
       "      <td>-0.208351</td>\n",
       "      <td>-0.894942</td>\n",
       "      <td>15.724742</td>\n",
       "      <td>1</td>\n",
       "    </tr>\n",
       "  </tbody>\n",
       "</table>\n",
       "<p>5 rows × 46 columns</p>\n",
       "</div>"
      ],
      "text/plain": [
       "         x0        x1         x2        x3        x4         x5         x7  \\\n",
       "0 -0.166563 -3.961588   4.621113  2.481908 -1.800135   0.804684 -14.789997   \n",
       "1 -0.149894 -0.585676  27.839856  4.152333  6.426802  -2.426943  -6.725709   \n",
       "2 -0.321707 -1.429819  12.251561  6.586874 -5.304647 -11.311090  11.060572   \n",
       "3 -0.245594  5.076677 -24.149632  3.637307  6.505811   2.290224 -18.913592   \n",
       "4 -0.273366  0.306326 -11.352593  1.676758  2.928441  -0.616824  27.532281   \n",
       "\n",
       "         x8        x9        x10 ...        x40       x42       x43       x44  \\\n",
       "0 -1.040673 -4.204950   6.187465 ... -10.612200  5.414063 -2.325655  1.674827   \n",
       "1  0.896421  0.330165 -11.708859 ...   2.147427  4.490915  0.762561  6.526662   \n",
       "2  5.325880 -2.632984   1.572647 ...  -0.863137  9.088864 -0.689886 -2.731118   \n",
       "3 -0.337041 -5.568076  -2.000255 ...  12.084421 -7.467775  2.940789 -6.424112   \n",
       "4  1.199715 -4.309105   6.667530 ...  30.004727 -5.229937  1.783928  3.957801   \n",
       "\n",
       "        x45        x46       x47       x48        x49  y  \n",
       "0 -0.264332  60.781427 -7.689696  0.151589  -8.040166  0  \n",
       "1  1.007927  15.805696 -4.896678 -0.320283  16.719974  0  \n",
       "2  0.754200  30.856417 -7.428573 -2.090804  -7.869421  0  \n",
       "3  0.419776 -72.424569  5.361375  1.806070  -7.670847  0  \n",
       "4 -0.096988 -14.085435 -0.208351 -0.894942  15.724742  1  \n",
       "\n",
       "[5 rows x 46 columns]"
      ]
     },
     "execution_count": 11,
     "metadata": {},
     "output_type": "execute_result"
    }
   ],
   "source": [
    "knn_df.head()"
   ]
  },
  {
   "cell_type": "markdown",
   "metadata": {},
   "source": [
    "<hr>\n",
    "# KNN-dropNA-K=5\n",
    "Created a dataset with the following changes\n",
    "\n",
    "- dropped any rows with NA\n",
    "- removed categorical features\n",
    "- deleted x41 and x6 (per EDA suggestions)\n",
    "## Accuracy = 79%"
   ]
  },
  {
   "cell_type": "code",
   "execution_count": 16,
   "metadata": {},
   "outputs": [],
   "source": [
    "#Create x and y\n",
    "\n",
    "x=knn_df.iloc[:,0:45].values\n",
    "y=knn_df.iloc[:,-1].values"
   ]
  },
  {
   "cell_type": "code",
   "execution_count": 17,
   "metadata": {},
   "outputs": [],
   "source": [
    "#TrainTestSplit\n",
    "\n",
    "x_train, x_test, y_train, y_test = train_test_split(x, y, test_size=0.20)"
   ]
  },
  {
   "cell_type": "code",
   "execution_count": 18,
   "metadata": {},
   "outputs": [
    {
     "name": "stderr",
     "output_type": "stream",
     "text": [
      "C:\\Users\\jodip\\Anaconda3\\lib\\site-packages\\sklearn\\utils\\validation.py:475: DataConversionWarning: Data with input dtype object was converted to float64 by StandardScaler.\n",
      "  warnings.warn(msg, DataConversionWarning)\n"
     ]
    }
   ],
   "source": [
    "#feature scaling\n",
    "\n",
    "scaler=StandardScaler()\n",
    "scaler.fit(x_train)\n",
    "\n",
    "x_train = scaler.transform(x_train)\n",
    "x_test=scaler.transform(x_test)"
   ]
  },
  {
   "cell_type": "code",
   "execution_count": 19,
   "metadata": {},
   "outputs": [
    {
     "data": {
      "text/plain": [
       "KNeighborsClassifier(algorithm='auto', leaf_size=30, metric='minkowski',\n",
       "           metric_params=None, n_jobs=1, n_neighbors=5, p=2,\n",
       "           weights='uniform')"
      ]
     },
     "execution_count": 19,
     "metadata": {},
     "output_type": "execute_result"
    }
   ],
   "source": [
    "#Training and Predictions\n",
    "classifier = KNeighborsClassifier(n_neighbors=5)\n",
    "classifier.fit(x_train, y_train)"
   ]
  },
  {
   "cell_type": "code",
   "execution_count": 20,
   "metadata": {},
   "outputs": [],
   "source": [
    "y_pred=classifier.predict(x_test)"
   ]
  },
  {
   "cell_type": "code",
   "execution_count": 25,
   "metadata": {},
   "outputs": [
    {
     "name": "stdout",
     "output_type": "stream",
     "text": [
      "[[16495  2801]\n",
      " [ 3792  8906]]\n",
      "             precision    recall  f1-score   support\n",
      "\n",
      "          0       0.81      0.85      0.83     19296\n",
      "          1       0.76      0.70      0.73     12698\n",
      "\n",
      "avg / total       0.79      0.79      0.79     31994\n",
      "\n"
     ]
    }
   ],
   "source": [
    "#Evaluating Results\n",
    "print(confusion_matrix(y_test, y_pred))\n",
    "print(classification_report(y_test, y_pred))"
   ]
  },
  {
   "cell_type": "markdown",
   "metadata": {},
   "source": [
    "<hr>\n",
    "# KNN Loop K=1-25 to find best K value\n",
    "Created a dataset with the following changes\n",
    "\n",
    "- dropped any rows with NA\n",
    "- removed categorical features\n",
    "- deleted x41 and x6 (per EDA suggestions)\n",
    "- removed features that had a random forest importance < 0.04\n",
    "## Best value - K=7"
   ]
  },
  {
   "cell_type": "code",
   "execution_count": 26,
   "metadata": {},
   "outputs": [],
   "source": [
    "knn_importance_df = knn_df[['x23', 'x20', 'x48', 'x49', 'x38', 'x12', 'x42', 'x27','x40', 'x37','x28','x7','x2', 'x46', 'y']]"
   ]
  },
  {
   "cell_type": "code",
   "execution_count": 35,
   "metadata": {},
   "outputs": [],
   "source": [
    "#Create x and y\n",
    "\n",
    "x=knn_importance_df.iloc[:,0:14].values\n",
    "y=knn_importance_df.iloc[:,-1].values"
   ]
  },
  {
   "cell_type": "code",
   "execution_count": 39,
   "metadata": {},
   "outputs": [],
   "source": [
    "#TrainTestSplit\n",
    "\n",
    "x_train, x_test, y_train, y_test = train_test_split(x, y, test_size=0.20)"
   ]
  },
  {
   "cell_type": "code",
   "execution_count": 40,
   "metadata": {},
   "outputs": [],
   "source": [
    "#feature scaling\n",
    "\n",
    "scaler=StandardScaler()\n",
    "scaler.fit(x_train)\n",
    "\n",
    "x_train = scaler.transform(x_train)\n",
    "x_test=scaler.transform(x_test)"
   ]
  },
  {
   "cell_type": "code",
   "execution_count": 42,
   "metadata": {},
   "outputs": [
    {
     "name": "stdout",
     "output_type": "stream",
     "text": [
      "[0.9320185034694005, 0.9298305932362317, 0.946458711008314, 0.9445208476589361, 0.9494905294742765, 0.9484278302181659, 0.9500843908232793, 0.9490216915671689, 0.949771832218541, 0.9485215977995874, 0.9488966681252735, 0.948615365381009, 0.9492404825904858, 0.9488966681252735, 0.9488654122647997, 0.948209039194849, 0.9487716446833782, 0.9483653184972183, 0.9484903419391136, 0.9478652247296369, 0.9479277364505845, 0.9473963868225292, 0.9474588985434769, 0.9470213164968432, 0.9471775957992123]\n"
     ]
    }
   ],
   "source": [
    "#source: https://www.ritchieng.com/machine-learning-k-nearest-neighbors-knn/\n",
    "# try K=1 through K=25 and record testing accuracy\n",
    "k_range = range(1, 26)\n",
    "\n",
    "# We can create Python dictionary using [] or dict()\n",
    "scores = []\n",
    "\n",
    "for k in k_range:\n",
    "    knn = KNeighborsClassifier(n_neighbors=k)\n",
    "    knn.fit(x_train, y_train)\n",
    "    y_pred = knn.predict(x_test)\n",
    "    scores.append(metrics.accuracy_score(y_test, y_pred))\n",
    "\n",
    "print(scores)"
   ]
  },
  {
   "cell_type": "code",
   "execution_count": 44,
   "metadata": {},
   "outputs": [
    {
     "data": {
      "text/plain": [
       "Text(0, 0.5, 'Accuracy')"
      ]
     },
     "execution_count": 44,
     "metadata": {},
     "output_type": "execute_result"
    },
    {
     "data": {
      "image/png": "[encoded data removed]",
      "text/plain": [
       "<Figure size 864x432 with 1 Axes>"
      ]
     },
     "metadata": {},
     "output_type": "display_data"
    }
   ],
   "source": [
    "#Visualize it \n",
    "# Source: https://stackabuse.com/k-nearest-neighbors-algorithm-in-python-and-scikit-learn/\n",
    "\n",
    "plt.figure(figsize=(12, 6))\n",
    "plt.plot(range(1, 26), scores, color='red', linestyle='dashed', marker='o',\n",
    "         markerfacecolor='blue', markersize=10)\n",
    "plt.title('Accuracy By K Value')\n",
    "plt.xlabel('K Value')\n",
    "plt.ylabel('Accuracy')"
   ]
  },
  {
   "cell_type": "markdown",
   "metadata": {},
   "source": [
    "<hr> \n",
    "# KNN-K=7\n",
    "Ran model with K=7 per findings from loop above\n",
    "## Accuracy = 94.93%"
   ]
  },
  {
   "cell_type": "code",
   "execution_count": 45,
   "metadata": {},
   "outputs": [],
   "source": [
    "#Create x and y\n",
    "\n",
    "x=knn_importance_df.iloc[:,0:14].values\n",
    "y=knn_importance_df.iloc[:,-1].values"
   ]
  },
  {
   "cell_type": "code",
   "execution_count": 46,
   "metadata": {},
   "outputs": [],
   "source": [
    "#TrainTestSplit\n",
    "\n",
    "x_train, x_test, y_train, y_test = train_test_split(x, y, test_size=0.20)"
   ]
  },
  {
   "cell_type": "code",
   "execution_count": 47,
   "metadata": {},
   "outputs": [],
   "source": [
    "#feature scaling\n",
    "\n",
    "scaler=StandardScaler()\n",
    "scaler.fit(x_train)\n",
    "\n",
    "x_train = scaler.transform(x_train)\n",
    "x_test=scaler.transform(x_test)"
   ]
  },
  {
   "cell_type": "code",
   "execution_count": 48,
   "metadata": {},
   "outputs": [
    {
     "data": {
      "text/plain": [
       "KNeighborsClassifier(algorithm='auto', leaf_size=30, metric='minkowski',\n",
       "           metric_params=None, n_jobs=1, n_neighbors=7, p=2,\n",
       "           weights='uniform')"
      ]
     },
     "execution_count": 48,
     "metadata": {},
     "output_type": "execute_result"
    }
   ],
   "source": [
    "#Training and Predictions\n",
    "classifier = KNeighborsClassifier(n_neighbors=7)\n",
    "classifier.fit(x_train, y_train)"
   ]
  },
  {
   "cell_type": "code",
   "execution_count": 49,
   "metadata": {},
   "outputs": [],
   "source": [
    "y_pred=classifier.predict(x_test)"
   ]
  },
  {
   "cell_type": "code",
   "execution_count": 50,
   "metadata": {},
   "outputs": [
    {
     "name": "stdout",
     "output_type": "stream",
     "text": [
      "Accuracy: 0.9493655060323811\n",
      "[[18421   781]\n",
      " [  839 11953]]\n",
      "             precision    recall  f1-score   support\n",
      "\n",
      "          0       0.96      0.96      0.96     19202\n",
      "          1       0.94      0.93      0.94     12792\n",
      "\n",
      "avg / total       0.95      0.95      0.95     31994\n",
      "\n"
     ]
    }
   ],
   "source": [
    "#Evaluating Results\n",
    "print(\"Accuracy:\",metrics.accuracy_score(y_test, y_pred))\n",
    "print(confusion_matrix(y_test, y_pred))\n",
    "print(classification_report(y_test, y_pred))"
   ]
  },
  {
   "cell_type": "markdown",
   "metadata": {},
   "source": [
    "# YAY!!  Accuracy = 95%"
   ]
  },
  {
   "cell_type": "code",
   "execution_count": null,
   "metadata": {},
   "outputs": [],
   "source": []
  }
 ],
 "metadata": {
  "kernelspec": {
   "display_name": "Python 3",
   "language": "python",
   "name": "python3"
  },
  "language_info": {
   "codemirror_mode": {
    "name": "ipython",
    "version": 3
   },
   "file_extension": ".py",
   "mimetype": "text/x-python",
   "name": "python",
   "nbconvert_exporter": "python",
   "pygments_lexer": "ipython3",
   "version": "3.6.8"
  }
 },
 "nbformat": 4,
 "nbformat_minor": 2
}
